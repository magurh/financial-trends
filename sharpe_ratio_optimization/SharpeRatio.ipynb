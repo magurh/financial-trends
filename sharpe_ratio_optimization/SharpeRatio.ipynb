{
 "cells": [
  {
   "cell_type": "code",
   "execution_count": 1,
   "id": "0293388f-4a51-4a5e-b462-6d1ddc48a9a1",
   "metadata": {
    "tags": []
   },
   "outputs": [],
   "source": [
    "import numpy as np\n",
    "import pandas as pd\n",
    "import seaborn as sns\n",
    "import pingouin as pg\n",
    "from scipy import stats\n",
    "import matplotlib.pyplot as plt\n",
    "\n",
    "%matplotlib inline\n",
    "\n",
    "import statsmodels.api as sm\n",
    "import statsmodels.formula.api as smf\n",
    "\n",
    "import warnings\n",
    "warnings.filterwarnings(\"ignore\")\n",
    "\n",
    "import scipy.optimize as sci_opt\n",
    "import yfinance as yf\n",
    "import pandas_datareader\n",
    "import datetime as dt\n",
    "\n",
    "sns.set()\n",
    "# based on https://github.com/areed1192/portfolio-optimization/blob/master/samples/portfolio_optimization.ipynb"
   ]
  },
  {
   "cell_type": "markdown",
   "id": "6a460254-5311-4060-9891-a3d92ec02824",
   "metadata": {
    "jp-MarkdownHeadingCollapsed": true,
    "tags": []
   },
   "source": [
    "### Importing S&P 500 stocks\n",
    "\n",
    "- We start by reading and print the stock tickers that make up S&P500"
   ]
  },
  {
   "cell_type": "code",
   "execution_count": 72,
   "id": "92db777d-4ba0-440f-9747-0a1ba7dd6ec2",
   "metadata": {
    "tags": []
   },
   "outputs": [
    {
     "data": {
      "text/html": [
       "<div>\n",
       "<style scoped>\n",
       "    .dataframe tbody tr th:only-of-type {\n",
       "        vertical-align: middle;\n",
       "    }\n",
       "\n",
       "    .dataframe tbody tr th {\n",
       "        vertical-align: top;\n",
       "    }\n",
       "\n",
       "    .dataframe thead th {\n",
       "        text-align: right;\n",
       "    }\n",
       "</style>\n",
       "<table border=\"1\" class=\"dataframe\">\n",
       "  <thead>\n",
       "    <tr style=\"text-align: right;\">\n",
       "      <th></th>\n",
       "      <th>Symbol</th>\n",
       "      <th>Security</th>\n",
       "      <th>GICS Sector</th>\n",
       "      <th>GICS Sub-Industry</th>\n",
       "      <th>Headquarters Location</th>\n",
       "      <th>Date added</th>\n",
       "      <th>CIK</th>\n",
       "      <th>Founded</th>\n",
       "    </tr>\n",
       "  </thead>\n",
       "  <tbody>\n",
       "    <tr>\n",
       "      <th>0</th>\n",
       "      <td>MMM</td>\n",
       "      <td>3M</td>\n",
       "      <td>Industrials</td>\n",
       "      <td>Industrial Conglomerates</td>\n",
       "      <td>Saint Paul, Minnesota</td>\n",
       "      <td>1957-03-04</td>\n",
       "      <td>66740</td>\n",
       "      <td>1902</td>\n",
       "    </tr>\n",
       "    <tr>\n",
       "      <th>1</th>\n",
       "      <td>AOS</td>\n",
       "      <td>A. O. Smith</td>\n",
       "      <td>Industrials</td>\n",
       "      <td>Building Products</td>\n",
       "      <td>Milwaukee, Wisconsin</td>\n",
       "      <td>2017-07-26</td>\n",
       "      <td>91142</td>\n",
       "      <td>1916</td>\n",
       "    </tr>\n",
       "    <tr>\n",
       "      <th>2</th>\n",
       "      <td>ABT</td>\n",
       "      <td>Abbott</td>\n",
       "      <td>Health Care</td>\n",
       "      <td>Health Care Equipment</td>\n",
       "      <td>North Chicago, Illinois</td>\n",
       "      <td>1957-03-04</td>\n",
       "      <td>1800</td>\n",
       "      <td>1888</td>\n",
       "    </tr>\n",
       "    <tr>\n",
       "      <th>3</th>\n",
       "      <td>ABBV</td>\n",
       "      <td>AbbVie</td>\n",
       "      <td>Health Care</td>\n",
       "      <td>Pharmaceuticals</td>\n",
       "      <td>North Chicago, Illinois</td>\n",
       "      <td>2012-12-31</td>\n",
       "      <td>1551152</td>\n",
       "      <td>2013 (1888)</td>\n",
       "    </tr>\n",
       "    <tr>\n",
       "      <th>4</th>\n",
       "      <td>ACN</td>\n",
       "      <td>Accenture</td>\n",
       "      <td>Information Technology</td>\n",
       "      <td>IT Consulting &amp; Other Services</td>\n",
       "      <td>Dublin, Ireland</td>\n",
       "      <td>2011-07-06</td>\n",
       "      <td>1467373</td>\n",
       "      <td>1989</td>\n",
       "    </tr>\n",
       "  </tbody>\n",
       "</table>\n",
       "</div>"
      ],
      "text/plain": [
       "  Symbol     Security             GICS Sector               GICS Sub-Industry   \n",
       "0    MMM           3M             Industrials        Industrial Conglomerates  \\\n",
       "1    AOS  A. O. Smith             Industrials               Building Products   \n",
       "2    ABT       Abbott             Health Care           Health Care Equipment   \n",
       "3   ABBV       AbbVie             Health Care                 Pharmaceuticals   \n",
       "4    ACN    Accenture  Information Technology  IT Consulting & Other Services   \n",
       "\n",
       "     Headquarters Location  Date added      CIK      Founded  \n",
       "0    Saint Paul, Minnesota  1957-03-04    66740         1902  \n",
       "1     Milwaukee, Wisconsin  2017-07-26    91142         1916  \n",
       "2  North Chicago, Illinois  1957-03-04     1800         1888  \n",
       "3  North Chicago, Illinois  2012-12-31  1551152  2013 (1888)  \n",
       "4          Dublin, Ireland  2011-07-06  1467373         1989  "
      ]
     },
     "execution_count": 72,
     "metadata": {},
     "output_type": "execute_result"
    }
   ],
   "source": [
    "tickers = pd.read_html('https://en.wikipedia.org/wiki/List_of_S%26P_500_companies')[0]\n",
    "tickers.head()"
   ]
  },
  {
   "cell_type": "markdown",
   "id": "c2eb8714-18b7-4a91-bf06-19289e73a907",
   "metadata": {
    "tags": []
   },
   "source": [
    "- There are some issues with BF.B and BRK.B, as we need to replace the . with -.\n",
    "- Let us remedy this:\n"
   ]
  },
  {
   "cell_type": "code",
   "execution_count": 80,
   "id": "a9efa793-da47-4042-be89-6e9be46c0100",
   "metadata": {
    "tags": []
   },
   "outputs": [
    {
     "name": "stdout",
     "output_type": "stream",
     "text": [
      "<class 'pandas.core.frame.DataFrame'>\n",
      "RangeIndex: 503 entries, 0 to 502\n",
      "Data columns (total 8 columns):\n",
      " #   Column                 Non-Null Count  Dtype \n",
      "---  ------                 --------------  ----- \n",
      " 0   Symbol                 503 non-null    object\n",
      " 1   Security               503 non-null    object\n",
      " 2   GICS Sector            503 non-null    object\n",
      " 3   GICS Sub-Industry      503 non-null    object\n",
      " 4   Headquarters Location  503 non-null    object\n",
      " 5   Date added             493 non-null    object\n",
      " 6   CIK                    503 non-null    int64 \n",
      " 7   Founded                503 non-null    object\n",
      "dtypes: int64(1), object(7)\n",
      "memory usage: 31.6+ KB\n"
     ]
    }
   ],
   "source": [
    "k1, k2 = 0, 0\n",
    "for j in range(503):\n",
    "    if tickers.Symbol[j] == 'BF.B':\n",
    "        k1 = j\n",
    "    if tickers.Symbol[j] == 'BRK.B':\n",
    "        k2 = j\n",
    "\n",
    "tickers.Symbol[k1] = 'BF-B'\n",
    "tickers.Symbol[k2] = 'BRK-B'\n",
    "\n",
    "tickers.info()"
   ]
  },
  {
   "cell_type": "markdown",
   "id": "721b83c0-88ea-4a8d-9883-7cbfcbfdfa7f",
   "metadata": {},
   "source": [
    "- We get the data for this tickers from yahoo finance:"
   ]
  },
  {
   "cell_type": "code",
   "execution_count": 81,
   "id": "6ba2d86b-c985-4b9f-b703-c98e4b081748",
   "metadata": {
    "tags": []
   },
   "outputs": [
    {
     "name": "stdout",
     "output_type": "stream",
     "text": [
      "[*********************100%***********************]  503 of 503 completed\n"
     ]
    }
   ],
   "source": [
    "data = yf.download(tickers.Symbol.to_list(),'2018-06-01','2023-06-01', auto_adjust=True)['Close']"
   ]
  },
  {
   "cell_type": "code",
   "execution_count": 82,
   "id": "e46fd940-294e-4c85-bb18-09200510ada4",
   "metadata": {
    "tags": []
   },
   "outputs": [
    {
     "data": {
      "text/html": [
       "<div>\n",
       "<style scoped>\n",
       "    .dataframe tbody tr th:only-of-type {\n",
       "        vertical-align: middle;\n",
       "    }\n",
       "\n",
       "    .dataframe tbody tr th {\n",
       "        vertical-align: top;\n",
       "    }\n",
       "\n",
       "    .dataframe thead th {\n",
       "        text-align: right;\n",
       "    }\n",
       "</style>\n",
       "<table border=\"1\" class=\"dataframe\">\n",
       "  <thead>\n",
       "    <tr style=\"text-align: right;\">\n",
       "      <th></th>\n",
       "      <th>A</th>\n",
       "      <th>AAL</th>\n",
       "      <th>AAP</th>\n",
       "      <th>AAPL</th>\n",
       "      <th>ABBV</th>\n",
       "      <th>ABC</th>\n",
       "      <th>ABT</th>\n",
       "      <th>ACGL</th>\n",
       "      <th>ACN</th>\n",
       "      <th>ADBE</th>\n",
       "      <th>...</th>\n",
       "      <th>WYNN</th>\n",
       "      <th>XEL</th>\n",
       "      <th>XOM</th>\n",
       "      <th>XRAY</th>\n",
       "      <th>XYL</th>\n",
       "      <th>YUM</th>\n",
       "      <th>ZBH</th>\n",
       "      <th>ZBRA</th>\n",
       "      <th>ZION</th>\n",
       "      <th>ZTS</th>\n",
       "    </tr>\n",
       "    <tr>\n",
       "      <th>Date</th>\n",
       "      <th></th>\n",
       "      <th></th>\n",
       "      <th></th>\n",
       "      <th></th>\n",
       "      <th></th>\n",
       "      <th></th>\n",
       "      <th></th>\n",
       "      <th></th>\n",
       "      <th></th>\n",
       "      <th></th>\n",
       "      <th></th>\n",
       "      <th></th>\n",
       "      <th></th>\n",
       "      <th></th>\n",
       "      <th></th>\n",
       "      <th></th>\n",
       "      <th></th>\n",
       "      <th></th>\n",
       "      <th></th>\n",
       "      <th></th>\n",
       "      <th></th>\n",
       "    </tr>\n",
       "  </thead>\n",
       "  <tbody>\n",
       "    <tr>\n",
       "      <th>2018-06-01</th>\n",
       "      <td>60.490120</td>\n",
       "      <td>43.068272</td>\n",
       "      <td>119.222000</td>\n",
       "      <td>45.451923</td>\n",
       "      <td>77.643875</td>\n",
       "      <td>76.989494</td>\n",
       "      <td>57.487221</td>\n",
       "      <td>26.610001</td>\n",
       "      <td>147.941360</td>\n",
       "      <td>251.309998</td>\n",
       "      <td>...</td>\n",
       "      <td>182.148148</td>\n",
       "      <td>38.552917</td>\n",
       "      <td>63.167854</td>\n",
       "      <td>41.372868</td>\n",
       "      <td>67.617538</td>\n",
       "      <td>74.937889</td>\n",
       "      <td>105.217590</td>\n",
       "      <td>152.490005</td>\n",
       "      <td>47.720818</td>\n",
       "      <td>82.713593</td>\n",
       "    </tr>\n",
       "    <tr>\n",
       "      <th>2018-06-04</th>\n",
       "      <td>61.068253</td>\n",
       "      <td>43.910057</td>\n",
       "      <td>120.680443</td>\n",
       "      <td>45.831799</td>\n",
       "      <td>78.475327</td>\n",
       "      <td>77.894829</td>\n",
       "      <td>58.049107</td>\n",
       "      <td>26.900000</td>\n",
       "      <td>148.444153</td>\n",
       "      <td>253.339996</td>\n",
       "      <td>...</td>\n",
       "      <td>172.998138</td>\n",
       "      <td>38.035881</td>\n",
       "      <td>62.503998</td>\n",
       "      <td>41.868347</td>\n",
       "      <td>67.259888</td>\n",
       "      <td>75.285515</td>\n",
       "      <td>106.198700</td>\n",
       "      <td>153.300003</td>\n",
       "      <td>48.089481</td>\n",
       "      <td>82.684555</td>\n",
       "    </tr>\n",
       "    <tr>\n",
       "      <th>2018-06-05</th>\n",
       "      <td>61.203140</td>\n",
       "      <td>43.244457</td>\n",
       "      <td>120.717606</td>\n",
       "      <td>46.185398</td>\n",
       "      <td>78.586197</td>\n",
       "      <td>78.329010</td>\n",
       "      <td>58.058315</td>\n",
       "      <td>27.026667</td>\n",
       "      <td>148.900406</td>\n",
       "      <td>252.699997</td>\n",
       "      <td>...</td>\n",
       "      <td>167.368118</td>\n",
       "      <td>37.329281</td>\n",
       "      <td>62.280132</td>\n",
       "      <td>40.296146</td>\n",
       "      <td>67.448120</td>\n",
       "      <td>75.852768</td>\n",
       "      <td>105.712837</td>\n",
       "      <td>156.779999</td>\n",
       "      <td>47.823704</td>\n",
       "      <td>82.074516</td>\n",
       "    </tr>\n",
       "    <tr>\n",
       "      <th>2018-06-06</th>\n",
       "      <td>62.812241</td>\n",
       "      <td>43.254242</td>\n",
       "      <td>121.312119</td>\n",
       "      <td>46.345478</td>\n",
       "      <td>79.172195</td>\n",
       "      <td>80.509171</td>\n",
       "      <td>58.528088</td>\n",
       "      <td>27.200001</td>\n",
       "      <td>151.498123</td>\n",
       "      <td>253.949997</td>\n",
       "      <td>...</td>\n",
       "      <td>169.856689</td>\n",
       "      <td>36.493423</td>\n",
       "      <td>63.345390</td>\n",
       "      <td>40.982201</td>\n",
       "      <td>68.351692</td>\n",
       "      <td>76.493172</td>\n",
       "      <td>106.684547</td>\n",
       "      <td>158.979996</td>\n",
       "      <td>48.998287</td>\n",
       "      <td>82.762009</td>\n",
       "    </tr>\n",
       "    <tr>\n",
       "      <th>2018-06-07</th>\n",
       "      <td>62.850761</td>\n",
       "      <td>42.911655</td>\n",
       "      <td>120.810524</td>\n",
       "      <td>46.221237</td>\n",
       "      <td>78.649551</td>\n",
       "      <td>80.001083</td>\n",
       "      <td>58.196484</td>\n",
       "      <td>27.213333</td>\n",
       "      <td>149.542816</td>\n",
       "      <td>247.509995</td>\n",
       "      <td>...</td>\n",
       "      <td>166.772003</td>\n",
       "      <td>36.812252</td>\n",
       "      <td>63.978401</td>\n",
       "      <td>41.077492</td>\n",
       "      <td>68.812889</td>\n",
       "      <td>77.023804</td>\n",
       "      <td>106.208038</td>\n",
       "      <td>158.169998</td>\n",
       "      <td>48.835388</td>\n",
       "      <td>82.945999</td>\n",
       "    </tr>\n",
       "  </tbody>\n",
       "</table>\n",
       "<p>5 rows × 503 columns</p>\n",
       "</div>"
      ],
      "text/plain": [
       "                    A        AAL         AAP       AAPL       ABBV        ABC   \n",
       "Date                                                                            \n",
       "2018-06-01  60.490120  43.068272  119.222000  45.451923  77.643875  76.989494  \\\n",
       "2018-06-04  61.068253  43.910057  120.680443  45.831799  78.475327  77.894829   \n",
       "2018-06-05  61.203140  43.244457  120.717606  46.185398  78.586197  78.329010   \n",
       "2018-06-06  62.812241  43.254242  121.312119  46.345478  79.172195  80.509171   \n",
       "2018-06-07  62.850761  42.911655  120.810524  46.221237  78.649551  80.001083   \n",
       "\n",
       "                  ABT       ACGL         ACN        ADBE  ...        WYNN   \n",
       "Date                                                      ...               \n",
       "2018-06-01  57.487221  26.610001  147.941360  251.309998  ...  182.148148  \\\n",
       "2018-06-04  58.049107  26.900000  148.444153  253.339996  ...  172.998138   \n",
       "2018-06-05  58.058315  27.026667  148.900406  252.699997  ...  167.368118   \n",
       "2018-06-06  58.528088  27.200001  151.498123  253.949997  ...  169.856689   \n",
       "2018-06-07  58.196484  27.213333  149.542816  247.509995  ...  166.772003   \n",
       "\n",
       "                  XEL        XOM       XRAY        XYL        YUM         ZBH   \n",
       "Date                                                                            \n",
       "2018-06-01  38.552917  63.167854  41.372868  67.617538  74.937889  105.217590  \\\n",
       "2018-06-04  38.035881  62.503998  41.868347  67.259888  75.285515  106.198700   \n",
       "2018-06-05  37.329281  62.280132  40.296146  67.448120  75.852768  105.712837   \n",
       "2018-06-06  36.493423  63.345390  40.982201  68.351692  76.493172  106.684547   \n",
       "2018-06-07  36.812252  63.978401  41.077492  68.812889  77.023804  106.208038   \n",
       "\n",
       "                  ZBRA       ZION        ZTS  \n",
       "Date                                          \n",
       "2018-06-01  152.490005  47.720818  82.713593  \n",
       "2018-06-04  153.300003  48.089481  82.684555  \n",
       "2018-06-05  156.779999  47.823704  82.074516  \n",
       "2018-06-06  158.979996  48.998287  82.762009  \n",
       "2018-06-07  158.169998  48.835388  82.945999  \n",
       "\n",
       "[5 rows x 503 columns]"
      ]
     },
     "execution_count": 82,
     "metadata": {},
     "output_type": "execute_result"
    }
   ],
   "source": [
    "data.head()"
   ]
  },
  {
   "cell_type": "code",
   "execution_count": 83,
   "id": "5a690c47-09ce-4e3f-8f4d-fd47cd213b3e",
   "metadata": {
    "tags": []
   },
   "outputs": [],
   "source": [
    "data.to_csv('AllSP500.csv')"
   ]
  },
  {
   "cell_type": "markdown",
   "id": "0f2c15e7-8e8b-46fc-af49-4b0d71301714",
   "metadata": {
    "tags": []
   },
   "source": [
    "### Weights in the S&P 500 index\n",
    "\n",
    "- We import the weights from https://www.slickcharts.com/sp500. These are saved in the sp500.csv file."
   ]
  },
  {
   "cell_type": "code",
   "execution_count": 89,
   "id": "6686c4e0-861b-4bde-9016-971696792912",
   "metadata": {
    "tags": []
   },
   "outputs": [
    {
     "name": "stdout",
     "output_type": "stream",
     "text": [
      "<class 'pandas.core.frame.DataFrame'>\n",
      "RangeIndex: 503 entries, 0 to 502\n",
      "Data columns (total 3 columns):\n",
      " #   Column   Non-Null Count  Dtype  \n",
      "---  ------   --------------  -----  \n",
      " 0   Company  503 non-null    object \n",
      " 1   Symbol   503 non-null    object \n",
      " 2   Weight   503 non-null    float64\n",
      "dtypes: float64(1), object(2)\n",
      "memory usage: 11.9+ KB\n"
     ]
    }
   ],
   "source": [
    "sp500_ws = pd.read_csv('sp500.csv')\n",
    "sp500_ws.info()"
   ]
  },
  {
   "cell_type": "code",
   "execution_count": 38,
   "id": "c68b7b5f-7afa-4fbf-9059-4b7ef4262132",
   "metadata": {
    "tags": []
   },
   "outputs": [
    {
     "data": {
      "text/html": [
       "<div>\n",
       "<style scoped>\n",
       "    .dataframe tbody tr th:only-of-type {\n",
       "        vertical-align: middle;\n",
       "    }\n",
       "\n",
       "    .dataframe tbody tr th {\n",
       "        vertical-align: top;\n",
       "    }\n",
       "\n",
       "    .dataframe thead th {\n",
       "        text-align: right;\n",
       "    }\n",
       "</style>\n",
       "<table border=\"1\" class=\"dataframe\">\n",
       "  <thead>\n",
       "    <tr style=\"text-align: right;\">\n",
       "      <th></th>\n",
       "      <th>Company</th>\n",
       "      <th>Symbol</th>\n",
       "      <th>Weight</th>\n",
       "    </tr>\n",
       "  </thead>\n",
       "  <tbody>\n",
       "    <tr>\n",
       "      <th>0</th>\n",
       "      <td>Apple Inc</td>\n",
       "      <td>AAPL</td>\n",
       "      <td>7.466181</td>\n",
       "    </tr>\n",
       "    <tr>\n",
       "      <th>1</th>\n",
       "      <td>Microsoft Corp</td>\n",
       "      <td>MSFT</td>\n",
       "      <td>6.860771</td>\n",
       "    </tr>\n",
       "    <tr>\n",
       "      <th>2</th>\n",
       "      <td>Amazon.com Inc</td>\n",
       "      <td>AMZN</td>\n",
       "      <td>3.064611</td>\n",
       "    </tr>\n",
       "    <tr>\n",
       "      <th>3</th>\n",
       "      <td>Nvidia Corp</td>\n",
       "      <td>NVDA</td>\n",
       "      <td>2.957218</td>\n",
       "    </tr>\n",
       "    <tr>\n",
       "      <th>4</th>\n",
       "      <td>Tesla Inc</td>\n",
       "      <td>TSLA</td>\n",
       "      <td>2.018166</td>\n",
       "    </tr>\n",
       "  </tbody>\n",
       "</table>\n",
       "</div>"
      ],
      "text/plain": [
       "          Company Symbol    Weight\n",
       "0       Apple Inc   AAPL  7.466181\n",
       "1  Microsoft Corp   MSFT  6.860771\n",
       "2  Amazon.com Inc   AMZN  3.064611\n",
       "3     Nvidia Corp   NVDA  2.957218\n",
       "4       Tesla Inc   TSLA  2.018166"
      ]
     },
     "execution_count": 38,
     "metadata": {},
     "output_type": "execute_result"
    }
   ],
   "source": [
    "sp500_ws.head()"
   ]
  },
  {
   "cell_type": "code",
   "execution_count": 9,
   "id": "8a3d85a8-6999-4785-a165-916ff88db966",
   "metadata": {
    "tags": []
   },
   "outputs": [
    {
     "data": {
      "text/html": [
       "<div>\n",
       "<style scoped>\n",
       "    .dataframe tbody tr th:only-of-type {\n",
       "        vertical-align: middle;\n",
       "    }\n",
       "\n",
       "    .dataframe tbody tr th {\n",
       "        vertical-align: top;\n",
       "    }\n",
       "\n",
       "    .dataframe thead th {\n",
       "        text-align: right;\n",
       "    }\n",
       "</style>\n",
       "<table border=\"1\" class=\"dataframe\">\n",
       "  <thead>\n",
       "    <tr style=\"text-align: right;\">\n",
       "      <th></th>\n",
       "      <th>Company</th>\n",
       "      <th>Symbol</th>\n",
       "      <th>Weight</th>\n",
       "    </tr>\n",
       "  </thead>\n",
       "  <tbody>\n",
       "    <tr>\n",
       "      <th>498</th>\n",
       "      <td>Fox Corp Class B</td>\n",
       "      <td>FOX</td>\n",
       "      <td>0.011471</td>\n",
       "    </tr>\n",
       "    <tr>\n",
       "      <th>499</th>\n",
       "      <td>Lincoln National Corp</td>\n",
       "      <td>LNC</td>\n",
       "      <td>0.009356</td>\n",
       "    </tr>\n",
       "    <tr>\n",
       "      <th>500</th>\n",
       "      <td>Newell Brands Inc</td>\n",
       "      <td>NWL</td>\n",
       "      <td>0.008696</td>\n",
       "    </tr>\n",
       "    <tr>\n",
       "      <th>501</th>\n",
       "      <td>News Corp Class B</td>\n",
       "      <td>NWS</td>\n",
       "      <td>0.006489</td>\n",
       "    </tr>\n",
       "    <tr>\n",
       "      <th>502</th>\n",
       "      <td>Dish Network Corp A</td>\n",
       "      <td>DISH</td>\n",
       "      <td>0.004361</td>\n",
       "    </tr>\n",
       "  </tbody>\n",
       "</table>\n",
       "</div>"
      ],
      "text/plain": [
       "                   Company Symbol    Weight\n",
       "498       Fox Corp Class B    FOX  0.011471\n",
       "499  Lincoln National Corp    LNC  0.009356\n",
       "500      Newell Brands Inc    NWL  0.008696\n",
       "501      News Corp Class B    NWS  0.006489\n",
       "502    Dish Network Corp A   DISH  0.004361"
      ]
     },
     "execution_count": 9,
     "metadata": {},
     "output_type": "execute_result"
    }
   ],
   "source": [
    "sp500_ws.tail()"
   ]
  },
  {
   "cell_type": "code",
   "execution_count": 90,
   "id": "d2f16497-e10a-4f11-a0f9-4e63e44d94e9",
   "metadata": {
    "tags": []
   },
   "outputs": [],
   "source": [
    "tickers2 = list(sp500_ws.Symbol)"
   ]
  },
  {
   "cell_type": "code",
   "execution_count": 91,
   "id": "c76ee177-a088-4f44-834a-b7cc0b2fcaeb",
   "metadata": {
    "tags": []
   },
   "outputs": [
    {
     "data": {
      "text/plain": [
       "Text(0, 0.5, 'Weight %')"
      ]
     },
     "execution_count": 91,
     "metadata": {},
     "output_type": "execute_result"
    },
    {
     "data": {
      "image/png": "[encoded data removed]",
      "text/plain": [
       "<Figure size 640x480 with 1 Axes>"
      ]
     },
     "metadata": {},
     "output_type": "display_data"
    }
   ],
   "source": [
    "sp500_ws.plot()\n",
    "\n",
    "# Give the Plot some labels, and titles.\n",
    "plt.title('S&P 500 - Weights of component stocks')\n",
    "plt.xlabel('Stocks ordered by highest weight')\n",
    "plt.ylabel('Weight %')\n"
   ]
  },
  {
   "cell_type": "markdown",
   "id": "3a441fef-bc91-493a-9f41-1e527a7ec4d6",
   "metadata": {},
   "source": [
    "- It appears that some a small number of stocks have large weights, while the remaining ones have very small contributions. For instance, the 'top' 10 stocks already give a total weight of:"
   ]
  },
  {
   "cell_type": "code",
   "execution_count": 92,
   "id": "387987ed-4d41-4414-b6af-41c969d1ad59",
   "metadata": {
    "tags": []
   },
   "outputs": [
    {
     "data": {
      "text/plain": [
       "30.648794"
      ]
     },
     "execution_count": 92,
     "metadata": {},
     "output_type": "execute_result"
    }
   ],
   "source": [
    "sp500_ws.Weight[:10].sum()"
   ]
  },
  {
   "cell_type": "markdown",
   "id": "5872625d-b13c-4ce9-a616-85919752b192",
   "metadata": {},
   "source": [
    "- Let us have a quick look at these components:"
   ]
  },
  {
   "cell_type": "code",
   "execution_count": 93,
   "id": "aece90e4-8b60-4f24-add9-3a0b96fb01a2",
   "metadata": {
    "tags": []
   },
   "outputs": [
    {
     "data": {
      "text/html": [
       "<div>\n",
       "<style scoped>\n",
       "    .dataframe tbody tr th:only-of-type {\n",
       "        vertical-align: middle;\n",
       "    }\n",
       "\n",
       "    .dataframe tbody tr th {\n",
       "        vertical-align: top;\n",
       "    }\n",
       "\n",
       "    .dataframe thead th {\n",
       "        text-align: right;\n",
       "    }\n",
       "</style>\n",
       "<table border=\"1\" class=\"dataframe\">\n",
       "  <thead>\n",
       "    <tr style=\"text-align: right;\">\n",
       "      <th></th>\n",
       "      <th>Company</th>\n",
       "      <th>Symbol</th>\n",
       "      <th>Weight</th>\n",
       "    </tr>\n",
       "  </thead>\n",
       "  <tbody>\n",
       "    <tr>\n",
       "      <th>0</th>\n",
       "      <td>Apple Inc</td>\n",
       "      <td>AAPL</td>\n",
       "      <td>7.466181</td>\n",
       "    </tr>\n",
       "    <tr>\n",
       "      <th>1</th>\n",
       "      <td>Microsoft Corp</td>\n",
       "      <td>MSFT</td>\n",
       "      <td>6.860771</td>\n",
       "    </tr>\n",
       "    <tr>\n",
       "      <th>2</th>\n",
       "      <td>Amazon.com Inc</td>\n",
       "      <td>AMZN</td>\n",
       "      <td>3.064611</td>\n",
       "    </tr>\n",
       "    <tr>\n",
       "      <th>3</th>\n",
       "      <td>Nvidia Corp</td>\n",
       "      <td>NVDA</td>\n",
       "      <td>2.957218</td>\n",
       "    </tr>\n",
       "    <tr>\n",
       "      <th>4</th>\n",
       "      <td>Tesla Inc</td>\n",
       "      <td>TSLA</td>\n",
       "      <td>2.018166</td>\n",
       "    </tr>\n",
       "    <tr>\n",
       "      <th>5</th>\n",
       "      <td>Alphabet Inc Cl A</td>\n",
       "      <td>GOOGL</td>\n",
       "      <td>1.996184</td>\n",
       "    </tr>\n",
       "    <tr>\n",
       "      <th>6</th>\n",
       "      <td>Alphabet Inc Cl C</td>\n",
       "      <td>GOOG</td>\n",
       "      <td>1.727553</td>\n",
       "    </tr>\n",
       "    <tr>\n",
       "      <th>7</th>\n",
       "      <td>Meta Platforms Inc Class A</td>\n",
       "      <td>META</td>\n",
       "      <td>1.716800</td>\n",
       "    </tr>\n",
       "    <tr>\n",
       "      <th>8</th>\n",
       "      <td>Berkshire Hathaway Inc Cl B</td>\n",
       "      <td>BRK-B</td>\n",
       "      <td>1.648476</td>\n",
       "    </tr>\n",
       "    <tr>\n",
       "      <th>9</th>\n",
       "      <td>Unitedhealth Group Inc</td>\n",
       "      <td>UNH</td>\n",
       "      <td>1.192834</td>\n",
       "    </tr>\n",
       "    <tr>\n",
       "      <th>10</th>\n",
       "      <td>Other</td>\n",
       "      <td>Other</td>\n",
       "      <td>69.351206</td>\n",
       "    </tr>\n",
       "  </tbody>\n",
       "</table>\n",
       "</div>"
      ],
      "text/plain": [
       "                        Company Symbol     Weight\n",
       "0                     Apple Inc   AAPL   7.466181\n",
       "1                Microsoft Corp   MSFT   6.860771\n",
       "2                Amazon.com Inc   AMZN   3.064611\n",
       "3                   Nvidia Corp   NVDA   2.957218\n",
       "4                     Tesla Inc   TSLA   2.018166\n",
       "5             Alphabet Inc Cl A  GOOGL   1.996184\n",
       "6             Alphabet Inc Cl C   GOOG   1.727553\n",
       "7    Meta Platforms Inc Class A   META   1.716800\n",
       "8   Berkshire Hathaway Inc Cl B  BRK-B   1.648476\n",
       "9        Unitedhealth Group Inc    UNH   1.192834\n",
       "10                        Other  Other  69.351206"
      ]
     },
     "execution_count": 93,
     "metadata": {},
     "output_type": "execute_result"
    }
   ],
   "source": [
    "sp500_first10 = sp500_ws[:10]\n",
    "sp500_first10.loc[10] = ['Other', 'Other', 100-sp500_ws.Weight[:10].sum()]\n",
    "sp500_first10"
   ]
  },
  {
   "cell_type": "code",
   "execution_count": 94,
   "id": "110daeb5-e2f8-4b67-bf58-849611c7dd31",
   "metadata": {
    "tags": []
   },
   "outputs": [
    {
     "data": {
      "text/html": [
       "<div>\n",
       "<style scoped>\n",
       "    .dataframe tbody tr th:only-of-type {\n",
       "        vertical-align: middle;\n",
       "    }\n",
       "\n",
       "    .dataframe tbody tr th {\n",
       "        vertical-align: top;\n",
       "    }\n",
       "\n",
       "    .dataframe thead th {\n",
       "        text-align: right;\n",
       "    }\n",
       "</style>\n",
       "<table border=\"1\" class=\"dataframe\">\n",
       "  <thead>\n",
       "    <tr style=\"text-align: right;\">\n",
       "      <th></th>\n",
       "      <th>Symbol</th>\n",
       "      <th>Weight</th>\n",
       "    </tr>\n",
       "  </thead>\n",
       "  <tbody>\n",
       "    <tr>\n",
       "      <th>0</th>\n",
       "      <td>AAPL</td>\n",
       "      <td>7.466181</td>\n",
       "    </tr>\n",
       "    <tr>\n",
       "      <th>1</th>\n",
       "      <td>MSFT</td>\n",
       "      <td>6.860771</td>\n",
       "    </tr>\n",
       "    <tr>\n",
       "      <th>2</th>\n",
       "      <td>AMZN</td>\n",
       "      <td>3.064611</td>\n",
       "    </tr>\n",
       "    <tr>\n",
       "      <th>3</th>\n",
       "      <td>NVDA</td>\n",
       "      <td>2.957218</td>\n",
       "    </tr>\n",
       "    <tr>\n",
       "      <th>4</th>\n",
       "      <td>TSLA</td>\n",
       "      <td>2.018166</td>\n",
       "    </tr>\n",
       "    <tr>\n",
       "      <th>5</th>\n",
       "      <td>GOOGL</td>\n",
       "      <td>1.996184</td>\n",
       "    </tr>\n",
       "    <tr>\n",
       "      <th>6</th>\n",
       "      <td>GOOG</td>\n",
       "      <td>1.727553</td>\n",
       "    </tr>\n",
       "    <tr>\n",
       "      <th>7</th>\n",
       "      <td>META</td>\n",
       "      <td>1.716800</td>\n",
       "    </tr>\n",
       "    <tr>\n",
       "      <th>8</th>\n",
       "      <td>BRK-B</td>\n",
       "      <td>1.648476</td>\n",
       "    </tr>\n",
       "    <tr>\n",
       "      <th>9</th>\n",
       "      <td>UNH</td>\n",
       "      <td>1.192834</td>\n",
       "    </tr>\n",
       "    <tr>\n",
       "      <th>10</th>\n",
       "      <td>Other</td>\n",
       "      <td>69.351206</td>\n",
       "    </tr>\n",
       "  </tbody>\n",
       "</table>\n",
       "</div>"
      ],
      "text/plain": [
       "   Symbol     Weight\n",
       "0    AAPL   7.466181\n",
       "1    MSFT   6.860771\n",
       "2    AMZN   3.064611\n",
       "3    NVDA   2.957218\n",
       "4    TSLA   2.018166\n",
       "5   GOOGL   1.996184\n",
       "6    GOOG   1.727553\n",
       "7    META   1.716800\n",
       "8   BRK-B   1.648476\n",
       "9     UNH   1.192834\n",
       "10  Other  69.351206"
      ]
     },
     "execution_count": 94,
     "metadata": {},
     "output_type": "execute_result"
    }
   ],
   "source": [
    "sp500_first10 = sp500_first10.drop(['Company'], axis=1)\n",
    "sp500_first10 = sp500_first10.set_index('Symbol')\n",
    "sp500_first10 = sp500_first10.reset_index()\n",
    "\n",
    "sp500_first10"
   ]
  },
  {
   "cell_type": "code",
   "execution_count": 95,
   "id": "8289abee-1110-4f25-8a5d-11ee3612e77e",
   "metadata": {
    "tags": []
   },
   "outputs": [
    {
     "data": {
      "image/png": "[encoded data removed]",
      "text/plain": [
       "<Figure size 640x480 with 1 Axes>"
      ]
     },
     "metadata": {},
     "output_type": "display_data"
    }
   ],
   "source": [
    "data = list(sp500_first10.Weight)\n",
    "labels = list(sp500_first10.Symbol)\n",
    "\n",
    "myexplode = [0.05]*11\n",
    "\n",
    "fig1, ax1 = plt.subplots()\n",
    "plt.pie(data, labels = labels, startangle=90, pctdistance=0.85, explode = myexplode)\n",
    "\n",
    "centre_circle = plt.Circle((0,0),0.70,fc='white')\n",
    "fig = plt.gcf()\n",
    "fig.gca().add_artist(centre_circle)\n",
    "# Equal aspect ratio ensures that pie is drawn as a circle\n",
    "ax1.axis('equal')  \n",
    "plt.tight_layout()\n",
    "plt.show()\n",
    " "
   ]
  },
  {
   "cell_type": "markdown",
   "id": "bbb1f366-6f78-4d4b-a950-99edc25951b1",
   "metadata": {
    "jp-MarkdownHeadingCollapsed": true,
    "tags": []
   },
   "source": [
    "### Grouping stocks by sector\n",
    "\n",
    "- We would now like to group stocks by sector and analyze the returns of each sector.\n",
    "- There are 11 sectors, as can be seen below:"
   ]
  },
  {
   "cell_type": "code",
   "execution_count": 96,
   "id": "3c42c948-915b-4604-be67-f77028104b0e",
   "metadata": {
    "tags": []
   },
   "outputs": [
    {
     "data": {
      "text/plain": [
       "array(['Industrials', 'Health Care', 'Information Technology',\n",
       "       'Communication Services', 'Consumer Staples',\n",
       "       'Consumer Discretionary', 'Utilities', 'Financials', 'Materials',\n",
       "       'Real Estate', 'Energy'], dtype=object)"
      ]
     },
     "execution_count": 96,
     "metadata": {},
     "output_type": "execute_result"
    }
   ],
   "source": [
    "sectors = tickers['GICS Sector'].unique()\n",
    "sectors"
   ]
  },
  {
   "cell_type": "code",
   "execution_count": 98,
   "id": "35536457-55bb-4170-bd08-de040558e37a",
   "metadata": {
    "tags": []
   },
   "outputs": [
    {
     "data": {
      "text/html": [
       "<div>\n",
       "<style scoped>\n",
       "    .dataframe tbody tr th:only-of-type {\n",
       "        vertical-align: middle;\n",
       "    }\n",
       "\n",
       "    .dataframe tbody tr th {\n",
       "        vertical-align: top;\n",
       "    }\n",
       "\n",
       "    .dataframe thead th {\n",
       "        text-align: right;\n",
       "    }\n",
       "</style>\n",
       "<table border=\"1\" class=\"dataframe\">\n",
       "  <thead>\n",
       "    <tr style=\"text-align: right;\">\n",
       "      <th></th>\n",
       "      <th>Security</th>\n",
       "      <th>GICS Sector</th>\n",
       "      <th>GICS Sub-Industry</th>\n",
       "      <th>Headquarters Location</th>\n",
       "      <th>Date added</th>\n",
       "      <th>CIK</th>\n",
       "      <th>Founded</th>\n",
       "    </tr>\n",
       "    <tr>\n",
       "      <th>Symbol</th>\n",
       "      <th></th>\n",
       "      <th></th>\n",
       "      <th></th>\n",
       "      <th></th>\n",
       "      <th></th>\n",
       "      <th></th>\n",
       "      <th></th>\n",
       "    </tr>\n",
       "  </thead>\n",
       "  <tbody>\n",
       "    <tr>\n",
       "      <th>MMM</th>\n",
       "      <td>3M</td>\n",
       "      <td>Industrials</td>\n",
       "      <td>Industrial Conglomerates</td>\n",
       "      <td>Saint Paul, Minnesota</td>\n",
       "      <td>1957-03-04</td>\n",
       "      <td>66740</td>\n",
       "      <td>1902</td>\n",
       "    </tr>\n",
       "    <tr>\n",
       "      <th>AOS</th>\n",
       "      <td>A. O. Smith</td>\n",
       "      <td>Industrials</td>\n",
       "      <td>Building Products</td>\n",
       "      <td>Milwaukee, Wisconsin</td>\n",
       "      <td>2017-07-26</td>\n",
       "      <td>91142</td>\n",
       "      <td>1916</td>\n",
       "    </tr>\n",
       "    <tr>\n",
       "      <th>ABT</th>\n",
       "      <td>Abbott</td>\n",
       "      <td>Health Care</td>\n",
       "      <td>Health Care Equipment</td>\n",
       "      <td>North Chicago, Illinois</td>\n",
       "      <td>1957-03-04</td>\n",
       "      <td>1800</td>\n",
       "      <td>1888</td>\n",
       "    </tr>\n",
       "    <tr>\n",
       "      <th>ABBV</th>\n",
       "      <td>AbbVie</td>\n",
       "      <td>Health Care</td>\n",
       "      <td>Pharmaceuticals</td>\n",
       "      <td>North Chicago, Illinois</td>\n",
       "      <td>2012-12-31</td>\n",
       "      <td>1551152</td>\n",
       "      <td>2013 (1888)</td>\n",
       "    </tr>\n",
       "    <tr>\n",
       "      <th>ACN</th>\n",
       "      <td>Accenture</td>\n",
       "      <td>Information Technology</td>\n",
       "      <td>IT Consulting &amp; Other Services</td>\n",
       "      <td>Dublin, Ireland</td>\n",
       "      <td>2011-07-06</td>\n",
       "      <td>1467373</td>\n",
       "      <td>1989</td>\n",
       "    </tr>\n",
       "  </tbody>\n",
       "</table>\n",
       "</div>"
      ],
      "text/plain": [
       "           Security             GICS Sector               GICS Sub-Industry   \n",
       "Symbol                                                                        \n",
       "MMM              3M             Industrials        Industrial Conglomerates  \\\n",
       "AOS     A. O. Smith             Industrials               Building Products   \n",
       "ABT          Abbott             Health Care           Health Care Equipment   \n",
       "ABBV         AbbVie             Health Care                 Pharmaceuticals   \n",
       "ACN       Accenture  Information Technology  IT Consulting & Other Services   \n",
       "\n",
       "          Headquarters Location  Date added      CIK      Founded  \n",
       "Symbol                                                             \n",
       "MMM       Saint Paul, Minnesota  1957-03-04    66740         1902  \n",
       "AOS        Milwaukee, Wisconsin  2017-07-26    91142         1916  \n",
       "ABT     North Chicago, Illinois  1957-03-04     1800         1888  \n",
       "ABBV    North Chicago, Illinois  2012-12-31  1551152  2013 (1888)  \n",
       "ACN             Dublin, Ireland  2011-07-06  1467373         1989  "
      ]
     },
     "execution_count": 98,
     "metadata": {},
     "output_type": "execute_result"
    }
   ],
   "source": [
    "tickers = tickers.set_index('Symbol')\n",
    "tickers.head()"
   ]
  },
  {
   "cell_type": "markdown",
   "id": "6e44a2cb-020e-4b28-ab7d-f5d9f5816a29",
   "metadata": {},
   "source": [
    "- Now, we add the sector to the sp500_ws dataframe, as follows:"
   ]
  },
  {
   "cell_type": "code",
   "execution_count": 99,
   "id": "61840ac4-d058-4a1b-ab2f-f3aa896ecaae",
   "metadata": {
    "tags": []
   },
   "outputs": [
    {
     "data": {
      "text/html": [
       "<div>\n",
       "<style scoped>\n",
       "    .dataframe tbody tr th:only-of-type {\n",
       "        vertical-align: middle;\n",
       "    }\n",
       "\n",
       "    .dataframe tbody tr th {\n",
       "        vertical-align: top;\n",
       "    }\n",
       "\n",
       "    .dataframe thead th {\n",
       "        text-align: right;\n",
       "    }\n",
       "</style>\n",
       "<table border=\"1\" class=\"dataframe\">\n",
       "  <thead>\n",
       "    <tr style=\"text-align: right;\">\n",
       "      <th></th>\n",
       "      <th>Company</th>\n",
       "      <th>Symbol</th>\n",
       "      <th>Weight</th>\n",
       "      <th>Sector</th>\n",
       "    </tr>\n",
       "  </thead>\n",
       "  <tbody>\n",
       "    <tr>\n",
       "      <th>0</th>\n",
       "      <td>Apple Inc</td>\n",
       "      <td>AAPL</td>\n",
       "      <td>7.466181</td>\n",
       "      <td>Information Technology</td>\n",
       "    </tr>\n",
       "    <tr>\n",
       "      <th>1</th>\n",
       "      <td>Microsoft Corp</td>\n",
       "      <td>MSFT</td>\n",
       "      <td>6.860771</td>\n",
       "      <td>Information Technology</td>\n",
       "    </tr>\n",
       "    <tr>\n",
       "      <th>2</th>\n",
       "      <td>Amazon.com Inc</td>\n",
       "      <td>AMZN</td>\n",
       "      <td>3.064611</td>\n",
       "      <td>Consumer Discretionary</td>\n",
       "    </tr>\n",
       "    <tr>\n",
       "      <th>3</th>\n",
       "      <td>Nvidia Corp</td>\n",
       "      <td>NVDA</td>\n",
       "      <td>2.957218</td>\n",
       "      <td>Information Technology</td>\n",
       "    </tr>\n",
       "    <tr>\n",
       "      <th>4</th>\n",
       "      <td>Tesla Inc</td>\n",
       "      <td>TSLA</td>\n",
       "      <td>2.018166</td>\n",
       "      <td>Consumer Discretionary</td>\n",
       "    </tr>\n",
       "  </tbody>\n",
       "</table>\n",
       "</div>"
      ],
      "text/plain": [
       "          Company Symbol    Weight                  Sector\n",
       "0       Apple Inc   AAPL  7.466181  Information Technology\n",
       "1  Microsoft Corp   MSFT  6.860771  Information Technology\n",
       "2  Amazon.com Inc   AMZN  3.064611  Consumer Discretionary\n",
       "3     Nvidia Corp   NVDA  2.957218  Information Technology\n",
       "4       Tesla Inc   TSLA  2.018166  Consumer Discretionary"
      ]
     },
     "execution_count": 99,
     "metadata": {},
     "output_type": "execute_result"
    }
   ],
   "source": [
    "sectors = []\n",
    "\n",
    "for j in range(503):\n",
    "    sectors.append(tickers.loc[sp500_ws.loc[j]['Symbol']]['GICS Sector'])\n",
    "\n",
    "sp500_ws['Sector'] = sectors\n",
    "sp500_ws.head()"
   ]
  },
  {
   "cell_type": "code",
   "execution_count": 100,
   "id": "24349c5a-e1a5-402b-a650-2ee837393c0a",
   "metadata": {
    "tags": []
   },
   "outputs": [
    {
     "name": "stdout",
     "output_type": "stream",
     "text": [
      "<class 'pandas.core.frame.DataFrame'>\n",
      "RangeIndex: 503 entries, 0 to 502\n",
      "Data columns (total 4 columns):\n",
      " #   Column   Non-Null Count  Dtype  \n",
      "---  ------   --------------  -----  \n",
      " 0   Company  503 non-null    object \n",
      " 1   Symbol   503 non-null    object \n",
      " 2   Weight   503 non-null    float64\n",
      " 3   Sector   503 non-null    object \n",
      "dtypes: float64(1), object(3)\n",
      "memory usage: 15.8+ KB\n"
     ]
    }
   ],
   "source": [
    "sp500_ws.info()"
   ]
  },
  {
   "cell_type": "code",
   "execution_count": 101,
   "id": "24e508b5-daf2-4dfb-b555-698ac21a39b8",
   "metadata": {
    "tags": []
   },
   "outputs": [
    {
     "data": {
      "text/plain": [
       "{'Industrials': 8.392827999999998,\n",
       " 'Health Care': 13.477684999999994,\n",
       " 'Information Technology': 28.37111000000001,\n",
       " 'Communication Services': 8.521889999999997,\n",
       " 'Consumer Staples': 6.697243000000001,\n",
       " 'Consumer Discretionary': 10.634793999999998,\n",
       " 'Utilities': 2.6235370000000007,\n",
       " 'Financials': 12.410525999999996,\n",
       " 'Materials': 2.4586280000000005,\n",
       " 'Real Estate': 2.3813150000000003,\n",
       " 'Energy': 4.0315069999999995}"
      ]
     },
     "execution_count": 101,
     "metadata": {},
     "output_type": "execute_result"
    }
   ],
   "source": [
    "sectors = tickers['GICS Sector'].unique()\n",
    "\n",
    "my_dict = {}\n",
    "    \n",
    "for sec in sectors:\n",
    "    my_dict[sec] = 0\n",
    "\n",
    "for j in range(503):\n",
    "    my_dict[sp500_ws.iloc[j]['Sector']] += sp500_ws.iloc[j]['Weight']\n",
    "    \n",
    "my_dict"
   ]
  },
  {
   "cell_type": "code",
   "execution_count": 102,
   "id": "3d5917b9-8aac-4657-a977-1149ec1f8c3e",
   "metadata": {
    "tags": []
   },
   "outputs": [
    {
     "data": {
      "image/png": "[encoded data removed]",
      "text/plain": [
       "<Figure size 640x480 with 1 Axes>"
      ]
     },
     "metadata": {},
     "output_type": "display_data"
    }
   ],
   "source": [
    "# Get the Keys and store them in a list\n",
    "labels = list(my_dict.keys())\n",
    "\n",
    "# Get the Values and store them in a list\n",
    "values = list(my_dict.values())\n",
    "\n",
    "myexplode = [0.05]*11\n",
    "\n",
    "fig1, ax1 = plt.subplots()\n",
    "plt.pie(values, labels = labels, startangle=90, pctdistance=0.85, explode = myexplode)\n",
    "\n",
    "centre_circle = plt.Circle((0,0),0.70,fc='white')\n",
    "fig = plt.gcf()\n",
    "fig.gca().add_artist(centre_circle)\n",
    "# Equal aspect ratio ensures that pie is drawn as a circle\n",
    "ax1.axis('equal')  \n",
    "plt.tight_layout()\n",
    "plt.show()\n"
   ]
  },
  {
   "cell_type": "code",
   "execution_count": null,
   "id": "c4430b24-7f5a-48ad-ba6a-a9f75f5d39f4",
   "metadata": {},
   "outputs": [],
   "source": []
  },
  {
   "cell_type": "markdown",
   "id": "8a010d3e-2af1-4052-b17d-d77127cc8e56",
   "metadata": {
    "tags": []
   },
   "source": [
    "### An 'S&P 10' Portfolio\n",
    "\n",
    "- In the previous section we looked at how the S&P 500 is split among the different sectors, and what are the largest contributors to the index fund.\n",
    "- The S&P 500 index is a market capitalization-weighted index, meaning that the weights are determined by the market cap of the companies.\n",
    "\n",
    "    - Weighting in S&P Index = Company Market Capitalization / S&P 500 Total Market Capitalization.\n",
    "    \n",
    "\n",
    "- Hence, there should clearly be better ways of designing a portfolio with better returns, compared to the S&P 500.\n",
    "- Here, we will look at building a portfolio that maximizes the Sharpe Ratio! However, running such an optimization problem for around 500 stocks would take a rather long time. Thus, we will reduce the problem to the 10 largest stocks only, and see how the weights differ. \n",
    "- First, a capitalization-weighted 'S&P 10' index would look as follows:\n"
   ]
  },
  {
   "cell_type": "code",
   "execution_count": 103,
   "id": "2c38c48c-175a-4da9-93e9-fc7de4eaaf97",
   "metadata": {
    "tags": []
   },
   "outputs": [
    {
     "data": {
      "text/html": [
       "<div>\n",
       "<style scoped>\n",
       "    .dataframe tbody tr th:only-of-type {\n",
       "        vertical-align: middle;\n",
       "    }\n",
       "\n",
       "    .dataframe tbody tr th {\n",
       "        vertical-align: top;\n",
       "    }\n",
       "\n",
       "    .dataframe thead th {\n",
       "        text-align: right;\n",
       "    }\n",
       "</style>\n",
       "<table border=\"1\" class=\"dataframe\">\n",
       "  <thead>\n",
       "    <tr style=\"text-align: right;\">\n",
       "      <th></th>\n",
       "      <th>Company</th>\n",
       "      <th>Symbol</th>\n",
       "      <th>Weight</th>\n",
       "      <th>Sector</th>\n",
       "    </tr>\n",
       "  </thead>\n",
       "  <tbody>\n",
       "    <tr>\n",
       "      <th>0</th>\n",
       "      <td>Apple Inc</td>\n",
       "      <td>AAPL</td>\n",
       "      <td>24.360440</td>\n",
       "      <td>Information Technology</td>\n",
       "    </tr>\n",
       "    <tr>\n",
       "      <th>1</th>\n",
       "      <td>Microsoft Corp</td>\n",
       "      <td>MSFT</td>\n",
       "      <td>22.385125</td>\n",
       "      <td>Information Technology</td>\n",
       "    </tr>\n",
       "    <tr>\n",
       "      <th>2</th>\n",
       "      <td>Amazon.com Inc</td>\n",
       "      <td>AMZN</td>\n",
       "      <td>9.999124</td>\n",
       "      <td>Consumer Discretionary</td>\n",
       "    </tr>\n",
       "    <tr>\n",
       "      <th>3</th>\n",
       "      <td>Nvidia Corp</td>\n",
       "      <td>NVDA</td>\n",
       "      <td>9.648725</td>\n",
       "      <td>Information Technology</td>\n",
       "    </tr>\n",
       "    <tr>\n",
       "      <th>4</th>\n",
       "      <td>Tesla Inc</td>\n",
       "      <td>TSLA</td>\n",
       "      <td>6.584814</td>\n",
       "      <td>Consumer Discretionary</td>\n",
       "    </tr>\n",
       "    <tr>\n",
       "      <th>5</th>\n",
       "      <td>Alphabet Inc Cl A</td>\n",
       "      <td>GOOGL</td>\n",
       "      <td>6.513092</td>\n",
       "      <td>Communication Services</td>\n",
       "    </tr>\n",
       "    <tr>\n",
       "      <th>6</th>\n",
       "      <td>Alphabet Inc Cl C</td>\n",
       "      <td>GOOG</td>\n",
       "      <td>5.636610</td>\n",
       "      <td>Communication Services</td>\n",
       "    </tr>\n",
       "    <tr>\n",
       "      <th>7</th>\n",
       "      <td>Meta Platforms Inc Class A</td>\n",
       "      <td>META</td>\n",
       "      <td>5.601525</td>\n",
       "      <td>Communication Services</td>\n",
       "    </tr>\n",
       "    <tr>\n",
       "      <th>8</th>\n",
       "      <td>Berkshire Hathaway Inc Cl B</td>\n",
       "      <td>BRK-B</td>\n",
       "      <td>5.378600</td>\n",
       "      <td>Financials</td>\n",
       "    </tr>\n",
       "    <tr>\n",
       "      <th>9</th>\n",
       "      <td>Unitedhealth Group Inc</td>\n",
       "      <td>UNH</td>\n",
       "      <td>3.891944</td>\n",
       "      <td>Health Care</td>\n",
       "    </tr>\n",
       "  </tbody>\n",
       "</table>\n",
       "</div>"
      ],
      "text/plain": [
       "                       Company Symbol     Weight                  Sector\n",
       "0                    Apple Inc   AAPL  24.360440  Information Technology\n",
       "1               Microsoft Corp   MSFT  22.385125  Information Technology\n",
       "2               Amazon.com Inc   AMZN   9.999124  Consumer Discretionary\n",
       "3                  Nvidia Corp   NVDA   9.648725  Information Technology\n",
       "4                    Tesla Inc   TSLA   6.584814  Consumer Discretionary\n",
       "5            Alphabet Inc Cl A  GOOGL   6.513092  Communication Services\n",
       "6            Alphabet Inc Cl C   GOOG   5.636610  Communication Services\n",
       "7   Meta Platforms Inc Class A   META   5.601525  Communication Services\n",
       "8  Berkshire Hathaway Inc Cl B  BRK-B   5.378600              Financials\n",
       "9       Unitedhealth Group Inc    UNH   3.891944             Health Care"
      ]
     },
     "execution_count": 103,
     "metadata": {},
     "output_type": "execute_result"
    }
   ],
   "source": [
    "sp500_first10 = sp500_ws[:10]\n",
    "sp500_first10.Weight = sp500_first10.Weight/sp500_ws.Weight[:10].sum()*100\n",
    "sp500_first10"
   ]
  },
  {
   "cell_type": "code",
   "execution_count": 104,
   "id": "59330046-b177-4a27-9323-f0990daad980",
   "metadata": {
    "tags": []
   },
   "outputs": [
    {
     "data": {
      "image/png": "[encoded data removed]",
      "text/plain": [
       "<Figure size 640x480 with 1 Axes>"
      ]
     },
     "metadata": {},
     "output_type": "display_data"
    }
   ],
   "source": [
    "data = list(sp500_first10.Weight)\n",
    "labels = list(sp500_first10.Symbol)\n",
    "\n",
    "myexplode = [0.05]*10\n",
    "\n",
    "fig1, ax1 = plt.subplots()\n",
    "plt.pie(data, labels = labels, startangle=90, pctdistance=0.85, explode = myexplode)\n",
    "\n",
    "centre_circle = plt.Circle((0,0),0.70,fc='white')\n",
    "fig = plt.gcf()\n",
    "fig.gca().add_artist(centre_circle)\n",
    "# Equal aspect ratio ensures that pie is drawn as a circle\n",
    "ax1.axis('equal')  \n",
    "plt.tight_layout()\n",
    "plt.show()\n",
    " "
   ]
  },
  {
   "cell_type": "markdown",
   "id": "d09aea50-345b-4878-a740-b9ce27b848f1",
   "metadata": {},
   "source": [
    "- Now, let us take the stock data for these 10 stocks, and build a portfolio that maximizes Sharpe Ratio."
   ]
  },
  {
   "cell_type": "code",
   "execution_count": 107,
   "id": "b29cf153-7234-4929-a660-fac59d87af73",
   "metadata": {},
   "outputs": [
    {
     "name": "stdout",
     "output_type": "stream",
     "text": [
      "<class 'pandas.core.frame.DataFrame'>\n",
      "RangeIndex: 1258 entries, 0 to 1257\n",
      "Data columns (total 11 columns):\n",
      " #   Column  Non-Null Count  Dtype  \n",
      "---  ------  --------------  -----  \n",
      " 0   Date    1258 non-null   object \n",
      " 1   AAPL    1258 non-null   float64\n",
      " 2   MSFT    1258 non-null   float64\n",
      " 3   AMZN    1258 non-null   float64\n",
      " 4   NVDA    1258 non-null   float64\n",
      " 5   TSLA    1258 non-null   float64\n",
      " 6   GOOGL   1258 non-null   float64\n",
      " 7   GOOG    1258 non-null   float64\n",
      " 8   META    1258 non-null   float64\n",
      " 9   BRK-B   1258 non-null   float64\n",
      " 10  UNH     1258 non-null   float64\n",
      "dtypes: float64(10), object(1)\n",
      "memory usage: 108.2+ KB\n"
     ]
    }
   ],
   "source": [
    "data = pd.read_csv('AllSP500.csv')\n",
    "labels = ['Date'] + labels\n",
    "data = data[labels]\n",
    "data.info()"
   ]
  },
  {
   "cell_type": "code",
   "execution_count": 108,
   "id": "e0a556ce-5b02-4d20-b77d-45c0a25c6b7e",
   "metadata": {
    "tags": []
   },
   "outputs": [
    {
     "data": {
      "text/html": [
       "<div>\n",
       "<style scoped>\n",
       "    .dataframe tbody tr th:only-of-type {\n",
       "        vertical-align: middle;\n",
       "    }\n",
       "\n",
       "    .dataframe tbody tr th {\n",
       "        vertical-align: top;\n",
       "    }\n",
       "\n",
       "    .dataframe thead th {\n",
       "        text-align: right;\n",
       "    }\n",
       "</style>\n",
       "<table border=\"1\" class=\"dataframe\">\n",
       "  <thead>\n",
       "    <tr style=\"text-align: right;\">\n",
       "      <th></th>\n",
       "      <th>Date</th>\n",
       "      <th>AAPL</th>\n",
       "      <th>MSFT</th>\n",
       "      <th>AMZN</th>\n",
       "      <th>NVDA</th>\n",
       "      <th>TSLA</th>\n",
       "      <th>GOOGL</th>\n",
       "      <th>GOOG</th>\n",
       "      <th>META</th>\n",
       "      <th>BRK-B</th>\n",
       "      <th>UNH</th>\n",
       "    </tr>\n",
       "  </thead>\n",
       "  <tbody>\n",
       "    <tr>\n",
       "      <th>0</th>\n",
       "      <td>2018-06-01</td>\n",
       "      <td>45.451923</td>\n",
       "      <td>95.326950</td>\n",
       "      <td>82.077003</td>\n",
       "      <td>63.816803</td>\n",
       "      <td>19.454666</td>\n",
       "      <td>56.750000</td>\n",
       "      <td>55.974998</td>\n",
       "      <td>193.990005</td>\n",
       "      <td>192.229996</td>\n",
       "      <td>225.197464</td>\n",
       "    </tr>\n",
       "    <tr>\n",
       "      <th>1</th>\n",
       "      <td>2018-06-04</td>\n",
       "      <td>45.831799</td>\n",
       "      <td>96.159256</td>\n",
       "      <td>83.263496</td>\n",
       "      <td>65.607826</td>\n",
       "      <td>19.782667</td>\n",
       "      <td>57.652000</td>\n",
       "      <td>56.964500</td>\n",
       "      <td>193.279999</td>\n",
       "      <td>191.300003</td>\n",
       "      <td>226.381973</td>\n",
       "    </tr>\n",
       "    <tr>\n",
       "      <th>2</th>\n",
       "      <td>2018-06-05</td>\n",
       "      <td>46.185398</td>\n",
       "      <td>96.651093</td>\n",
       "      <td>84.817497</td>\n",
       "      <td>65.662315</td>\n",
       "      <td>19.408667</td>\n",
       "      <td>57.550999</td>\n",
       "      <td>56.983002</td>\n",
       "      <td>192.940002</td>\n",
       "      <td>190.770004</td>\n",
       "      <td>226.196899</td>\n",
       "    </tr>\n",
       "    <tr>\n",
       "      <th>3</th>\n",
       "      <td>2018-06-06</td>\n",
       "      <td>46.345478</td>\n",
       "      <td>96.934830</td>\n",
       "      <td>84.787498</td>\n",
       "      <td>65.682137</td>\n",
       "      <td>21.299999</td>\n",
       "      <td>57.347500</td>\n",
       "      <td>56.844002</td>\n",
       "      <td>191.339996</td>\n",
       "      <td>193.990005</td>\n",
       "      <td>230.102081</td>\n",
       "    </tr>\n",
       "    <tr>\n",
       "      <th>4</th>\n",
       "      <td>2018-06-07</td>\n",
       "      <td>46.221237</td>\n",
       "      <td>95.412079</td>\n",
       "      <td>84.464996</td>\n",
       "      <td>65.124779</td>\n",
       "      <td>21.072666</td>\n",
       "      <td>56.721001</td>\n",
       "      <td>56.193001</td>\n",
       "      <td>188.179993</td>\n",
       "      <td>195.570007</td>\n",
       "      <td>230.407501</td>\n",
       "    </tr>\n",
       "  </tbody>\n",
       "</table>\n",
       "</div>"
      ],
      "text/plain": [
       "        Date       AAPL       MSFT       AMZN       NVDA       TSLA   \n",
       "0 2018-06-01  45.451923  95.326950  82.077003  63.816803  19.454666  \\\n",
       "1 2018-06-04  45.831799  96.159256  83.263496  65.607826  19.782667   \n",
       "2 2018-06-05  46.185398  96.651093  84.817497  65.662315  19.408667   \n",
       "3 2018-06-06  46.345478  96.934830  84.787498  65.682137  21.299999   \n",
       "4 2018-06-07  46.221237  95.412079  84.464996  65.124779  21.072666   \n",
       "\n",
       "       GOOGL       GOOG        META       BRK-B         UNH  \n",
       "0  56.750000  55.974998  193.990005  192.229996  225.197464  \n",
       "1  57.652000  56.964500  193.279999  191.300003  226.381973  \n",
       "2  57.550999  56.983002  192.940002  190.770004  226.196899  \n",
       "3  57.347500  56.844002  191.339996  193.990005  230.102081  \n",
       "4  56.721001  56.193001  188.179993  195.570007  230.407501  "
      ]
     },
     "execution_count": 108,
     "metadata": {},
     "output_type": "execute_result"
    }
   ],
   "source": [
    "data['Date'] = pd.to_datetime(data['Date'])\n",
    "data.head()"
   ]
  },
  {
   "cell_type": "code",
   "execution_count": 111,
   "id": "8e1444d9-dcbc-4f75-aff3-7d60e99ec5b9",
   "metadata": {
    "tags": []
   },
   "outputs": [
    {
     "data": {
      "text/html": [
       "<div>\n",
       "<style scoped>\n",
       "    .dataframe tbody tr th:only-of-type {\n",
       "        vertical-align: middle;\n",
       "    }\n",
       "\n",
       "    .dataframe tbody tr th {\n",
       "        vertical-align: top;\n",
       "    }\n",
       "\n",
       "    .dataframe thead th {\n",
       "        text-align: right;\n",
       "    }\n",
       "</style>\n",
       "<table border=\"1\" class=\"dataframe\">\n",
       "  <thead>\n",
       "    <tr style=\"text-align: right;\">\n",
       "      <th></th>\n",
       "      <th>AAPL</th>\n",
       "      <th>MSFT</th>\n",
       "      <th>AMZN</th>\n",
       "      <th>NVDA</th>\n",
       "      <th>TSLA</th>\n",
       "      <th>GOOGL</th>\n",
       "      <th>GOOG</th>\n",
       "      <th>META</th>\n",
       "      <th>BRK-B</th>\n",
       "      <th>UNH</th>\n",
       "    </tr>\n",
       "    <tr>\n",
       "      <th>Date</th>\n",
       "      <th></th>\n",
       "      <th></th>\n",
       "      <th></th>\n",
       "      <th></th>\n",
       "      <th></th>\n",
       "      <th></th>\n",
       "      <th></th>\n",
       "      <th></th>\n",
       "      <th></th>\n",
       "      <th></th>\n",
       "    </tr>\n",
       "  </thead>\n",
       "  <tbody>\n",
       "    <tr>\n",
       "      <th>2018-06-04</th>\n",
       "      <td>0.008358</td>\n",
       "      <td>0.008731</td>\n",
       "      <td>0.014456</td>\n",
       "      <td>0.028065</td>\n",
       "      <td>0.016860</td>\n",
       "      <td>0.015894</td>\n",
       "      <td>0.017678</td>\n",
       "      <td>-0.003660</td>\n",
       "      <td>-0.004838</td>\n",
       "      <td>0.005260</td>\n",
       "    </tr>\n",
       "    <tr>\n",
       "      <th>2018-06-05</th>\n",
       "      <td>0.007715</td>\n",
       "      <td>0.005115</td>\n",
       "      <td>0.018664</td>\n",
       "      <td>0.000831</td>\n",
       "      <td>-0.018905</td>\n",
       "      <td>-0.001752</td>\n",
       "      <td>0.000325</td>\n",
       "      <td>-0.001759</td>\n",
       "      <td>-0.002771</td>\n",
       "      <td>-0.000818</td>\n",
       "    </tr>\n",
       "    <tr>\n",
       "      <th>2018-06-06</th>\n",
       "      <td>0.003466</td>\n",
       "      <td>0.002936</td>\n",
       "      <td>-0.000354</td>\n",
       "      <td>0.000302</td>\n",
       "      <td>0.097448</td>\n",
       "      <td>-0.003536</td>\n",
       "      <td>-0.002439</td>\n",
       "      <td>-0.008293</td>\n",
       "      <td>0.016879</td>\n",
       "      <td>0.017265</td>\n",
       "    </tr>\n",
       "    <tr>\n",
       "      <th>2018-06-07</th>\n",
       "      <td>-0.002681</td>\n",
       "      <td>-0.015709</td>\n",
       "      <td>-0.003804</td>\n",
       "      <td>-0.008486</td>\n",
       "      <td>-0.010673</td>\n",
       "      <td>-0.010925</td>\n",
       "      <td>-0.011452</td>\n",
       "      <td>-0.016515</td>\n",
       "      <td>0.008145</td>\n",
       "      <td>0.001327</td>\n",
       "    </tr>\n",
       "    <tr>\n",
       "      <th>2018-06-08</th>\n",
       "      <td>-0.009098</td>\n",
       "      <td>0.007435</td>\n",
       "      <td>-0.003143</td>\n",
       "      <td>-0.002359</td>\n",
       "      <td>0.004967</td>\n",
       "      <td>-0.001507</td>\n",
       "      <td>-0.002661</td>\n",
       "      <td>0.004889</td>\n",
       "      <td>0.002250</td>\n",
       "      <td>0.006828</td>\n",
       "    </tr>\n",
       "  </tbody>\n",
       "</table>\n",
       "</div>"
      ],
      "text/plain": [
       "                AAPL      MSFT      AMZN      NVDA      TSLA     GOOGL   \n",
       "Date                                                                     \n",
       "2018-06-04  0.008358  0.008731  0.014456  0.028065  0.016860  0.015894  \\\n",
       "2018-06-05  0.007715  0.005115  0.018664  0.000831 -0.018905 -0.001752   \n",
       "2018-06-06  0.003466  0.002936 -0.000354  0.000302  0.097448 -0.003536   \n",
       "2018-06-07 -0.002681 -0.015709 -0.003804 -0.008486 -0.010673 -0.010925   \n",
       "2018-06-08 -0.009098  0.007435 -0.003143 -0.002359  0.004967 -0.001507   \n",
       "\n",
       "                GOOG      META     BRK-B       UNH  \n",
       "Date                                                \n",
       "2018-06-04  0.017678 -0.003660 -0.004838  0.005260  \n",
       "2018-06-05  0.000325 -0.001759 -0.002771 -0.000818  \n",
       "2018-06-06 -0.002439 -0.008293  0.016879  0.017265  \n",
       "2018-06-07 -0.011452 -0.016515  0.008145  0.001327  \n",
       "2018-06-08 -0.002661  0.004889  0.002250  0.006828  "
      ]
     },
     "execution_count": 111,
     "metadata": {},
     "output_type": "execute_result"
    }
   ],
   "source": [
    "data = data.set_index(['Date'])\n",
    "data_change = data.pct_change()[1:]\n",
    "data_change.head()"
   ]
  },
  {
   "cell_type": "markdown",
   "id": "2bc9f850-d45c-4296-b2ec-613192c1ea59",
   "metadata": {},
   "source": [
    "- The Sharpe Ratio is defined as:\n",
    "$$S_P = \\frac{\\mathbb{E}[R_P]}{\\sigma_P} = \\left( \\sum_j \\mathbb{E}[R_j]\\, w_j \\right) \\left(\\sum_{i,j} w_i\\, \\Sigma_{ij} \\, w_j\\right)^{-1/2}$$\n",
    "- Note, however, that $\\mathbb{E}[R_P]$ won't make much sense, as the $R_i$ are NOT additive. Thus, we use instead the Log returns, which are additive."
   ]
  },
  {
   "cell_type": "code",
   "execution_count": 112,
   "id": "daf6ad0f-6f2a-46f8-b832-f2cb6ca76456",
   "metadata": {
    "tags": []
   },
   "outputs": [],
   "source": [
    "number_of_symbols = 10\n",
    "log_return = np.log(1 + data_change)\n",
    "\n",
    "# Generate Random Weights.\n",
    "random_weights = np.array(np.random.random(number_of_symbols))\n",
    "rebalance_weights = random_weights / np.sum(random_weights)\n",
    "\n",
    "# Calculate the Expected Returns, annualize it by multiplying it by `252`.\n",
    "exp_ret = np.sum((log_return.mean() * rebalance_weights) * 252)\n",
    "\n",
    "# Calculate the Expected Volatility, annualize it by multiplying it by `252`.\n",
    "# This is the covariance matrix!\n",
    "exp_vol = np.sqrt(np.dot(rebalance_weights.T, np.dot(log_return.cov() * 252, rebalance_weights)))\n",
    "\n",
    "# Calculate the Sharpe Ratio (without risk-free ratio)\n",
    "sharpe_ratio = exp_ret / exp_vol"
   ]
  },
  {
   "cell_type": "code",
   "execution_count": 113,
   "id": "f655096a-e73b-4800-a6f2-a7220e32661d",
   "metadata": {
    "tags": []
   },
   "outputs": [
    {
     "data": {
      "text/plain": [
       "0.7180121133990381"
      ]
     },
     "execution_count": 113,
     "metadata": {},
     "output_type": "execute_result"
    }
   ],
   "source": [
    "sharpe_ratio"
   ]
  },
  {
   "cell_type": "markdown",
   "id": "ad686e5b-27a8-42b9-8e41-202c2e6a496d",
   "metadata": {},
   "source": [
    "- So our 'S&P 10' portfolio is in fact not a great one. Can we do better?"
   ]
  },
  {
   "cell_type": "markdown",
   "id": "6848750d-c1e1-48e8-8f36-b232ea2f88cb",
   "metadata": {
    "tags": []
   },
   "source": [
    "### Sharpe Ratio Optimization\n",
    "\n",
    "- We define some functions to use for our optimization: the get_metrics() function will return the metrics for a given set of weights provided. The function is the neg_sharpe function will be used as a minimization function. The minimization function is used to help find the values which results in the lowest sharpe ratio. In Scipy’s optimize function, there’s no maximize, so as an objective function you need to pass something that should be minimized.\n",
    "\n",
    "- The third function is check_sum function which is used as a constraint. What it will do is make sure that the weights that are passed through meet the constraint that we must have a portfolio allocation equal 100%, not more and not less."
   ]
  },
  {
   "cell_type": "code",
   "execution_count": 115,
   "id": "b3ebf563-698f-4b87-8175-bb38323cead9",
   "metadata": {
    "tags": []
   },
   "outputs": [],
   "source": [
    "def get_metrics(weights: list) -> np.array:\n",
    "    weights = np.array(weights)\n",
    "    ret = np.sum(log_return.mean() * weights) * 252 # Calculate the returns, annualize them (252).\n",
    "\n",
    "    # Calculate the volatility, remember to annualize them (252).\n",
    "    vol = np.sqrt(\n",
    "        np.dot(weights.T, np.dot(log_return.cov() * 252, weights))\n",
    "        )\n",
    "\n",
    "    sr = ret / vol # Calculate the Sharpe Ratio.\n",
    "    return np.array([ret, vol, sr])\n",
    "\n",
    "\n",
    "def grab_negative_sharpe(weights: list) -> np.array:\n",
    "    return -get_metrics(weights)[2]  # negative sharpe ratio \n",
    "\n",
    "\n",
    "def check_sum(weights: list) -> float:\n",
    "    return np.sum(weights) - 1\n"
   ]
  },
  {
   "cell_type": "markdown",
   "id": "4c7b2a5f-920e-4a3a-80d3-938215c815c9",
   "metadata": {},
   "source": [
    "- Okay with our functions now defined, let's run the optimization using the scipy.optimization module. This module has a function called minimize which we can use to help our optimial values. However, we need to do a few things before we run it. First, we need to define bounds which tells the minimize function that each of our positions can only be between 0% and 100% of the allocation. Second, we need to define the constraint which will be a fun(function) that ensures we equ(equal) a 100% allocated portfolio. In other words, we use all the \"capital\" we can. Third, we need to define our initial guess of the weights. The initial guess can be anything but in this case let's make it easy and start with an equally distirbuted portofolio. In this case we have 10 symbols so each symbol will be 1/10 of the portfolio.\n",
    "\n",
    "- Once we've defined this steps we can run the optimization by passing through the arguments defined and defining the method as SLSQP which is short for Sequential Least Squares Programming. Now, the different optimization methods are a whole different topic and is outside the scope of this tutorial. Once we run the minimize method we can grab the results.\n",
    "\n",
    "- The first is the results of our minimization operation. Inside the results, you'll see the optimize sharpe ration defined by the fun value. We can then take the optimized_weights defined by the optimized_sharpe.x values, and use them to return the different metrics we have for our portfolio."
   ]
  },
  {
   "cell_type": "code",
   "execution_count": 116,
   "id": "3ff82b9e-4d78-4779-9b5b-b6561fe0c056",
   "metadata": {
    "tags": []
   },
   "outputs": [
    {
     "name": "stdout",
     "output_type": "stream",
     "text": [
      "\n",
      "================================================================================\n",
      "OPTIMIZED SHARPE RATIO:\n",
      "--------------------------------------------------------------------------------\n",
      " message: Optimization terminated successfully\n",
      " success: True\n",
      "  status: 0\n",
      "     fun: -0.9224066064842398\n",
      "       x: [ 3.718e-01  3.115e-01  6.939e-18  5.927e-03  1.919e-01\n",
      "            8.674e-18  1.343e-17  4.640e-17  2.255e-17  1.189e-01]\n",
      "     nit: 10\n",
      "     jac: [ 2.607e-04 -8.488e-05  4.936e-01  1.806e-04  9.341e-05\n",
      "            2.031e-01  1.878e-01  5.890e-01  6.769e-02 -7.526e-04]\n",
      "    nfev: 111\n",
      "    njev: 10\n",
      "--------------------------------------------------------------------------------\n"
     ]
    }
   ],
   "source": [
    "bounds = tuple((0, 1) for symbol in range(number_of_symbols))\n",
    "\n",
    "# Define the constraints, here I'm saying that the sum of each weight must not exceed 100%.\n",
    "constraints = ({'type': 'eq', 'fun': check_sum})\n",
    " \n",
    "init_guess = number_of_symbols * [1 / number_of_symbols]\n",
    "\n",
    "# Perform the operation to minimize the risk.\n",
    "optimized_sharpe = sci_opt.minimize(\n",
    "    grab_negative_sharpe, # minimize this.\n",
    "    init_guess, # Start with these values.\n",
    "    method='SLSQP', # Sequential Least Squares Programming\n",
    "    bounds=bounds, # don't exceed these bounds.\n",
    "    constraints=constraints # make sure you don't exceed the 100% constraint.\n",
    ")\n",
    "\n",
    "# Print the results.\n",
    "print('')\n",
    "print('='*80)\n",
    "print('OPTIMIZED SHARPE RATIO:')\n",
    "print('-'*80)\n",
    "print(optimized_sharpe)\n",
    "print('-'*80)"
   ]
  },
  {
   "cell_type": "markdown",
   "id": "2bc11b91-dc7c-4aa3-a84b-3793583b1b36",
   "metadata": {},
   "source": [
    "- So we get a sharpe ratio of 0.922. This is still not great, but better than the 'S&P 10' Portfolio!\n",
    "- Let's visualize this!"
   ]
  },
  {
   "cell_type": "code",
   "execution_count": 140,
   "id": "fc5cf6d0-f9f7-45ff-ae9d-2b8e1ab6a506",
   "metadata": {
    "tags": []
   },
   "outputs": [
    {
     "data": {
      "text/plain": [
       "array([0.28947673, 0.31382769, 0.92240661])"
      ]
     },
     "execution_count": 140,
     "metadata": {},
     "output_type": "execute_result"
    }
   ],
   "source": [
    "get_metrics(optimized_sharpe.x)"
   ]
  },
  {
   "cell_type": "code",
   "execution_count": 133,
   "id": "fe68ae72-c7ab-452e-8659-ee9928a08ee1",
   "metadata": {
    "tags": []
   },
   "outputs": [
    {
     "data": {
      "text/html": [
       "<div>\n",
       "<style scoped>\n",
       "    .dataframe tbody tr th:only-of-type {\n",
       "        vertical-align: middle;\n",
       "    }\n",
       "\n",
       "    .dataframe tbody tr th {\n",
       "        vertical-align: top;\n",
       "    }\n",
       "\n",
       "    .dataframe thead th {\n",
       "        text-align: right;\n",
       "    }\n",
       "</style>\n",
       "<table border=\"1\" class=\"dataframe\">\n",
       "  <thead>\n",
       "    <tr style=\"text-align: right;\">\n",
       "      <th></th>\n",
       "      <th>Company</th>\n",
       "      <th>Symbol</th>\n",
       "      <th>Weight</th>\n",
       "      <th>Sector</th>\n",
       "      <th>New_weights</th>\n",
       "    </tr>\n",
       "  </thead>\n",
       "  <tbody>\n",
       "    <tr>\n",
       "      <th>2</th>\n",
       "      <td>Amazon.com Inc</td>\n",
       "      <td>AMZN</td>\n",
       "      <td>9.999124</td>\n",
       "      <td>Consumer Discretionary</td>\n",
       "      <td>6.938894e-16</td>\n",
       "    </tr>\n",
       "    <tr>\n",
       "      <th>5</th>\n",
       "      <td>Alphabet Inc Cl A</td>\n",
       "      <td>GOOGL</td>\n",
       "      <td>6.513092</td>\n",
       "      <td>Communication Services</td>\n",
       "      <td>8.673617e-16</td>\n",
       "    </tr>\n",
       "    <tr>\n",
       "      <th>6</th>\n",
       "      <td>Alphabet Inc Cl C</td>\n",
       "      <td>GOOG</td>\n",
       "      <td>5.636610</td>\n",
       "      <td>Communication Services</td>\n",
       "      <td>1.343394e-15</td>\n",
       "    </tr>\n",
       "    <tr>\n",
       "      <th>8</th>\n",
       "      <td>Berkshire Hathaway Inc Cl B</td>\n",
       "      <td>BRK-B</td>\n",
       "      <td>5.378600</td>\n",
       "      <td>Financials</td>\n",
       "      <td>2.255141e-15</td>\n",
       "    </tr>\n",
       "    <tr>\n",
       "      <th>7</th>\n",
       "      <td>Meta Platforms Inc Class A</td>\n",
       "      <td>META</td>\n",
       "      <td>5.601525</td>\n",
       "      <td>Communication Services</td>\n",
       "      <td>4.640385e-15</td>\n",
       "    </tr>\n",
       "    <tr>\n",
       "      <th>3</th>\n",
       "      <td>Nvidia Corp</td>\n",
       "      <td>NVDA</td>\n",
       "      <td>9.648725</td>\n",
       "      <td>Information Technology</td>\n",
       "      <td>5.927457e-01</td>\n",
       "    </tr>\n",
       "    <tr>\n",
       "      <th>9</th>\n",
       "      <td>Unitedhealth Group Inc</td>\n",
       "      <td>UNH</td>\n",
       "      <td>3.891944</td>\n",
       "      <td>Health Care</td>\n",
       "      <td>1.188765e+01</td>\n",
       "    </tr>\n",
       "    <tr>\n",
       "      <th>4</th>\n",
       "      <td>Tesla Inc</td>\n",
       "      <td>TSLA</td>\n",
       "      <td>6.584814</td>\n",
       "      <td>Consumer Discretionary</td>\n",
       "      <td>1.918537e+01</td>\n",
       "    </tr>\n",
       "    <tr>\n",
       "      <th>1</th>\n",
       "      <td>Microsoft Corp</td>\n",
       "      <td>MSFT</td>\n",
       "      <td>22.385125</td>\n",
       "      <td>Information Technology</td>\n",
       "      <td>3.115091e+01</td>\n",
       "    </tr>\n",
       "    <tr>\n",
       "      <th>0</th>\n",
       "      <td>Apple Inc</td>\n",
       "      <td>AAPL</td>\n",
       "      <td>24.360440</td>\n",
       "      <td>Information Technology</td>\n",
       "      <td>3.718333e+01</td>\n",
       "    </tr>\n",
       "  </tbody>\n",
       "</table>\n",
       "</div>"
      ],
      "text/plain": [
       "                       Company Symbol     Weight                  Sector   \n",
       "2               Amazon.com Inc   AMZN   9.999124  Consumer Discretionary  \\\n",
       "5            Alphabet Inc Cl A  GOOGL   6.513092  Communication Services   \n",
       "6            Alphabet Inc Cl C   GOOG   5.636610  Communication Services   \n",
       "8  Berkshire Hathaway Inc Cl B  BRK-B   5.378600              Financials   \n",
       "7   Meta Platforms Inc Class A   META   5.601525  Communication Services   \n",
       "3                  Nvidia Corp   NVDA   9.648725  Information Technology   \n",
       "9       Unitedhealth Group Inc    UNH   3.891944             Health Care   \n",
       "4                    Tesla Inc   TSLA   6.584814  Consumer Discretionary   \n",
       "1               Microsoft Corp   MSFT  22.385125  Information Technology   \n",
       "0                    Apple Inc   AAPL  24.360440  Information Technology   \n",
       "\n",
       "    New_weights  \n",
       "2  6.938894e-16  \n",
       "5  8.673617e-16  \n",
       "6  1.343394e-15  \n",
       "8  2.255141e-15  \n",
       "7  4.640385e-15  \n",
       "3  5.927457e-01  \n",
       "9  1.188765e+01  \n",
       "4  1.918537e+01  \n",
       "1  3.115091e+01  \n",
       "0  3.718333e+01  "
      ]
     },
     "execution_count": 133,
     "metadata": {},
     "output_type": "execute_result"
    }
   ],
   "source": [
    "sp500_first10['New_weights'] = optimized_sharpe.x*100       \n",
    "sp500_first10.sort_values(by=['New_weights'])"
   ]
  },
  {
   "cell_type": "markdown",
   "id": "f098fb44-cd73-445f-a505-d84433ae1fce",
   "metadata": {
    "tags": []
   },
   "source": [
    "- The two portfolios are quite different!"
   ]
  },
  {
   "cell_type": "code",
   "execution_count": 137,
   "id": "04d001ad-39dd-4456-b10e-280013b7b38d",
   "metadata": {},
   "outputs": [
    {
     "data": {
      "image/png": "[encoded data removed]",
      "text/plain": [
       "<Figure size 640x480 with 1 Axes>"
      ]
     },
     "metadata": {},
     "output_type": "display_data"
    }
   ],
   "source": [
    "data, labels = [], []\n",
    "\n",
    "for j in range(10):\n",
    "    if sp500_first10['New_weights'][j] > 0.001:\n",
    "        data.append(sp500_first10['New_weights'][j])\n",
    "        labels.append(sp500_first10['Symbol'][j])\n",
    "\n",
    "myexplode = [0.05]*len(data)\n",
    "\n",
    "fig1, ax1 = plt.subplots()\n",
    "plt.pie(data, labels = labels, startangle=90, pctdistance=0.85, explode = myexplode)\n",
    "\n",
    "centre_circle = plt.Circle((0,0),0.70,fc='white')\n",
    "fig = plt.gcf()\n",
    "fig.gca().add_artist(centre_circle)\n",
    "# Equal aspect ratio ensures that pie is drawn as a circle\n",
    "ax1.axis('equal')  \n",
    "plt.tight_layout()\n",
    "plt.show()"
   ]
  },
  {
   "cell_type": "markdown",
   "id": "3eb004b5-3e4f-486a-bc62-33a4e1f16cfa",
   "metadata": {},
   "source": [
    "### Monte Carlo Simulation\n",
    "\n",
    "- Finally, let us do a Monte Carlo simulation for finding the Sharpe Ratio. This is purely for visualization purposes."
   ]
  },
  {
   "cell_type": "code",
   "execution_count": 142,
   "id": "01de5582-4e38-4316-89f8-3fa1f9456f53",
   "metadata": {
    "tags": []
   },
   "outputs": [
    {
     "data": {
      "text/html": [
       "<div>\n",
       "<style scoped>\n",
       "    .dataframe tbody tr th:only-of-type {\n",
       "        vertical-align: middle;\n",
       "    }\n",
       "\n",
       "    .dataframe tbody tr th {\n",
       "        vertical-align: top;\n",
       "    }\n",
       "\n",
       "    .dataframe thead th {\n",
       "        text-align: right;\n",
       "    }\n",
       "</style>\n",
       "<table border=\"1\" class=\"dataframe\">\n",
       "  <thead>\n",
       "    <tr style=\"text-align: right;\">\n",
       "      <th></th>\n",
       "      <th>Returns</th>\n",
       "      <th>Volatility</th>\n",
       "      <th>Sharpe Ratio</th>\n",
       "      <th>Portfolio Weights</th>\n",
       "    </tr>\n",
       "  </thead>\n",
       "  <tbody>\n",
       "    <tr>\n",
       "      <th>0</th>\n",
       "      <td>0.205807</td>\n",
       "      <td>0.290008</td>\n",
       "      <td>0.709659</td>\n",
       "      <td>[0.1364340389262313, 0.17335468280840186, 0.01...</td>\n",
       "    </tr>\n",
       "    <tr>\n",
       "      <th>1</th>\n",
       "      <td>0.145580</td>\n",
       "      <td>0.251957</td>\n",
       "      <td>0.577797</td>\n",
       "      <td>[0.0578973493127729, 0.06284147838080446, 0.19...</td>\n",
       "    </tr>\n",
       "    <tr>\n",
       "      <th>2</th>\n",
       "      <td>0.173709</td>\n",
       "      <td>0.283540</td>\n",
       "      <td>0.612644</td>\n",
       "      <td>[0.1027024242325892, 0.08410217130099731, 0.13...</td>\n",
       "    </tr>\n",
       "    <tr>\n",
       "      <th>3</th>\n",
       "      <td>0.178187</td>\n",
       "      <td>0.301326</td>\n",
       "      <td>0.591342</td>\n",
       "      <td>[0.024166953917849447, 0.04622651267612032, 0....</td>\n",
       "    </tr>\n",
       "    <tr>\n",
       "      <th>4</th>\n",
       "      <td>0.189136</td>\n",
       "      <td>0.276166</td>\n",
       "      <td>0.684863</td>\n",
       "      <td>[0.07337618337992105, 0.08412743216960757, 0.0...</td>\n",
       "    </tr>\n",
       "  </tbody>\n",
       "</table>\n",
       "</div>"
      ],
      "text/plain": [
       "    Returns  Volatility  Sharpe Ratio   \n",
       "0  0.205807    0.290008      0.709659  \\\n",
       "1  0.145580    0.251957      0.577797   \n",
       "2  0.173709    0.283540      0.612644   \n",
       "3  0.178187    0.301326      0.591342   \n",
       "4  0.189136    0.276166      0.684863   \n",
       "\n",
       "                                   Portfolio Weights  \n",
       "0  [0.1364340389262313, 0.17335468280840186, 0.01...  \n",
       "1  [0.0578973493127729, 0.06284147838080446, 0.19...  \n",
       "2  [0.1027024242325892, 0.08410217130099731, 0.13...  \n",
       "3  [0.024166953917849447, 0.04622651267612032, 0....  \n",
       "4  [0.07337618337992105, 0.08412743216960757, 0.0...  "
      ]
     },
     "execution_count": 142,
     "metadata": {},
     "output_type": "execute_result"
    }
   ],
   "source": [
    "# Initialize the components, to run a Monte Carlo Simulation.\n",
    "\n",
    "num_of_portfolios = 30000\n",
    "\n",
    "all_weights = np.zeros((num_of_portfolios, number_of_symbols))\n",
    "ret_arr = np.zeros(num_of_portfolios) # array of returns\n",
    "vol_arr = np.zeros(num_of_portfolios) # array of volatilities\n",
    "sharpe_arr = np.zeros(num_of_portfolios) # array of sharpe ratio\n",
    "\n",
    "for ind in range(num_of_portfolios):\n",
    "\n",
    "    weights = np.array(np.random.random(number_of_symbols))\n",
    "    weights = weights / np.sum(weights)\n",
    "\n",
    "    all_weights[ind, :] = weights  \n",
    "    ret_arr[ind] = np.sum((log_return.mean() * weights) * 252)\n",
    "    vol_arr[ind] = np.sqrt(\n",
    "        np.dot(weights.T, np.dot(log_return.cov() * 252, weights))\n",
    "    )\n",
    "\n",
    "    sharpe_arr[ind] = ret_arr[ind]/vol_arr[ind]\n",
    "\n",
    "\n",
    "simulations_data = [ret_arr, vol_arr, sharpe_arr, all_weights]\n",
    "simulations_df = pd.DataFrame(data=simulations_data).T\n",
    "simulations_df.columns = ['Returns','Volatility','Sharpe Ratio','Portfolio Weights']\n",
    "\n",
    "simulations_df = simulations_df.infer_objects()\n",
    "\n",
    "\n",
    "simulations_df.head()"
   ]
  },
  {
   "cell_type": "code",
   "execution_count": 143,
   "id": "c522d0ec-e346-4a06-8355-11f1d6dac762",
   "metadata": {
    "tags": []
   },
   "outputs": [
    {
     "data": {
      "image/png": "[encoded data removed]",
      "text/plain": [
       "<Figure size 640x480 with 2 Axes>"
      ]
     },
     "metadata": {},
     "output_type": "display_data"
    }
   ],
   "source": [
    "# Plot the data on a Scatter plot.\n",
    "plt.scatter(y=simulations_df['Returns'], x=simulations_df['Volatility'], c=simulations_df['Sharpe Ratio'], cmap='RdYlBu')\n",
    "\n",
    "# Give the Plot some labels, and titles.\n",
    "plt.title('Portfolio Returns Vs. Risk')\n",
    "plt.colorbar(label='Sharpe Ratio')\n",
    "plt.xlabel('Standard Deviation')\n",
    "plt.ylabel('Returns')\n",
    "\n",
    "# Plot the Max Sharpe Ratio portfolio found before\n",
    "plt.scatter(0.28947673, 0.31382769, marker=(5, 1, 0), color='r', s=100) # s=size\n",
    "\n",
    "# Finally, show the plot.\n",
    "plt.show()"
   ]
  },
  {
   "cell_type": "markdown",
   "id": "88cfe159-678d-4917-bb95-88148a24c128",
   "metadata": {},
   "source": [
    "- Note that we are actually missing out on the maximal Sharpe Ratio due to the fact that a bunch of the weights are actually zero!"
   ]
  },
  {
   "cell_type": "code",
   "execution_count": null,
   "id": "c1848d59-5f77-4227-8cb2-114bcfd7e91e",
   "metadata": {},
   "outputs": [],
   "source": []
  }
 ],
 "metadata": {
  "kernelspec": {
   "display_name": "Python 3 (ipykernel)",
   "language": "python",
   "name": "python3"
  },
  "language_info": {
   "codemirror_mode": {
    "name": "ipython",
    "version": 3
   },
   "file_extension": ".py",
   "mimetype": "text/x-python",
   "name": "python",
   "nbconvert_exporter": "python",
   "pygments_lexer": "ipython3",
   "version": "3.11.3"
  }
 },
 "nbformat": 4,
 "nbformat_minor": 5
}
