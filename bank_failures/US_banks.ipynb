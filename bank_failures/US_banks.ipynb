{
 "cells": [
  {
   "cell_type": "code",
   "execution_count": 1,
   "id": "65f6492d-2ef4-43f3-ab29-2265739e2e79",
   "metadata": {
    "tags": []
   },
   "outputs": [],
   "source": [
    "import numpy as np\n",
    "import pandas as pd\n",
    "import datetime as dt\n",
    "import matplotlib.pyplot as plt\n",
    "import seaborn as sns\n",
    "\n",
    "import warnings\n",
    "warnings.filterwarnings(\"ignore\")\n",
    "\n",
    "%matplotlib inline\n",
    "sns.set()\n"
   ]
  },
  {
   "cell_type": "markdown",
   "id": "d00e23ca-87b0-49d3-88f0-19268e9964a6",
   "metadata": {
    "tags": []
   },
   "source": [
    "### List of all US Bank Failures to 2000\n",
    "\n",
    "The bfb1.csv file contains all US Bank failures from 2000 to May 2023. We import this data below."
   ]
  },
  {
   "cell_type": "code",
   "execution_count": 3,
   "id": "7ec49a00-f44c-45ef-91ac-5fb93976dc37",
   "metadata": {
    "tags": []
   },
   "outputs": [
    {
     "data": {
      "text/html": [
       "<div>\n",
       "<style scoped>\n",
       "    .dataframe tbody tr th:only-of-type {\n",
       "        vertical-align: middle;\n",
       "    }\n",
       "\n",
       "    .dataframe tbody tr th {\n",
       "        vertical-align: top;\n",
       "    }\n",
       "\n",
       "    .dataframe thead th {\n",
       "        text-align: right;\n",
       "    }\n",
       "</style>\n",
       "<table border=\"1\" class=\"dataframe\">\n",
       "  <thead>\n",
       "    <tr style=\"text-align: right;\">\n",
       "      <th></th>\n",
       "      <th>Bank Name</th>\n",
       "      <th>Closing Date</th>\n",
       "      <th>Approx. Asset (Millions)</th>\n",
       "      <th>Approx. Deposit (Millions)</th>\n",
       "    </tr>\n",
       "  </thead>\n",
       "  <tbody>\n",
       "    <tr>\n",
       "      <th>0</th>\n",
       "      <td>First Republic Bank</td>\n",
       "      <td>01-May-23</td>\n",
       "      <td>$229,100.00</td>\n",
       "      <td>$103,900.00</td>\n",
       "    </tr>\n",
       "    <tr>\n",
       "      <th>1</th>\n",
       "      <td>Signature Bank</td>\n",
       "      <td>12-Mar-23</td>\n",
       "      <td>$110,400.00</td>\n",
       "      <td>$88,600.00</td>\n",
       "    </tr>\n",
       "    <tr>\n",
       "      <th>2</th>\n",
       "      <td>Silicon Valley Bank</td>\n",
       "      <td>10-Mar-23</td>\n",
       "      <td>$209,000.00</td>\n",
       "      <td>$175,400.00</td>\n",
       "    </tr>\n",
       "    <tr>\n",
       "      <th>3</th>\n",
       "      <td>Almena State Bank</td>\n",
       "      <td>23-Oct-20</td>\n",
       "      <td>$70.00</td>\n",
       "      <td>$68.70</td>\n",
       "    </tr>\n",
       "    <tr>\n",
       "      <th>4</th>\n",
       "      <td>First City Bank of Florida</td>\n",
       "      <td>16-Oct-20</td>\n",
       "      <td>$134.70</td>\n",
       "      <td>$131.40</td>\n",
       "    </tr>\n",
       "  </tbody>\n",
       "</table>\n",
       "</div>"
      ],
      "text/plain": [
       "                    Bank Name Closing Date Approx. Asset (Millions)   \n",
       "0         First Republic Bank    01-May-23             $229,100.00   \\\n",
       "1              Signature Bank    12-Mar-23             $110,400.00    \n",
       "2         Silicon Valley Bank    10-Mar-23             $209,000.00    \n",
       "3           Almena State Bank    23-Oct-20                  $70.00    \n",
       "4  First City Bank of Florida    16-Oct-20                 $134.70    \n",
       "\n",
       "  Approx. Deposit (Millions)  \n",
       "0               $103,900.00   \n",
       "1                $88,600.00   \n",
       "2               $175,400.00   \n",
       "3                    $68.70   \n",
       "4                   $131.40   "
      ]
     },
     "execution_count": 3,
     "metadata": {},
     "output_type": "execute_result"
    }
   ],
   "source": [
    "bank_fail = pd.read_csv('bfb1.csv', encoding='windows-1252')\n",
    "bank_fail.head()"
   ]
  },
  {
   "cell_type": "code",
   "execution_count": 4,
   "id": "bcd07e72-c4c1-4d9d-8a28-42d0fea62f68",
   "metadata": {
    "tags": []
   },
   "outputs": [
    {
     "name": "stdout",
     "output_type": "stream",
     "text": [
      "<class 'pandas.core.frame.DataFrame'>\n",
      "RangeIndex: 564 entries, 0 to 563\n",
      "Data columns (total 4 columns):\n",
      " #   Column                      Non-Null Count  Dtype \n",
      "---  ------                      --------------  ----- \n",
      " 0   Bank Name                   564 non-null    object\n",
      " 1   Closing Date                564 non-null    object\n",
      " 2   Approx. Asset (Millions)    564 non-null    object\n",
      " 3   Approx. Deposit (Millions)  564 non-null    object\n",
      "dtypes: object(4)\n",
      "memory usage: 17.8+ KB\n"
     ]
    }
   ],
   "source": [
    "bank_fail.info()"
   ]
  },
  {
   "cell_type": "markdown",
   "id": "17caaa14-b64c-467e-aa84-9e73f81a7fef",
   "metadata": {},
   "source": [
    "- Let us store the column names in a vector cols:"
   ]
  },
  {
   "cell_type": "code",
   "execution_count": 6,
   "id": "f116e20a-b4ea-472f-bc1e-497391bdbf7d",
   "metadata": {
    "tags": []
   },
   "outputs": [
    {
     "data": {
      "text/plain": [
       "Index(['Bank Name', 'Closing Date', 'Approx. Asset (Millions)',\n",
       "       'Approx. Deposit (Millions)'],\n",
       "      dtype='object')"
      ]
     },
     "execution_count": 6,
     "metadata": {},
     "output_type": "execute_result"
    }
   ],
   "source": [
    "cols = bank_fail.columns\n",
    "cols"
   ]
  },
  {
   "cell_type": "markdown",
   "id": "5652a299-054f-4ed2-b8fb-e463577d6487",
   "metadata": {},
   "source": [
    "- We need to convert 'date' to an actual date, using datetime. We want to create a bar plot, and make a cummulative sum for each month from 2000 to 2023."
   ]
  },
  {
   "cell_type": "code",
   "execution_count": 7,
   "id": "585b63cb-b3d2-4519-9bd0-7bd79e3b8d5d",
   "metadata": {
    "tags": []
   },
   "outputs": [],
   "source": [
    "bank_fail['Date'] = pd.to_datetime(bank_fail[cols[1]], format='%d-%b-%y') "
   ]
  },
  {
   "cell_type": "code",
   "execution_count": 9,
   "id": "aed5145d-95fb-4190-8dbf-0df1753baa7d",
   "metadata": {
    "tags": []
   },
   "outputs": [
    {
     "data": {
      "text/html": [
       "<div>\n",
       "<style scoped>\n",
       "    .dataframe tbody tr th:only-of-type {\n",
       "        vertical-align: middle;\n",
       "    }\n",
       "\n",
       "    .dataframe tbody tr th {\n",
       "        vertical-align: top;\n",
       "    }\n",
       "\n",
       "    .dataframe thead th {\n",
       "        text-align: right;\n",
       "    }\n",
       "</style>\n",
       "<table border=\"1\" class=\"dataframe\">\n",
       "  <thead>\n",
       "    <tr style=\"text-align: right;\">\n",
       "      <th></th>\n",
       "      <th>Bank Name</th>\n",
       "      <th>Closing Date</th>\n",
       "      <th>Approx. Asset (Millions)</th>\n",
       "      <th>Approx. Deposit (Millions)</th>\n",
       "      <th>Date</th>\n",
       "      <th>Month</th>\n",
       "    </tr>\n",
       "  </thead>\n",
       "  <tbody>\n",
       "    <tr>\n",
       "      <th>0</th>\n",
       "      <td>First Republic Bank</td>\n",
       "      <td>01-May-23</td>\n",
       "      <td>$229,100.00</td>\n",
       "      <td>$103,900.00</td>\n",
       "      <td>2023-05-01</td>\n",
       "      <td>05/23</td>\n",
       "    </tr>\n",
       "    <tr>\n",
       "      <th>1</th>\n",
       "      <td>Signature Bank</td>\n",
       "      <td>12-Mar-23</td>\n",
       "      <td>$110,400.00</td>\n",
       "      <td>$88,600.00</td>\n",
       "      <td>2023-03-12</td>\n",
       "      <td>03/23</td>\n",
       "    </tr>\n",
       "    <tr>\n",
       "      <th>2</th>\n",
       "      <td>Silicon Valley Bank</td>\n",
       "      <td>10-Mar-23</td>\n",
       "      <td>$209,000.00</td>\n",
       "      <td>$175,400.00</td>\n",
       "      <td>2023-03-10</td>\n",
       "      <td>03/23</td>\n",
       "    </tr>\n",
       "    <tr>\n",
       "      <th>3</th>\n",
       "      <td>Almena State Bank</td>\n",
       "      <td>23-Oct-20</td>\n",
       "      <td>$70.00</td>\n",
       "      <td>$68.70</td>\n",
       "      <td>2020-10-23</td>\n",
       "      <td>10/20</td>\n",
       "    </tr>\n",
       "    <tr>\n",
       "      <th>4</th>\n",
       "      <td>First City Bank of Florida</td>\n",
       "      <td>16-Oct-20</td>\n",
       "      <td>$134.70</td>\n",
       "      <td>$131.40</td>\n",
       "      <td>2020-10-16</td>\n",
       "      <td>10/20</td>\n",
       "    </tr>\n",
       "    <tr>\n",
       "      <th>5</th>\n",
       "      <td>First State Bank</td>\n",
       "      <td>03-Apr-20</td>\n",
       "      <td>$152.40</td>\n",
       "      <td>$139.50</td>\n",
       "      <td>2020-04-03</td>\n",
       "      <td>04/20</td>\n",
       "    </tr>\n",
       "    <tr>\n",
       "      <th>6</th>\n",
       "      <td>Ericson State Bank</td>\n",
       "      <td>14-Feb-20</td>\n",
       "      <td>$100.90</td>\n",
       "      <td>$95.20</td>\n",
       "      <td>2020-02-14</td>\n",
       "      <td>02/20</td>\n",
       "    </tr>\n",
       "    <tr>\n",
       "      <th>7</th>\n",
       "      <td>City National Bank of New Jersey</td>\n",
       "      <td>01-Nov-19</td>\n",
       "      <td>$120.60</td>\n",
       "      <td>$111.20</td>\n",
       "      <td>2019-11-01</td>\n",
       "      <td>11/19</td>\n",
       "    </tr>\n",
       "    <tr>\n",
       "      <th>8</th>\n",
       "      <td>Resolute Bank</td>\n",
       "      <td>25-Oct-19</td>\n",
       "      <td>$27.10</td>\n",
       "      <td>$26.20</td>\n",
       "      <td>2019-10-25</td>\n",
       "      <td>10/19</td>\n",
       "    </tr>\n",
       "    <tr>\n",
       "      <th>9</th>\n",
       "      <td>Louisa Community Bank</td>\n",
       "      <td>25-Oct-19</td>\n",
       "      <td>$29.70</td>\n",
       "      <td>$26.50</td>\n",
       "      <td>2019-10-25</td>\n",
       "      <td>10/19</td>\n",
       "    </tr>\n",
       "  </tbody>\n",
       "</table>\n",
       "</div>"
      ],
      "text/plain": [
       "                          Bank Name Closing Date Approx. Asset (Millions)   \n",
       "0               First Republic Bank    01-May-23             $229,100.00   \\\n",
       "1                    Signature Bank    12-Mar-23             $110,400.00    \n",
       "2               Silicon Valley Bank    10-Mar-23             $209,000.00    \n",
       "3                 Almena State Bank    23-Oct-20                  $70.00    \n",
       "4        First City Bank of Florida    16-Oct-20                 $134.70    \n",
       "5                  First State Bank    03-Apr-20                 $152.40    \n",
       "6                Ericson State Bank    14-Feb-20                 $100.90    \n",
       "7  City National Bank of New Jersey    01-Nov-19                 $120.60    \n",
       "8                     Resolute Bank    25-Oct-19                  $27.10    \n",
       "9             Louisa Community Bank    25-Oct-19                  $29.70    \n",
       "\n",
       "  Approx. Deposit (Millions)       Date  Month  \n",
       "0               $103,900.00  2023-05-01  05/23  \n",
       "1                $88,600.00  2023-03-12  03/23  \n",
       "2               $175,400.00  2023-03-10  03/23  \n",
       "3                    $68.70  2020-10-23  10/20  \n",
       "4                   $131.40  2020-10-16  10/20  \n",
       "5                   $139.50  2020-04-03  04/20  \n",
       "6                    $95.20  2020-02-14  02/20  \n",
       "7                   $111.20  2019-11-01  11/19  \n",
       "8                    $26.20  2019-10-25  10/19  \n",
       "9                    $26.50  2019-10-25  10/19  "
      ]
     },
     "execution_count": 9,
     "metadata": {},
     "output_type": "execute_result"
    }
   ],
   "source": [
    "bank_fail[\"Month\"] = bank_fail.Date.dt.strftime('%m/%y')\n",
    "bank_fail.head(10)"
   ]
  },
  {
   "cell_type": "markdown",
   "id": "2e7d1cf6-c415-43f4-883f-4d2bcc4bcbd9",
   "metadata": {},
   "source": [
    "- Let us also deal with the assets and deposits. We want to convert those to numbers:"
   ]
  },
  {
   "cell_type": "code",
   "execution_count": 10,
   "id": "bbd96133-e391-4734-9206-a2b86f587c50",
   "metadata": {
    "tags": []
   },
   "outputs": [
    {
     "data": {
      "text/html": [
       "<div>\n",
       "<style scoped>\n",
       "    .dataframe tbody tr th:only-of-type {\n",
       "        vertical-align: middle;\n",
       "    }\n",
       "\n",
       "    .dataframe tbody tr th {\n",
       "        vertical-align: top;\n",
       "    }\n",
       "\n",
       "    .dataframe thead th {\n",
       "        text-align: right;\n",
       "    }\n",
       "</style>\n",
       "<table border=\"1\" class=\"dataframe\">\n",
       "  <thead>\n",
       "    <tr style=\"text-align: right;\">\n",
       "      <th></th>\n",
       "      <th>Bank Name</th>\n",
       "      <th>Closing Date</th>\n",
       "      <th>Approx. Asset (Millions)</th>\n",
       "      <th>Approx. Deposit (Millions)</th>\n",
       "      <th>Date</th>\n",
       "      <th>Month</th>\n",
       "    </tr>\n",
       "  </thead>\n",
       "  <tbody>\n",
       "    <tr>\n",
       "      <th>0</th>\n",
       "      <td>First Republic Bank</td>\n",
       "      <td>01-May-23</td>\n",
       "      <td>229100.0</td>\n",
       "      <td>103900.0</td>\n",
       "      <td>2023-05-01</td>\n",
       "      <td>05/23</td>\n",
       "    </tr>\n",
       "    <tr>\n",
       "      <th>1</th>\n",
       "      <td>Signature Bank</td>\n",
       "      <td>12-Mar-23</td>\n",
       "      <td>110400.0</td>\n",
       "      <td>88600.0</td>\n",
       "      <td>2023-03-12</td>\n",
       "      <td>03/23</td>\n",
       "    </tr>\n",
       "    <tr>\n",
       "      <th>2</th>\n",
       "      <td>Silicon Valley Bank</td>\n",
       "      <td>10-Mar-23</td>\n",
       "      <td>209000.0</td>\n",
       "      <td>175400.0</td>\n",
       "      <td>2023-03-10</td>\n",
       "      <td>03/23</td>\n",
       "    </tr>\n",
       "    <tr>\n",
       "      <th>3</th>\n",
       "      <td>Almena State Bank</td>\n",
       "      <td>23-Oct-20</td>\n",
       "      <td>70.0</td>\n",
       "      <td>68.7</td>\n",
       "      <td>2020-10-23</td>\n",
       "      <td>10/20</td>\n",
       "    </tr>\n",
       "    <tr>\n",
       "      <th>4</th>\n",
       "      <td>First City Bank of Florida</td>\n",
       "      <td>16-Oct-20</td>\n",
       "      <td>134.7</td>\n",
       "      <td>131.4</td>\n",
       "      <td>2020-10-16</td>\n",
       "      <td>10/20</td>\n",
       "    </tr>\n",
       "  </tbody>\n",
       "</table>\n",
       "</div>"
      ],
      "text/plain": [
       "                    Bank Name Closing Date  Approx. Asset (Millions)   \n",
       "0         First Republic Bank    01-May-23                  229100.0  \\\n",
       "1              Signature Bank    12-Mar-23                  110400.0   \n",
       "2         Silicon Valley Bank    10-Mar-23                  209000.0   \n",
       "3           Almena State Bank    23-Oct-20                      70.0   \n",
       "4  First City Bank of Florida    16-Oct-20                     134.7   \n",
       "\n",
       "   Approx. Deposit (Millions)       Date  Month  \n",
       "0                    103900.0 2023-05-01  05/23  \n",
       "1                     88600.0 2023-03-12  03/23  \n",
       "2                    175400.0 2023-03-10  03/23  \n",
       "3                        68.7 2020-10-23  10/20  \n",
       "4                       131.4 2020-10-16  10/20  "
      ]
     },
     "execution_count": 10,
     "metadata": {},
     "output_type": "execute_result"
    }
   ],
   "source": [
    "def convert_to_no(s):\n",
    "    return float(s[1:].replace(',',''))\n",
    "\n",
    "bank_fail['Approx. Asset (Millions)'] = bank_fail['Approx. Asset (Millions)'].apply(convert_to_no)\n",
    "bank_fail['Approx. Deposit (Millions)'] = bank_fail['Approx. Deposit (Millions)'].apply(convert_to_no)\n",
    "bank_fail.head()"
   ]
  },
  {
   "cell_type": "markdown",
   "id": "fcee54ee-b9db-47fe-84fc-db33d429a14e",
   "metadata": {
    "tags": []
   },
   "source": [
    "- Now, we create a new dataset bank_per_month, where we group banks by month."
   ]
  },
  {
   "cell_type": "code",
   "execution_count": 12,
   "id": "56a91aad-709e-4dfa-b866-4b468b0d7363",
   "metadata": {
    "tags": []
   },
   "outputs": [
    {
     "data": {
      "text/html": [
       "<div>\n",
       "<style scoped>\n",
       "    .dataframe tbody tr th:only-of-type {\n",
       "        vertical-align: middle;\n",
       "    }\n",
       "\n",
       "    .dataframe tbody tr th {\n",
       "        vertical-align: top;\n",
       "    }\n",
       "\n",
       "    .dataframe thead th {\n",
       "        text-align: right;\n",
       "    }\n",
       "</style>\n",
       "<table border=\"1\" class=\"dataframe\">\n",
       "  <thead>\n",
       "    <tr style=\"text-align: right;\">\n",
       "      <th></th>\n",
       "      <th>Month</th>\n",
       "      <th>Number</th>\n",
       "    </tr>\n",
       "  </thead>\n",
       "  <tbody>\n",
       "    <tr>\n",
       "      <th>0</th>\n",
       "      <td>05/23</td>\n",
       "      <td>1</td>\n",
       "    </tr>\n",
       "  </tbody>\n",
       "</table>\n",
       "</div>"
      ],
      "text/plain": [
       "   Month  Number\n",
       "0  05/23       1"
      ]
     },
     "execution_count": 12,
     "metadata": {},
     "output_type": "execute_result"
    }
   ],
   "source": [
    "bank_per_month = pd.DataFrame({'Month': [bank_fail[\"Month\"][0]], 'Number': [1]})\n",
    "bank_per_month"
   ]
  },
  {
   "cell_type": "code",
   "execution_count": 13,
   "id": "91369dc9-4338-4dd6-b027-61cafc5b7fa4",
   "metadata": {
    "tags": []
   },
   "outputs": [
    {
     "data": {
      "text/html": [
       "<div>\n",
       "<style scoped>\n",
       "    .dataframe tbody tr th:only-of-type {\n",
       "        vertical-align: middle;\n",
       "    }\n",
       "\n",
       "    .dataframe tbody tr th {\n",
       "        vertical-align: top;\n",
       "    }\n",
       "\n",
       "    .dataframe thead th {\n",
       "        text-align: right;\n",
       "    }\n",
       "</style>\n",
       "<table border=\"1\" class=\"dataframe\">\n",
       "  <thead>\n",
       "    <tr style=\"text-align: right;\">\n",
       "      <th></th>\n",
       "      <th>Month</th>\n",
       "      <th>Number</th>\n",
       "    </tr>\n",
       "  </thead>\n",
       "  <tbody>\n",
       "    <tr>\n",
       "      <th>119</th>\n",
       "      <td>2001-02-01</td>\n",
       "      <td>1</td>\n",
       "    </tr>\n",
       "    <tr>\n",
       "      <th>118</th>\n",
       "      <td>2001-05-01</td>\n",
       "      <td>1</td>\n",
       "    </tr>\n",
       "    <tr>\n",
       "      <th>117</th>\n",
       "      <td>2001-07-01</td>\n",
       "      <td>1</td>\n",
       "    </tr>\n",
       "    <tr>\n",
       "      <th>116</th>\n",
       "      <td>2001-09-01</td>\n",
       "      <td>1</td>\n",
       "    </tr>\n",
       "    <tr>\n",
       "      <th>115</th>\n",
       "      <td>2002-01-01</td>\n",
       "      <td>2</td>\n",
       "    </tr>\n",
       "    <tr>\n",
       "      <th>114</th>\n",
       "      <td>2002-02-01</td>\n",
       "      <td>2</td>\n",
       "    </tr>\n",
       "    <tr>\n",
       "      <th>113</th>\n",
       "      <td>2002-03-01</td>\n",
       "      <td>2</td>\n",
       "    </tr>\n",
       "    <tr>\n",
       "      <th>112</th>\n",
       "      <td>2002-06-01</td>\n",
       "      <td>2</td>\n",
       "    </tr>\n",
       "    <tr>\n",
       "      <th>111</th>\n",
       "      <td>2002-09-01</td>\n",
       "      <td>1</td>\n",
       "    </tr>\n",
       "    <tr>\n",
       "      <th>110</th>\n",
       "      <td>2002-11-01</td>\n",
       "      <td>1</td>\n",
       "    </tr>\n",
       "  </tbody>\n",
       "</table>\n",
       "</div>"
      ],
      "text/plain": [
       "         Month  Number\n",
       "119 2001-02-01       1\n",
       "118 2001-05-01       1\n",
       "117 2001-07-01       1\n",
       "116 2001-09-01       1\n",
       "115 2002-01-01       2\n",
       "114 2002-02-01       2\n",
       "113 2002-03-01       2\n",
       "112 2002-06-01       2\n",
       "111 2002-09-01       1\n",
       "110 2002-11-01       1"
      ]
     },
     "execution_count": 13,
     "metadata": {},
     "output_type": "execute_result"
    }
   ],
   "source": [
    "bank_per_month = pd.DataFrame({'Month': [bank_fail[\"Month\"][0]], 'Number': [1]})\n",
    "\n",
    "bank_per_month[\"Number\"][0] = 1\n",
    "count_unique = 1\n",
    "\n",
    "for j in range(1, 564):\n",
    "    if bank_fail.Month[j] == bank_fail.Month[j-1]:\n",
    "        bank_per_month.Number[count_unique-1] += 1\n",
    "    else:\n",
    "        bank_per_month.loc[count_unique] = [bank_fail.Month[j], 1]\n",
    "        count_unique += 1\n",
    "\n",
    "bank_per_month['Month'] = pd.to_datetime(bank_per_month['Month'], format='%m/%y') # convert 'date' to actual date\n",
    "bank_per_month = bank_per_month.sort_values(['Month'])\n",
    "# bank_per_month['Month'] = pd.DatetimeIndex(bank_per_month['Month']).normalize()\n",
    "bank_per_month.head(10)"
   ]
  },
  {
   "cell_type": "markdown",
   "id": "bc74fa48-e4df-40fe-8364-68cd5a35aa6e",
   "metadata": {},
   "source": [
    "- Note that the above dataset does not contain every single month from 2000 to 2023, so we create an artificial dataset fails which will contain all months:"
   ]
  },
  {
   "cell_type": "code",
   "execution_count": 14,
   "id": "7ad5cda8-8d44-4b54-804d-74fe83ca5097",
   "metadata": {
    "tags": []
   },
   "outputs": [
    {
     "name": "stdout",
     "output_type": "stream",
     "text": [
      "<class 'pandas.core.frame.DataFrame'>\n",
      "RangeIndex: 272 entries, 0 to 271\n",
      "Data columns (total 2 columns):\n",
      " #   Column  Non-Null Count  Dtype         \n",
      "---  ------  --------------  -----         \n",
      " 0   Month   272 non-null    datetime64[ns]\n",
      " 1   Number  272 non-null    int64         \n",
      "dtypes: datetime64[ns](1), int64(1)\n",
      "memory usage: 4.4 KB\n",
      "<class 'pandas.core.frame.DataFrame'>\n",
      "DatetimeIndex: 272 entries, 2000-10-01 to 2023-05-01\n",
      "Data columns (total 1 columns):\n",
      " #   Column  Non-Null Count  Dtype  \n",
      "---  ------  --------------  -----  \n",
      " 0   Number  120 non-null    float64\n",
      "dtypes: float64(1)\n",
      "memory usage: 4.2 KB\n"
     ]
    }
   ],
   "source": [
    "fails = pd.DataFrame({'Month': pd.date_range(start=\"2000-10-01\",end=\"2023-05-01\", freq='MS'), 'Number': [0]*272})\n",
    "fails.info()\n",
    "\n",
    "fails = fails.set_index('Month')\n",
    "fails2 = bank_per_month.set_index('Month')\n",
    "\n",
    "# fails = pd.merge(fails, bank_per_month, on='Month')\n",
    "#fails['Number'] = fails['Number_x'] + fails['Number_y']\n",
    "#del fails['Number_x'] \n",
    "#del fails['Number_y']\n",
    "\n",
    "fails = fails + fails2\n",
    "fails.info()"
   ]
  },
  {
   "cell_type": "code",
   "execution_count": 15,
   "id": "bc0f8fc2-2928-468c-82f7-0bdb9d0ebaa6",
   "metadata": {
    "tags": []
   },
   "outputs": [],
   "source": [
    "fails = fails.replace(to_replace = np.nan, value = 0)"
   ]
  },
  {
   "cell_type": "code",
   "execution_count": 16,
   "id": "d2cfe800-6016-49c9-9b4f-c26e7af716e6",
   "metadata": {
    "tags": []
   },
   "outputs": [
    {
     "data": {
      "text/html": [
       "<div>\n",
       "<style scoped>\n",
       "    .dataframe tbody tr th:only-of-type {\n",
       "        vertical-align: middle;\n",
       "    }\n",
       "\n",
       "    .dataframe tbody tr th {\n",
       "        vertical-align: top;\n",
       "    }\n",
       "\n",
       "    .dataframe thead th {\n",
       "        text-align: right;\n",
       "    }\n",
       "</style>\n",
       "<table border=\"1\" class=\"dataframe\">\n",
       "  <thead>\n",
       "    <tr style=\"text-align: right;\">\n",
       "      <th></th>\n",
       "      <th>Month</th>\n",
       "      <th>Number</th>\n",
       "    </tr>\n",
       "  </thead>\n",
       "  <tbody>\n",
       "    <tr>\n",
       "      <th>0</th>\n",
       "      <td>2000-10-01</td>\n",
       "      <td>0.0</td>\n",
       "    </tr>\n",
       "    <tr>\n",
       "      <th>1</th>\n",
       "      <td>2000-11-01</td>\n",
       "      <td>0.0</td>\n",
       "    </tr>\n",
       "    <tr>\n",
       "      <th>2</th>\n",
       "      <td>2000-12-01</td>\n",
       "      <td>0.0</td>\n",
       "    </tr>\n",
       "    <tr>\n",
       "      <th>3</th>\n",
       "      <td>2001-01-01</td>\n",
       "      <td>0.0</td>\n",
       "    </tr>\n",
       "    <tr>\n",
       "      <th>4</th>\n",
       "      <td>2001-02-01</td>\n",
       "      <td>1.0</td>\n",
       "    </tr>\n",
       "  </tbody>\n",
       "</table>\n",
       "</div>"
      ],
      "text/plain": [
       "       Month  Number\n",
       "0 2000-10-01     0.0\n",
       "1 2000-11-01     0.0\n",
       "2 2000-12-01     0.0\n",
       "3 2001-01-01     0.0\n",
       "4 2001-02-01     1.0"
      ]
     },
     "execution_count": 16,
     "metadata": {},
     "output_type": "execute_result"
    }
   ],
   "source": [
    "fails = fails.reset_index()\n",
    "fails.head()"
   ]
  },
  {
   "cell_type": "code",
   "execution_count": 17,
   "id": "e044b86c-4d9a-4501-818d-c4d3b4fd1388",
   "metadata": {
    "tags": []
   },
   "outputs": [],
   "source": [
    "fails['Month'] = pd.to_datetime(fails['Month'], format='%m/%y')"
   ]
  },
  {
   "cell_type": "code",
   "execution_count": 18,
   "id": "0b11f66e-b988-43b3-beab-d5fc59c15ccb",
   "metadata": {
    "tags": []
   },
   "outputs": [
    {
     "data": {
      "text/html": [
       "<div>\n",
       "<style scoped>\n",
       "    .dataframe tbody tr th:only-of-type {\n",
       "        vertical-align: middle;\n",
       "    }\n",
       "\n",
       "    .dataframe tbody tr th {\n",
       "        vertical-align: top;\n",
       "    }\n",
       "\n",
       "    .dataframe thead th {\n",
       "        text-align: right;\n",
       "    }\n",
       "</style>\n",
       "<table border=\"1\" class=\"dataframe\">\n",
       "  <thead>\n",
       "    <tr style=\"text-align: right;\">\n",
       "      <th></th>\n",
       "      <th>Month</th>\n",
       "      <th>Number</th>\n",
       "    </tr>\n",
       "  </thead>\n",
       "  <tbody>\n",
       "    <tr>\n",
       "      <th>0</th>\n",
       "      <td>2000-10-01</td>\n",
       "      <td>0.0</td>\n",
       "    </tr>\n",
       "    <tr>\n",
       "      <th>1</th>\n",
       "      <td>2000-11-01</td>\n",
       "      <td>0.0</td>\n",
       "    </tr>\n",
       "    <tr>\n",
       "      <th>2</th>\n",
       "      <td>2000-12-01</td>\n",
       "      <td>0.0</td>\n",
       "    </tr>\n",
       "    <tr>\n",
       "      <th>3</th>\n",
       "      <td>2001-01-01</td>\n",
       "      <td>0.0</td>\n",
       "    </tr>\n",
       "    <tr>\n",
       "      <th>4</th>\n",
       "      <td>2001-02-01</td>\n",
       "      <td>1.0</td>\n",
       "    </tr>\n",
       "  </tbody>\n",
       "</table>\n",
       "</div>"
      ],
      "text/plain": [
       "       Month  Number\n",
       "0 2000-10-01     0.0\n",
       "1 2000-11-01     0.0\n",
       "2 2000-12-01     0.0\n",
       "3 2001-01-01     0.0\n",
       "4 2001-02-01     1.0"
      ]
     },
     "execution_count": 18,
     "metadata": {},
     "output_type": "execute_result"
    }
   ],
   "source": [
    "fails.head()"
   ]
  },
  {
   "cell_type": "code",
   "execution_count": 19,
   "id": "941e59d7-8dbb-4b00-a07c-c1e7b0be097e",
   "metadata": {
    "tags": []
   },
   "outputs": [
    {
     "data": {
      "image/png": "[encoded data removed]",
      "text/plain": [
       "<Figure size 2000x700 with 1 Axes>"
      ]
     },
     "metadata": {},
     "output_type": "display_data"
    }
   ],
   "source": [
    "import matplotlib.dates as mdates\n",
    "from matplotlib.dates import DateFormatter\n",
    "\n",
    "from pandas.plotting import register_matplotlib_converters\n",
    "register_matplotlib_converters()\n",
    "\n",
    "fig, ax = plt.subplots(figsize=(20, 7))\n",
    "\n",
    "ax.xaxis.set_major_formatter(DateFormatter(\"%Y\"))\n",
    "fails.plot(ax = ax, x = 'Month', y = 'Number', kind='bar', width=1)\n",
    "\n",
    "#plt.gca().invert_xaxis()\n",
    "ax.xaxis.set_major_locator(mdates.MonthLocator(interval=1))\n",
    "\n",
    "fig.autofmt_xdate()\n",
    "plt.show()\n"
   ]
  },
  {
   "cell_type": "markdown",
   "id": "b7f0d078-9c6a-45b2-af71-cea274496765",
   "metadata": {},
   "source": [
    "- This looks good! We just need to play a bit with the x-axis labels."
   ]
  },
  {
   "cell_type": "code",
   "execution_count": 20,
   "id": "ce1a2589-90e3-480e-a3d8-f51a23cb5743",
   "metadata": {
    "tags": []
   },
   "outputs": [
    {
     "data": {
      "text/html": [
       "<div>\n",
       "<style scoped>\n",
       "    .dataframe tbody tr th:only-of-type {\n",
       "        vertical-align: middle;\n",
       "    }\n",
       "\n",
       "    .dataframe tbody tr th {\n",
       "        vertical-align: top;\n",
       "    }\n",
       "\n",
       "    .dataframe thead th {\n",
       "        text-align: right;\n",
       "    }\n",
       "</style>\n",
       "<table border=\"1\" class=\"dataframe\">\n",
       "  <thead>\n",
       "    <tr style=\"text-align: right;\">\n",
       "      <th></th>\n",
       "      <th>Number</th>\n",
       "    </tr>\n",
       "    <tr>\n",
       "      <th>Month</th>\n",
       "      <th></th>\n",
       "    </tr>\n",
       "  </thead>\n",
       "  <tbody>\n",
       "    <tr>\n",
       "      <th>2000-10-01</th>\n",
       "      <td>0.0</td>\n",
       "    </tr>\n",
       "    <tr>\n",
       "      <th>2000-11-01</th>\n",
       "      <td>0.0</td>\n",
       "    </tr>\n",
       "    <tr>\n",
       "      <th>2000-12-01</th>\n",
       "      <td>0.0</td>\n",
       "    </tr>\n",
       "    <tr>\n",
       "      <th>2001-01-01</th>\n",
       "      <td>0.0</td>\n",
       "    </tr>\n",
       "    <tr>\n",
       "      <th>2001-02-01</th>\n",
       "      <td>1.0</td>\n",
       "    </tr>\n",
       "  </tbody>\n",
       "</table>\n",
       "</div>"
      ],
      "text/plain": [
       "            Number\n",
       "Month             \n",
       "2000-10-01     0.0\n",
       "2000-11-01     0.0\n",
       "2000-12-01     0.0\n",
       "2001-01-01     0.0\n",
       "2001-02-01     1.0"
      ]
     },
     "execution_count": 20,
     "metadata": {},
     "output_type": "execute_result"
    }
   ],
   "source": [
    "idx = fails['Month']\n",
    "fails = fails.set_index('Month')\n",
    "fails.head()"
   ]
  },
  {
   "cell_type": "code",
   "execution_count": 21,
   "id": "be1caac3-a8f9-4596-b61d-c5d4c0905ba3",
   "metadata": {
    "tags": []
   },
   "outputs": [
    {
     "data": {
      "image/png": "[encoded data removed]",
      "text/plain": [
       "<Figure size 2000x700 with 1 Axes>"
      ]
     },
     "metadata": {},
     "output_type": "display_data"
    }
   ],
   "source": [
    "# Create pandas stacked bar chart\n",
    "ax = fails.plot.bar(figsize=(20,7), width=1)\n",
    "\n",
    "# Create list of monthly timestamps by selecting the first weekly timestamp of each\n",
    "# month (in this example, the first Sunday of each month)\n",
    "monthly_timestamps = [timestamp for idx, timestamp in enumerate(fails.index)\n",
    "                      if (timestamp.month != fails.index[idx-1].month) | (idx == 0)]\n",
    "\n",
    "# Automatically select appropriate number of timestamps so that x-axis does\n",
    "# not get overcrowded with tick labels\n",
    "step = 1\n",
    "while len(monthly_timestamps[::step]) > 10: # increase number if time range >3 years\n",
    "    step += 1\n",
    "timestamps = monthly_timestamps[::step]\n",
    "\n",
    "# Create tick labels from timestamps\n",
    "labels = [ts.strftime('%b\\n%Y') if ts.year != timestamps[idx-1].year\n",
    "          else ts.strftime('%b') for idx, ts in enumerate(timestamps)]\n",
    "\n",
    "# Set major ticks and labels\n",
    "ax.set_xticks([fails.index.get_loc(ts) for ts in timestamps])\n",
    "ax.set_xticklabels(labels)\n",
    "\n",
    "# Set minor ticks without labels\n",
    "ax.set_xticks([fails.index.get_loc(ts) for ts in monthly_timestamps], minor=True)\n",
    "\n",
    "# Rotate and center labels\n",
    "ax.figure.autofmt_xdate(rotation=0, ha='center')"
   ]
  },
  {
   "cell_type": "markdown",
   "id": "6d182f98-6810-4c10-bf2f-3db689d8bbb0",
   "metadata": {},
   "source": [
    "- What about Assets of these banks??"
   ]
  },
  {
   "cell_type": "code",
   "execution_count": 22,
   "id": "abd460f0-94b6-4b92-a8bb-cf177c2570bf",
   "metadata": {
    "tags": []
   },
   "outputs": [
    {
     "data": {
      "text/html": [
       "<div>\n",
       "<style scoped>\n",
       "    .dataframe tbody tr th:only-of-type {\n",
       "        vertical-align: middle;\n",
       "    }\n",
       "\n",
       "    .dataframe tbody tr th {\n",
       "        vertical-align: top;\n",
       "    }\n",
       "\n",
       "    .dataframe thead th {\n",
       "        text-align: right;\n",
       "    }\n",
       "</style>\n",
       "<table border=\"1\" class=\"dataframe\">\n",
       "  <thead>\n",
       "    <tr style=\"text-align: right;\">\n",
       "      <th></th>\n",
       "      <th>Month</th>\n",
       "      <th>Assets</th>\n",
       "      <th>Deposits</th>\n",
       "    </tr>\n",
       "  </thead>\n",
       "  <tbody>\n",
       "    <tr>\n",
       "      <th>119</th>\n",
       "      <td>2001-02-01</td>\n",
       "      <td>18.4</td>\n",
       "      <td>17.5</td>\n",
       "    </tr>\n",
       "    <tr>\n",
       "      <th>118</th>\n",
       "      <td>2001-05-01</td>\n",
       "      <td>9.5</td>\n",
       "      <td>8.8</td>\n",
       "    </tr>\n",
       "    <tr>\n",
       "      <th>117</th>\n",
       "      <td>2001-07-01</td>\n",
       "      <td>2300.0</td>\n",
       "      <td>1600.0</td>\n",
       "    </tr>\n",
       "    <tr>\n",
       "      <th>116</th>\n",
       "      <td>2001-09-01</td>\n",
       "      <td>30.7</td>\n",
       "      <td>25.7</td>\n",
       "    </tr>\n",
       "    <tr>\n",
       "      <th>115</th>\n",
       "      <td>2002-01-01</td>\n",
       "      <td>1310.8</td>\n",
       "      <td>1209.8</td>\n",
       "    </tr>\n",
       "  </tbody>\n",
       "</table>\n",
       "</div>"
      ],
      "text/plain": [
       "         Month  Assets  Deposits\n",
       "119 2001-02-01    18.4      17.5\n",
       "118 2001-05-01     9.5       8.8\n",
       "117 2001-07-01  2300.0    1600.0\n",
       "116 2001-09-01    30.7      25.7\n",
       "115 2002-01-01  1310.8    1209.8"
      ]
     },
     "execution_count": 22,
     "metadata": {},
     "output_type": "execute_result"
    }
   ],
   "source": [
    "bank_assets_month = pd.DataFrame({'Month': [bank_fail[\"Month\"][0]], 'Assets': bank_fail['Approx. Asset (Millions)'][0], 'Deposits': bank_fail['Approx. Deposit (Millions)'][0]})\n",
    "\n",
    "count_unique = 1\n",
    "\n",
    "for j in range(1, 564):\n",
    "    if bank_fail.Month[j] == bank_fail.Month[j-1]:\n",
    "        bank_assets_month.Assets[count_unique-1] += bank_fail['Approx. Asset (Millions)'][j]\n",
    "        bank_assets_month.Deposits[count_unique-1] += bank_fail['Approx. Deposit (Millions)'][j]\n",
    "    else:\n",
    "        bank_assets_month.loc[count_unique] = [bank_fail.Month[j], bank_fail['Approx. Asset (Millions)'][j], bank_fail['Approx. Deposit (Millions)'][j]]\n",
    "        count_unique += 1\n",
    "\n",
    "bank_assets_month['Month'] = pd.to_datetime(bank_per_month['Month'], format='%m/%y') # convert 'date' to actual date\n",
    "bank_assets_month = bank_assets_month.sort_values(['Month'])\n",
    "# bank_per_month['Month'] = pd.DatetimeIndex(bank_per_month['Month']).normalize()\n",
    "bank_assets_month.head()"
   ]
  },
  {
   "cell_type": "code",
   "execution_count": 23,
   "id": "8df9211f-2df6-4e94-a0ac-b74d21c87c14",
   "metadata": {
    "tags": []
   },
   "outputs": [
    {
     "name": "stdout",
     "output_type": "stream",
     "text": [
      "<class 'pandas.core.frame.DataFrame'>\n",
      "RangeIndex: 272 entries, 0 to 271\n",
      "Data columns (total 3 columns):\n",
      " #   Column    Non-Null Count  Dtype         \n",
      "---  ------    --------------  -----         \n",
      " 0   Month     272 non-null    datetime64[ns]\n",
      " 1   Assets    272 non-null    int64         \n",
      " 2   Deposits  272 non-null    int64         \n",
      "dtypes: datetime64[ns](1), int64(2)\n",
      "memory usage: 6.5 KB\n",
      "<class 'pandas.core.frame.DataFrame'>\n",
      "DatetimeIndex: 272 entries, 2000-10-01 to 2023-05-01\n",
      "Data columns (total 2 columns):\n",
      " #   Column    Non-Null Count  Dtype  \n",
      "---  ------    --------------  -----  \n",
      " 0   Assets    272 non-null    float64\n",
      " 1   Deposits  272 non-null    float64\n",
      "dtypes: float64(2)\n",
      "memory usage: 6.4 KB\n"
     ]
    }
   ],
   "source": [
    "fails = pd.DataFrame({'Month': pd.date_range(start=\"2000-10-01\",end=\"2023-05-01\", freq='MS'), 'Assets': [0]*272, 'Deposits': [0]*272})\n",
    "fails.info()\n",
    "\n",
    "fails = fails.set_index('Month')\n",
    "fails2 = bank_assets_month.set_index('Month')\n",
    "\n",
    "# fails = pd.merge(fails, bank_per_month, on='Month')\n",
    "#fails['Number'] = fails['Number_x'] + fails['Number_y']\n",
    "#del fails['Number_x'] \n",
    "#del fails['Number_y']\n",
    "\n",
    "fails = fails + fails2\n",
    "\n",
    "fails = fails.replace(to_replace = np.nan, value = 0)\n",
    "fails.info()"
   ]
  },
  {
   "cell_type": "code",
   "execution_count": 27,
   "id": "7b967c2c-c518-43ef-a2c1-023f1d22773b",
   "metadata": {
    "tags": []
   },
   "outputs": [
    {
     "data": {
      "text/html": [
       "<div>\n",
       "<style scoped>\n",
       "    .dataframe tbody tr th:only-of-type {\n",
       "        vertical-align: middle;\n",
       "    }\n",
       "\n",
       "    .dataframe tbody tr th {\n",
       "        vertical-align: top;\n",
       "    }\n",
       "\n",
       "    .dataframe thead th {\n",
       "        text-align: right;\n",
       "    }\n",
       "</style>\n",
       "<table border=\"1\" class=\"dataframe\">\n",
       "  <thead>\n",
       "    <tr style=\"text-align: right;\">\n",
       "      <th></th>\n",
       "      <th>Assets</th>\n",
       "      <th>Deposits</th>\n",
       "    </tr>\n",
       "    <tr>\n",
       "      <th>Month</th>\n",
       "      <th></th>\n",
       "      <th></th>\n",
       "    </tr>\n",
       "  </thead>\n",
       "  <tbody>\n",
       "    <tr>\n",
       "      <th>2000-10-01</th>\n",
       "      <td>0.0</td>\n",
       "      <td>0.0</td>\n",
       "    </tr>\n",
       "    <tr>\n",
       "      <th>2000-11-01</th>\n",
       "      <td>0.0</td>\n",
       "      <td>0.0</td>\n",
       "    </tr>\n",
       "    <tr>\n",
       "      <th>2000-12-01</th>\n",
       "      <td>0.0</td>\n",
       "      <td>0.0</td>\n",
       "    </tr>\n",
       "    <tr>\n",
       "      <th>2001-01-01</th>\n",
       "      <td>0.0</td>\n",
       "      <td>0.0</td>\n",
       "    </tr>\n",
       "    <tr>\n",
       "      <th>2001-02-01</th>\n",
       "      <td>18.4</td>\n",
       "      <td>17.5</td>\n",
       "    </tr>\n",
       "  </tbody>\n",
       "</table>\n",
       "</div>"
      ],
      "text/plain": [
       "            Assets  Deposits\n",
       "Month                       \n",
       "2000-10-01     0.0       0.0\n",
       "2000-11-01     0.0       0.0\n",
       "2000-12-01     0.0       0.0\n",
       "2001-01-01     0.0       0.0\n",
       "2001-02-01    18.4      17.5"
      ]
     },
     "execution_count": 27,
     "metadata": {},
     "output_type": "execute_result"
    }
   ],
   "source": [
    "fails.head()"
   ]
  },
  {
   "cell_type": "code",
   "execution_count": 28,
   "id": "ae061ea9-fa26-4a9a-914d-cc542611ce77",
   "metadata": {},
   "outputs": [],
   "source": [
    "fails = fails.reset_index()"
   ]
  },
  {
   "cell_type": "code",
   "execution_count": 31,
   "id": "b641254a-6631-4440-a1dd-888ff722431d",
   "metadata": {
    "tags": []
   },
   "outputs": [
    {
     "data": {
      "image/png": "[encoded data removed]",
      "text/plain": [
       "<Figure size 2000x700 with 1 Axes>"
      ]
     },
     "metadata": {},
     "output_type": "display_data"
    }
   ],
   "source": [
    "fig, ax = plt.subplots(figsize=(20, 7))\n",
    "\n",
    "#fails = fails.reset_index()\n",
    "fails.plot.scatter(ax=ax, x='Month', y='Assets', logy=True)\n",
    "#fails.plot(ax=ax, x='Month', y='Deposits', logy=True)\n",
    "plt.show()"
   ]
  },
  {
   "cell_type": "markdown",
   "id": "887039a1-b209-4a95-b881-4e4b51354f6e",
   "metadata": {},
   "source": [
    "- This plot looks a bit messy. We can try to do a cummulative sum per year, rather than per month instead. Let's use groupby method instead:"
   ]
  },
  {
   "cell_type": "code",
   "execution_count": 32,
   "id": "fe560523-4a24-43c6-b096-fa82381a2a75",
   "metadata": {
    "tags": []
   },
   "outputs": [],
   "source": [
    "df = fails.copy()\n",
    "df.Month = pd.to_datetime(df.Month)\n",
    "df = df.groupby('Month').Assets.sum()\n",
    "df = df.groupby(df.index.year).cumsum().reset_index()\n"
   ]
  },
  {
   "cell_type": "code",
   "execution_count": 33,
   "id": "aa8e24ef-a62f-448e-8afc-f7034feaf784",
   "metadata": {
    "tags": []
   },
   "outputs": [
    {
     "data": {
      "text/html": [
       "<div>\n",
       "<style scoped>\n",
       "    .dataframe tbody tr th:only-of-type {\n",
       "        vertical-align: middle;\n",
       "    }\n",
       "\n",
       "    .dataframe tbody tr th {\n",
       "        vertical-align: top;\n",
       "    }\n",
       "\n",
       "    .dataframe thead th {\n",
       "        text-align: right;\n",
       "    }\n",
       "</style>\n",
       "<table border=\"1\" class=\"dataframe\">\n",
       "  <thead>\n",
       "    <tr style=\"text-align: right;\">\n",
       "      <th></th>\n",
       "      <th>Month</th>\n",
       "      <th>Assets</th>\n",
       "    </tr>\n",
       "  </thead>\n",
       "  <tbody>\n",
       "    <tr>\n",
       "      <th>0</th>\n",
       "      <td>2000-10-01</td>\n",
       "      <td>0.0</td>\n",
       "    </tr>\n",
       "    <tr>\n",
       "      <th>1</th>\n",
       "      <td>2000-11-01</td>\n",
       "      <td>0.0</td>\n",
       "    </tr>\n",
       "    <tr>\n",
       "      <th>2</th>\n",
       "      <td>2000-12-01</td>\n",
       "      <td>0.0</td>\n",
       "    </tr>\n",
       "    <tr>\n",
       "      <th>3</th>\n",
       "      <td>2001-01-01</td>\n",
       "      <td>0.0</td>\n",
       "    </tr>\n",
       "    <tr>\n",
       "      <th>4</th>\n",
       "      <td>2001-02-01</td>\n",
       "      <td>18.4</td>\n",
       "    </tr>\n",
       "  </tbody>\n",
       "</table>\n",
       "</div>"
      ],
      "text/plain": [
       "       Month  Assets\n",
       "0 2000-10-01     0.0\n",
       "1 2000-11-01     0.0\n",
       "2 2000-12-01     0.0\n",
       "3 2001-01-01     0.0\n",
       "4 2001-02-01    18.4"
      ]
     },
     "execution_count": 33,
     "metadata": {},
     "output_type": "execute_result"
    }
   ],
   "source": [
    "df.head()"
   ]
  },
  {
   "cell_type": "code",
   "execution_count": 35,
   "id": "ec1d5fd9-659a-4547-bade-b26af676b174",
   "metadata": {
    "tags": []
   },
   "outputs": [],
   "source": [
    "fails_cum = pd.DataFrame(columns = ['year', 'Assets'])\n",
    "\n",
    "years = [2000+j for j in range(23)]\n",
    "\n",
    "for j in range(23):\n",
    "    fails_cum.loc[j] = [years[j], df.loc[2+12*j].Assets]\n",
    "\n",
    "fails_cum.loc[23] = [2023, df.loc[271].Assets]"
   ]
  },
  {
   "cell_type": "code",
   "execution_count": 36,
   "id": "21358a3c-3037-4fd6-bb1b-e252bc86b289",
   "metadata": {
    "tags": []
   },
   "outputs": [
    {
     "data": {
      "text/html": [
       "<div>\n",
       "<style scoped>\n",
       "    .dataframe tbody tr th:only-of-type {\n",
       "        vertical-align: middle;\n",
       "    }\n",
       "\n",
       "    .dataframe tbody tr th {\n",
       "        vertical-align: top;\n",
       "    }\n",
       "\n",
       "    .dataframe thead th {\n",
       "        text-align: right;\n",
       "    }\n",
       "</style>\n",
       "<table border=\"1\" class=\"dataframe\">\n",
       "  <thead>\n",
       "    <tr style=\"text-align: right;\">\n",
       "      <th></th>\n",
       "      <th>year</th>\n",
       "      <th>Assets</th>\n",
       "    </tr>\n",
       "  </thead>\n",
       "  <tbody>\n",
       "    <tr>\n",
       "      <th>19</th>\n",
       "      <td>2019.0</td>\n",
       "      <td>214.1</td>\n",
       "    </tr>\n",
       "    <tr>\n",
       "      <th>20</th>\n",
       "      <td>2020.0</td>\n",
       "      <td>458.0</td>\n",
       "    </tr>\n",
       "    <tr>\n",
       "      <th>21</th>\n",
       "      <td>2021.0</td>\n",
       "      <td>0.0</td>\n",
       "    </tr>\n",
       "    <tr>\n",
       "      <th>22</th>\n",
       "      <td>2022.0</td>\n",
       "      <td>0.0</td>\n",
       "    </tr>\n",
       "    <tr>\n",
       "      <th>23</th>\n",
       "      <td>2023.0</td>\n",
       "      <td>548500.0</td>\n",
       "    </tr>\n",
       "  </tbody>\n",
       "</table>\n",
       "</div>"
      ],
      "text/plain": [
       "      year    Assets\n",
       "19  2019.0     214.1\n",
       "20  2020.0     458.0\n",
       "21  2021.0       0.0\n",
       "22  2022.0       0.0\n",
       "23  2023.0  548500.0"
      ]
     },
     "execution_count": 36,
     "metadata": {},
     "output_type": "execute_result"
    }
   ],
   "source": [
    "fails_cum.tail()"
   ]
  },
  {
   "cell_type": "code",
   "execution_count": 37,
   "id": "82639c87-4850-4e26-84a1-460279634504",
   "metadata": {
    "tags": []
   },
   "outputs": [
    {
     "data": {
      "image/png": "[encoded data removed]",
      "text/plain": [
       "<Figure size 2000x700 with 1 Axes>"
      ]
     },
     "metadata": {},
     "output_type": "display_data"
    }
   ],
   "source": [
    "fig, ax = plt.subplots(figsize=(20, 7))\n",
    "\n",
    "#fails = fails.reset_index()\n",
    "fails_cum.plot(ax=ax, x='year', y='Assets')\n",
    "#fails.plot(ax=ax, x='Month', y='Deposits', logy=True)\n",
    "plt.show()"
   ]
  },
  {
   "cell_type": "markdown",
   "id": "65bd4b05-4ca5-40b2-94e7-912bb246b211",
   "metadata": {},
   "source": [
    "- Very nice! This is what we wanted! This graph by itself should look a bit scary already. Are we close to a new banking crisis? To get better results, one should also account for inflation, which will make this look slightly less worrying.\n",
    "- We will add inflation below."
   ]
  },
  {
   "cell_type": "code",
   "execution_count": null,
   "id": "4b511c76-6a35-4225-b148-faf7c6fa36f5",
   "metadata": {},
   "outputs": [],
   "source": []
  },
  {
   "cell_type": "markdown",
   "id": "aed5d0e4-d22c-416a-b599-1b2f5ede23f4",
   "metadata": {
    "tags": []
   },
   "source": [
    "### US inflation data\n",
    "\n",
    "Finally, let us also take into account the inflation. We take the data from: https://www.officialdata.org/us/inflation/1934?amount=1"
   ]
  },
  {
   "cell_type": "code",
   "execution_count": 90,
   "id": "1616e290-f15c-49ce-80b4-cd389b209ec7",
   "metadata": {
    "tags": []
   },
   "outputs": [
    {
     "data": {
      "text/html": [
       "<div>\n",
       "<style scoped>\n",
       "    .dataframe tbody tr th:only-of-type {\n",
       "        vertical-align: middle;\n",
       "    }\n",
       "\n",
       "    .dataframe tbody tr th {\n",
       "        vertical-align: top;\n",
       "    }\n",
       "\n",
       "    .dataframe thead th {\n",
       "        text-align: right;\n",
       "    }\n",
       "</style>\n",
       "<table border=\"1\" class=\"dataframe\">\n",
       "  <thead>\n",
       "    <tr style=\"text-align: right;\">\n",
       "      <th></th>\n",
       "      <th>year</th>\n",
       "      <th>amount</th>\n",
       "      <th>inflation rate</th>\n",
       "    </tr>\n",
       "  </thead>\n",
       "  <tbody>\n",
       "    <tr>\n",
       "      <th>0</th>\n",
       "      <td>1934</td>\n",
       "      <td>1.00</td>\n",
       "      <td>0.03</td>\n",
       "    </tr>\n",
       "    <tr>\n",
       "      <th>1</th>\n",
       "      <td>1935</td>\n",
       "      <td>1.02</td>\n",
       "      <td>0.02</td>\n",
       "    </tr>\n",
       "    <tr>\n",
       "      <th>2</th>\n",
       "      <td>1936</td>\n",
       "      <td>1.04</td>\n",
       "      <td>0.01</td>\n",
       "    </tr>\n",
       "    <tr>\n",
       "      <th>3</th>\n",
       "      <td>1937</td>\n",
       "      <td>1.07</td>\n",
       "      <td>0.04</td>\n",
       "    </tr>\n",
       "    <tr>\n",
       "      <th>4</th>\n",
       "      <td>1938</td>\n",
       "      <td>1.05</td>\n",
       "      <td>-0.02</td>\n",
       "    </tr>\n",
       "  </tbody>\n",
       "</table>\n",
       "</div>"
      ],
      "text/plain": [
       "   year  amount  inflation rate\n",
       "0  1934    1.00            0.03\n",
       "1  1935    1.02            0.02\n",
       "2  1936    1.04            0.01\n",
       "3  1937    1.07            0.04\n",
       "4  1938    1.05           -0.02"
      ]
     },
     "execution_count": 90,
     "metadata": {},
     "output_type": "execute_result"
    }
   ],
   "source": [
    "inflation = pd.read_csv('inflation_data.csv')\n",
    "inflation.head()"
   ]
  },
  {
   "cell_type": "markdown",
   "id": "7527c30f-40f2-411b-9b1b-4687a25a7808",
   "metadata": {},
   "source": [
    "- The data tells us how much a dollar in 1934 would be worth in any other year."
   ]
  },
  {
   "cell_type": "code",
   "execution_count": 95,
   "id": "40a83d6e-906b-4c7f-9835-2d0444d570f0",
   "metadata": {
    "tags": []
   },
   "outputs": [
    {
     "data": {
      "text/html": [
       "<div>\n",
       "<style scoped>\n",
       "    .dataframe tbody tr th:only-of-type {\n",
       "        vertical-align: middle;\n",
       "    }\n",
       "\n",
       "    .dataframe tbody tr th {\n",
       "        vertical-align: top;\n",
       "    }\n",
       "\n",
       "    .dataframe thead th {\n",
       "        text-align: right;\n",
       "    }\n",
       "</style>\n",
       "<table border=\"1\" class=\"dataframe\">\n",
       "  <thead>\n",
       "    <tr style=\"text-align: right;\">\n",
       "      <th></th>\n",
       "      <th>year</th>\n",
       "      <th>amount</th>\n",
       "      <th>inflation rate</th>\n",
       "    </tr>\n",
       "  </thead>\n",
       "  <tbody>\n",
       "    <tr>\n",
       "      <th>66</th>\n",
       "      <td>2000</td>\n",
       "      <td>12.85</td>\n",
       "      <td>0.03</td>\n",
       "    </tr>\n",
       "    <tr>\n",
       "      <th>67</th>\n",
       "      <td>2001</td>\n",
       "      <td>13.22</td>\n",
       "      <td>0.03</td>\n",
       "    </tr>\n",
       "    <tr>\n",
       "      <th>68</th>\n",
       "      <td>2002</td>\n",
       "      <td>13.43</td>\n",
       "      <td>0.02</td>\n",
       "    </tr>\n",
       "    <tr>\n",
       "      <th>69</th>\n",
       "      <td>2003</td>\n",
       "      <td>13.73</td>\n",
       "      <td>0.02</td>\n",
       "    </tr>\n",
       "    <tr>\n",
       "      <th>70</th>\n",
       "      <td>2004</td>\n",
       "      <td>14.10</td>\n",
       "      <td>0.03</td>\n",
       "    </tr>\n",
       "    <tr>\n",
       "      <th>71</th>\n",
       "      <td>2005</td>\n",
       "      <td>14.57</td>\n",
       "      <td>0.03</td>\n",
       "    </tr>\n",
       "    <tr>\n",
       "      <th>72</th>\n",
       "      <td>2006</td>\n",
       "      <td>15.04</td>\n",
       "      <td>0.03</td>\n",
       "    </tr>\n",
       "    <tr>\n",
       "      <th>73</th>\n",
       "      <td>2007</td>\n",
       "      <td>15.47</td>\n",
       "      <td>0.03</td>\n",
       "    </tr>\n",
       "    <tr>\n",
       "      <th>74</th>\n",
       "      <td>2008</td>\n",
       "      <td>16.07</td>\n",
       "      <td>0.04</td>\n",
       "    </tr>\n",
       "    <tr>\n",
       "      <th>75</th>\n",
       "      <td>2009</td>\n",
       "      <td>16.01</td>\n",
       "      <td>-0.00</td>\n",
       "    </tr>\n",
       "    <tr>\n",
       "      <th>76</th>\n",
       "      <td>2010</td>\n",
       "      <td>16.27</td>\n",
       "      <td>0.02</td>\n",
       "    </tr>\n",
       "    <tr>\n",
       "      <th>77</th>\n",
       "      <td>2011</td>\n",
       "      <td>16.79</td>\n",
       "      <td>0.03</td>\n",
       "    </tr>\n",
       "    <tr>\n",
       "      <th>78</th>\n",
       "      <td>2012</td>\n",
       "      <td>17.13</td>\n",
       "      <td>0.02</td>\n",
       "    </tr>\n",
       "    <tr>\n",
       "      <th>79</th>\n",
       "      <td>2013</td>\n",
       "      <td>17.38</td>\n",
       "      <td>0.01</td>\n",
       "    </tr>\n",
       "    <tr>\n",
       "      <th>80</th>\n",
       "      <td>2014</td>\n",
       "      <td>17.67</td>\n",
       "      <td>0.02</td>\n",
       "    </tr>\n",
       "    <tr>\n",
       "      <th>81</th>\n",
       "      <td>2015</td>\n",
       "      <td>17.69</td>\n",
       "      <td>0.00</td>\n",
       "    </tr>\n",
       "    <tr>\n",
       "      <th>82</th>\n",
       "      <td>2016</td>\n",
       "      <td>17.91</td>\n",
       "      <td>0.01</td>\n",
       "    </tr>\n",
       "    <tr>\n",
       "      <th>83</th>\n",
       "      <td>2017</td>\n",
       "      <td>18.29</td>\n",
       "      <td>0.02</td>\n",
       "    </tr>\n",
       "    <tr>\n",
       "      <th>84</th>\n",
       "      <td>2018</td>\n",
       "      <td>18.75</td>\n",
       "      <td>0.02</td>\n",
       "    </tr>\n",
       "    <tr>\n",
       "      <th>85</th>\n",
       "      <td>2019</td>\n",
       "      <td>19.08</td>\n",
       "      <td>0.02</td>\n",
       "    </tr>\n",
       "    <tr>\n",
       "      <th>86</th>\n",
       "      <td>2020</td>\n",
       "      <td>19.31</td>\n",
       "      <td>0.01</td>\n",
       "    </tr>\n",
       "    <tr>\n",
       "      <th>87</th>\n",
       "      <td>2021</td>\n",
       "      <td>20.22</td>\n",
       "      <td>0.05</td>\n",
       "    </tr>\n",
       "    <tr>\n",
       "      <th>88</th>\n",
       "      <td>2022</td>\n",
       "      <td>21.84</td>\n",
       "      <td>0.08</td>\n",
       "    </tr>\n",
       "    <tr>\n",
       "      <th>89</th>\n",
       "      <td>2023</td>\n",
       "      <td>22.64</td>\n",
       "      <td>0.04</td>\n",
       "    </tr>\n",
       "  </tbody>\n",
       "</table>\n",
       "</div>"
      ],
      "text/plain": [
       "    year  amount  inflation rate\n",
       "66  2000   12.85            0.03\n",
       "67  2001   13.22            0.03\n",
       "68  2002   13.43            0.02\n",
       "69  2003   13.73            0.02\n",
       "70  2004   14.10            0.03\n",
       "71  2005   14.57            0.03\n",
       "72  2006   15.04            0.03\n",
       "73  2007   15.47            0.03\n",
       "74  2008   16.07            0.04\n",
       "75  2009   16.01           -0.00\n",
       "76  2010   16.27            0.02\n",
       "77  2011   16.79            0.03\n",
       "78  2012   17.13            0.02\n",
       "79  2013   17.38            0.01\n",
       "80  2014   17.67            0.02\n",
       "81  2015   17.69            0.00\n",
       "82  2016   17.91            0.01\n",
       "83  2017   18.29            0.02\n",
       "84  2018   18.75            0.02\n",
       "85  2019   19.08            0.02\n",
       "86  2020   19.31            0.01\n",
       "87  2021   20.22            0.05\n",
       "88  2022   21.84            0.08\n",
       "89  2023   22.64            0.04"
      ]
     },
     "execution_count": 95,
     "metadata": {},
     "output_type": "execute_result"
    }
   ],
   "source": [
    "inflation.tail(24)"
   ]
  },
  {
   "cell_type": "code",
   "execution_count": 59,
   "id": "ea025824-bc29-4fea-9c94-3c33655429c3",
   "metadata": {
    "tags": []
   },
   "outputs": [
    {
     "data": {
      "text/plain": [
       "<Axes: xlabel='year'>"
      ]
     },
     "execution_count": 59,
     "metadata": {},
     "output_type": "execute_result"
    },
    {
     "data": {
      "image/png": "[encoded data removed]",
      "text/plain": [
       "<Figure size 640x480 with 1 Axes>"
      ]
     },
     "metadata": {},
     "output_type": "display_data"
    }
   ],
   "source": [
    "inflation.plot(x = 'year', y = 'amount')"
   ]
  },
  {
   "cell_type": "code",
   "execution_count": 92,
   "id": "32254acf-9543-48b0-adb8-62bc00440ad6",
   "metadata": {
    "tags": []
   },
   "outputs": [
    {
     "data": {
      "text/html": [
       "<div>\n",
       "<style scoped>\n",
       "    .dataframe tbody tr th:only-of-type {\n",
       "        vertical-align: middle;\n",
       "    }\n",
       "\n",
       "    .dataframe tbody tr th {\n",
       "        vertical-align: top;\n",
       "    }\n",
       "\n",
       "    .dataframe thead th {\n",
       "        text-align: right;\n",
       "    }\n",
       "</style>\n",
       "<table border=\"1\" class=\"dataframe\">\n",
       "  <thead>\n",
       "    <tr style=\"text-align: right;\">\n",
       "      <th></th>\n",
       "      <th>year</th>\n",
       "      <th>Assets</th>\n",
       "    </tr>\n",
       "  </thead>\n",
       "  <tbody>\n",
       "    <tr>\n",
       "      <th>0</th>\n",
       "      <td>2000.0</td>\n",
       "      <td>0.0</td>\n",
       "    </tr>\n",
       "    <tr>\n",
       "      <th>1</th>\n",
       "      <td>2001.0</td>\n",
       "      <td>2358.6</td>\n",
       "    </tr>\n",
       "    <tr>\n",
       "      <th>2</th>\n",
       "      <td>2002.0</td>\n",
       "      <td>2705.4</td>\n",
       "    </tr>\n",
       "    <tr>\n",
       "      <th>3</th>\n",
       "      <td>2003.0</td>\n",
       "      <td>1045.2</td>\n",
       "    </tr>\n",
       "    <tr>\n",
       "      <th>4</th>\n",
       "      <td>2004.0</td>\n",
       "      <td>163.1</td>\n",
       "    </tr>\n",
       "    <tr>\n",
       "      <th>5</th>\n",
       "      <td>2005.0</td>\n",
       "      <td>0.0</td>\n",
       "    </tr>\n",
       "    <tr>\n",
       "      <th>6</th>\n",
       "      <td>2006.0</td>\n",
       "      <td>0.0</td>\n",
       "    </tr>\n",
       "    <tr>\n",
       "      <th>7</th>\n",
       "      <td>2007.0</td>\n",
       "      <td>2602.5</td>\n",
       "    </tr>\n",
       "    <tr>\n",
       "      <th>8</th>\n",
       "      <td>2008.0</td>\n",
       "      <td>373588.8</td>\n",
       "    </tr>\n",
       "    <tr>\n",
       "      <th>9</th>\n",
       "      <td>2009.0</td>\n",
       "      <td>170909.4</td>\n",
       "    </tr>\n",
       "    <tr>\n",
       "      <th>10</th>\n",
       "      <td>2010.0</td>\n",
       "      <td>96514.0</td>\n",
       "    </tr>\n",
       "    <tr>\n",
       "      <th>11</th>\n",
       "      <td>2011.0</td>\n",
       "      <td>36012.2</td>\n",
       "    </tr>\n",
       "    <tr>\n",
       "      <th>12</th>\n",
       "      <td>2012.0</td>\n",
       "      <td>12055.8</td>\n",
       "    </tr>\n",
       "    <tr>\n",
       "      <th>13</th>\n",
       "      <td>2013.0</td>\n",
       "      <td>6101.7</td>\n",
       "    </tr>\n",
       "    <tr>\n",
       "      <th>14</th>\n",
       "      <td>2014.0</td>\n",
       "      <td>3088.4</td>\n",
       "    </tr>\n",
       "    <tr>\n",
       "      <th>15</th>\n",
       "      <td>2015.0</td>\n",
       "      <td>6727.5</td>\n",
       "    </tr>\n",
       "    <tr>\n",
       "      <th>16</th>\n",
       "      <td>2016.0</td>\n",
       "      <td>278.8</td>\n",
       "    </tr>\n",
       "    <tr>\n",
       "      <th>17</th>\n",
       "      <td>2017.0</td>\n",
       "      <td>6530.7</td>\n",
       "    </tr>\n",
       "    <tr>\n",
       "      <th>18</th>\n",
       "      <td>2018.0</td>\n",
       "      <td>0.0</td>\n",
       "    </tr>\n",
       "    <tr>\n",
       "      <th>19</th>\n",
       "      <td>2019.0</td>\n",
       "      <td>214.1</td>\n",
       "    </tr>\n",
       "    <tr>\n",
       "      <th>20</th>\n",
       "      <td>2020.0</td>\n",
       "      <td>458.0</td>\n",
       "    </tr>\n",
       "    <tr>\n",
       "      <th>21</th>\n",
       "      <td>2021.0</td>\n",
       "      <td>0.0</td>\n",
       "    </tr>\n",
       "    <tr>\n",
       "      <th>22</th>\n",
       "      <td>2022.0</td>\n",
       "      <td>0.0</td>\n",
       "    </tr>\n",
       "    <tr>\n",
       "      <th>23</th>\n",
       "      <td>2023.0</td>\n",
       "      <td>548500.0</td>\n",
       "    </tr>\n",
       "  </tbody>\n",
       "</table>\n",
       "</div>"
      ],
      "text/plain": [
       "      year    Assets\n",
       "0   2000.0       0.0\n",
       "1   2001.0    2358.6\n",
       "2   2002.0    2705.4\n",
       "3   2003.0    1045.2\n",
       "4   2004.0     163.1\n",
       "5   2005.0       0.0\n",
       "6   2006.0       0.0\n",
       "7   2007.0    2602.5\n",
       "8   2008.0  373588.8\n",
       "9   2009.0  170909.4\n",
       "10  2010.0   96514.0\n",
       "11  2011.0   36012.2\n",
       "12  2012.0   12055.8\n",
       "13  2013.0    6101.7\n",
       "14  2014.0    3088.4\n",
       "15  2015.0    6727.5\n",
       "16  2016.0     278.8\n",
       "17  2017.0    6530.7\n",
       "18  2018.0       0.0\n",
       "19  2019.0     214.1\n",
       "20  2020.0     458.0\n",
       "21  2021.0       0.0\n",
       "22  2022.0       0.0\n",
       "23  2023.0  548500.0"
      ]
     },
     "execution_count": 92,
     "metadata": {},
     "output_type": "execute_result"
    }
   ],
   "source": [
    "fails_cum"
   ]
  },
  {
   "cell_type": "code",
   "execution_count": 96,
   "id": "2a41d207-db90-4442-aca0-d76c585a89c4",
   "metadata": {
    "tags": []
   },
   "outputs": [],
   "source": [
    "for j in range(66, 90):\n",
    "    fails_cum.Assets[j-66] = fails_cum.Assets[j-66]/inflation.amount[j]"
   ]
  },
  {
   "cell_type": "code",
   "execution_count": 98,
   "id": "288aa22b-35c2-4636-b204-600fe33ca1e1",
   "metadata": {},
   "outputs": [
    {
     "data": {
      "image/png": "[encoded data removed]",
      "text/plain": [
       "<Figure size 2000x700 with 1 Axes>"
      ]
     },
     "metadata": {},
     "output_type": "display_data"
    }
   ],
   "source": [
    "fig, ax = plt.subplots(figsize=(20, 7))\n",
    "\n",
    "#fails = fails.reset_index()\n",
    "fails_cum.plot(ax=ax, x='year', y='Assets')\n",
    "#fails.plot(ax=ax, x='Month', y='Deposits', logy=True)\n",
    "plt.show()"
   ]
  },
  {
   "cell_type": "markdown",
   "id": "732802f9-db63-41c0-bc86-2ef67525dac0",
   "metadata": {},
   "source": [
    "- Alright, we took into account inflation, but this is still looking scary! In fact, the 3 failed banks in 2023 are some of the largest US banks (FDIC insured) to every fail, even after takiinflation!"
   ]
  },
  {
   "cell_type": "markdown",
   "id": "f9dd8f02-24b0-4dff-ac79-8a7831d285cd",
   "metadata": {
    "jp-MarkdownHeadingCollapsed": true,
    "tags": []
   },
   "source": [
    "### Bank failures to 1934\n",
    "\n",
    "- Let us repeat the above steps, but now take all the recorded data, which dates back to 1934."
   ]
  },
  {
   "cell_type": "code",
   "execution_count": 76,
   "id": "0ffa8481-0ed9-417f-9f7a-b31ec2e963f9",
   "metadata": {},
   "outputs": [
    {
     "data": {
      "text/html": [
       "<div>\n",
       "<style scoped>\n",
       "    .dataframe tbody tr th:only-of-type {\n",
       "        vertical-align: middle;\n",
       "    }\n",
       "\n",
       "    .dataframe tbody tr th {\n",
       "        vertical-align: top;\n",
       "    }\n",
       "\n",
       "    .dataframe thead th {\n",
       "        text-align: right;\n",
       "    }\n",
       "</style>\n",
       "<table border=\"1\" class=\"dataframe\">\n",
       "  <thead>\n",
       "    <tr style=\"text-align: right;\">\n",
       "      <th></th>\n",
       "      <th>ï»¿CERT</th>\n",
       "      <th>CHCLASS1</th>\n",
       "      <th>CITYST</th>\n",
       "      <th>COST</th>\n",
       "      <th>FAILDATE</th>\n",
       "      <th>FIN</th>\n",
       "      <th>ID</th>\n",
       "      <th>NAME</th>\n",
       "      <th>QBFASSET</th>\n",
       "      <th>QBFDEP</th>\n",
       "      <th>RESTYPE</th>\n",
       "      <th>RESTYPE1</th>\n",
       "      <th>SAVR</th>\n",
       "    </tr>\n",
       "  </thead>\n",
       "  <tbody>\n",
       "    <tr>\n",
       "      <th>0</th>\n",
       "      <td>NaN</td>\n",
       "      <td>NM</td>\n",
       "      <td>WEST MILWAUKEE, WI</td>\n",
       "      <td>NaN</td>\n",
       "      <td>06/04/1935</td>\n",
       "      <td>0</td>\n",
       "      <td>1</td>\n",
       "      <td>ANCHOR STATE BANK</td>\n",
       "      <td>891.0</td>\n",
       "      <td>718.0</td>\n",
       "      <td>FAILURE</td>\n",
       "      <td>PO</td>\n",
       "      <td>BIF</td>\n",
       "    </tr>\n",
       "    <tr>\n",
       "      <th>1</th>\n",
       "      <td>NaN</td>\n",
       "      <td>NM</td>\n",
       "      <td>PRESIDIO, TX</td>\n",
       "      <td>NaN</td>\n",
       "      <td>11/18/1935</td>\n",
       "      <td>0</td>\n",
       "      <td>10</td>\n",
       "      <td>PRESIDIO VALLEY BANK</td>\n",
       "      <td>73.0</td>\n",
       "      <td>49.0</td>\n",
       "      <td>FAILURE</td>\n",
       "      <td>PO</td>\n",
       "      <td>BIF</td>\n",
       "    </tr>\n",
       "    <tr>\n",
       "      <th>2</th>\n",
       "      <td>NaN</td>\n",
       "      <td>NM</td>\n",
       "      <td>ST. ONGE, SD</td>\n",
       "      <td>NaN</td>\n",
       "      <td>4/30/1937</td>\n",
       "      <td>0</td>\n",
       "      <td>100</td>\n",
       "      <td>ST. ONGE STATE BANK</td>\n",
       "      <td>81.0</td>\n",
       "      <td>61.0</td>\n",
       "      <td>FAILURE</td>\n",
       "      <td>PO</td>\n",
       "      <td>BIF</td>\n",
       "    </tr>\n",
       "    <tr>\n",
       "      <th>3</th>\n",
       "      <td>13797.0</td>\n",
       "      <td>NM</td>\n",
       "      <td>TAYLOR, NE</td>\n",
       "      <td>1653.0</td>\n",
       "      <td>5/31/1985</td>\n",
       "      <td>2466</td>\n",
       "      <td>1000</td>\n",
       "      <td>BANK OF TAYLOR</td>\n",
       "      <td>14542.0</td>\n",
       "      <td>13360.0</td>\n",
       "      <td>FAILURE</td>\n",
       "      <td>PA</td>\n",
       "      <td>BIF</td>\n",
       "    </tr>\n",
       "    <tr>\n",
       "      <th>4</th>\n",
       "      <td>18388.0</td>\n",
       "      <td>NM</td>\n",
       "      <td>FAIRFIELD, NE</td>\n",
       "      <td>1656.0</td>\n",
       "      <td>5/31/1985</td>\n",
       "      <td>6571</td>\n",
       "      <td>1001</td>\n",
       "      <td>FAIRFIELD STATE BANK</td>\n",
       "      <td>6795.0</td>\n",
       "      <td>6034.0</td>\n",
       "      <td>FAILURE</td>\n",
       "      <td>PO</td>\n",
       "      <td>BIF</td>\n",
       "    </tr>\n",
       "  </tbody>\n",
       "</table>\n",
       "</div>"
      ],
      "text/plain": [
       "   ï»¿CERT CHCLASS1              CITYST    COST    FAILDATE   FIN    ID   \n",
       "0      NaN       NM  WEST MILWAUKEE, WI     NaN  06/04/1935     0     1  \\\n",
       "1      NaN       NM        PRESIDIO, TX     NaN  11/18/1935     0    10   \n",
       "2      NaN       NM        ST. ONGE, SD     NaN   4/30/1937     0   100   \n",
       "3  13797.0       NM          TAYLOR, NE  1653.0   5/31/1985  2466  1000   \n",
       "4  18388.0       NM       FAIRFIELD, NE  1656.0   5/31/1985  6571  1001   \n",
       "\n",
       "                   NAME  QBFASSET   QBFDEP  RESTYPE RESTYPE1 SAVR  \n",
       "0     ANCHOR STATE BANK     891.0    718.0  FAILURE       PO  BIF  \n",
       "1  PRESIDIO VALLEY BANK      73.0     49.0  FAILURE       PO  BIF  \n",
       "2   ST. ONGE STATE BANK      81.0     61.0  FAILURE       PO  BIF  \n",
       "3        BANK OF TAYLOR   14542.0  13360.0  FAILURE       PA  BIF  \n",
       "4  FAIRFIELD STATE BANK    6795.0   6034.0  FAILURE       PO  BIF  "
      ]
     },
     "execution_count": 76,
     "metadata": {},
     "output_type": "execute_result"
    }
   ],
   "source": [
    "bank_fail = pd.read_csv('Longbanklist.csv', encoding='windows-1252')\n",
    "bank_fail.head()"
   ]
  },
  {
   "cell_type": "code",
   "execution_count": 77,
   "id": "1c6131c9-b05c-4c67-a23d-a718f2163c58",
   "metadata": {
    "tags": []
   },
   "outputs": [
    {
     "data": {
      "text/html": [
       "<div>\n",
       "<style scoped>\n",
       "    .dataframe tbody tr th:only-of-type {\n",
       "        vertical-align: middle;\n",
       "    }\n",
       "\n",
       "    .dataframe tbody tr th {\n",
       "        vertical-align: top;\n",
       "    }\n",
       "\n",
       "    .dataframe thead th {\n",
       "        text-align: right;\n",
       "    }\n",
       "</style>\n",
       "<table border=\"1\" class=\"dataframe\">\n",
       "  <thead>\n",
       "    <tr style=\"text-align: right;\">\n",
       "      <th></th>\n",
       "      <th>FAILDATE</th>\n",
       "      <th>NAME</th>\n",
       "      <th>QBFASSET</th>\n",
       "      <th>QBFDEP</th>\n",
       "    </tr>\n",
       "  </thead>\n",
       "  <tbody>\n",
       "    <tr>\n",
       "      <th>0</th>\n",
       "      <td>06/04/1935</td>\n",
       "      <td>ANCHOR STATE BANK</td>\n",
       "      <td>891.0</td>\n",
       "      <td>718.0</td>\n",
       "    </tr>\n",
       "    <tr>\n",
       "      <th>1</th>\n",
       "      <td>11/18/1935</td>\n",
       "      <td>PRESIDIO VALLEY BANK</td>\n",
       "      <td>73.0</td>\n",
       "      <td>49.0</td>\n",
       "    </tr>\n",
       "    <tr>\n",
       "      <th>2</th>\n",
       "      <td>4/30/1937</td>\n",
       "      <td>ST. ONGE STATE BANK</td>\n",
       "      <td>81.0</td>\n",
       "      <td>61.0</td>\n",
       "    </tr>\n",
       "    <tr>\n",
       "      <th>3</th>\n",
       "      <td>5/31/1985</td>\n",
       "      <td>BANK OF TAYLOR</td>\n",
       "      <td>14542.0</td>\n",
       "      <td>13360.0</td>\n",
       "    </tr>\n",
       "    <tr>\n",
       "      <th>4</th>\n",
       "      <td>5/31/1985</td>\n",
       "      <td>FAIRFIELD STATE BANK</td>\n",
       "      <td>6795.0</td>\n",
       "      <td>6034.0</td>\n",
       "    </tr>\n",
       "  </tbody>\n",
       "</table>\n",
       "</div>"
      ],
      "text/plain": [
       "     FAILDATE                  NAME  QBFASSET   QBFDEP\n",
       "0  06/04/1935     ANCHOR STATE BANK     891.0    718.0\n",
       "1  11/18/1935  PRESIDIO VALLEY BANK      73.0     49.0\n",
       "2   4/30/1937   ST. ONGE STATE BANK      81.0     61.0\n",
       "3   5/31/1985        BANK OF TAYLOR   14542.0  13360.0\n",
       "4   5/31/1985  FAIRFIELD STATE BANK    6795.0   6034.0"
      ]
     },
     "execution_count": 77,
     "metadata": {},
     "output_type": "execute_result"
    }
   ],
   "source": [
    "bank_fail = bank_fail[['FAILDATE', 'NAME', 'QBFASSET', 'QBFDEP']]\n",
    "bank_fail.head()"
   ]
  },
  {
   "cell_type": "code",
   "execution_count": 78,
   "id": "d1151755-ea84-4ac1-a66a-7c4f2abe1964",
   "metadata": {
    "tags": []
   },
   "outputs": [],
   "source": [
    "bank_fail['Date'] = pd.to_datetime(bank_fail['FAILDATE'], format='%m/%d/%Y') # convert 'date' to actual date"
   ]
  },
  {
   "cell_type": "code",
   "execution_count": 79,
   "id": "dafadfc4-d001-41e0-a34e-11a8acab482a",
   "metadata": {
    "tags": []
   },
   "outputs": [
    {
     "data": {
      "text/html": [
       "<div>\n",
       "<style scoped>\n",
       "    .dataframe tbody tr th:only-of-type {\n",
       "        vertical-align: middle;\n",
       "    }\n",
       "\n",
       "    .dataframe tbody tr th {\n",
       "        vertical-align: top;\n",
       "    }\n",
       "\n",
       "    .dataframe thead th {\n",
       "        text-align: right;\n",
       "    }\n",
       "</style>\n",
       "<table border=\"1\" class=\"dataframe\">\n",
       "  <thead>\n",
       "    <tr style=\"text-align: right;\">\n",
       "      <th></th>\n",
       "      <th>FAILDATE</th>\n",
       "      <th>NAME</th>\n",
       "      <th>QBFASSET</th>\n",
       "      <th>QBFDEP</th>\n",
       "      <th>Date</th>\n",
       "    </tr>\n",
       "  </thead>\n",
       "  <tbody>\n",
       "    <tr>\n",
       "      <th>0</th>\n",
       "      <td>06/04/1935</td>\n",
       "      <td>ANCHOR STATE BANK</td>\n",
       "      <td>891.0</td>\n",
       "      <td>718.0</td>\n",
       "      <td>1935</td>\n",
       "    </tr>\n",
       "    <tr>\n",
       "      <th>1</th>\n",
       "      <td>11/18/1935</td>\n",
       "      <td>PRESIDIO VALLEY BANK</td>\n",
       "      <td>73.0</td>\n",
       "      <td>49.0</td>\n",
       "      <td>1935</td>\n",
       "    </tr>\n",
       "    <tr>\n",
       "      <th>2</th>\n",
       "      <td>4/30/1937</td>\n",
       "      <td>ST. ONGE STATE BANK</td>\n",
       "      <td>81.0</td>\n",
       "      <td>61.0</td>\n",
       "      <td>1937</td>\n",
       "    </tr>\n",
       "    <tr>\n",
       "      <th>3</th>\n",
       "      <td>5/31/1985</td>\n",
       "      <td>BANK OF TAYLOR</td>\n",
       "      <td>14542.0</td>\n",
       "      <td>13360.0</td>\n",
       "      <td>1985</td>\n",
       "    </tr>\n",
       "    <tr>\n",
       "      <th>4</th>\n",
       "      <td>5/31/1985</td>\n",
       "      <td>FAIRFIELD STATE BANK</td>\n",
       "      <td>6795.0</td>\n",
       "      <td>6034.0</td>\n",
       "      <td>1985</td>\n",
       "    </tr>\n",
       "  </tbody>\n",
       "</table>\n",
       "</div>"
      ],
      "text/plain": [
       "     FAILDATE                  NAME  QBFASSET   QBFDEP  Date\n",
       "0  06/04/1935     ANCHOR STATE BANK     891.0    718.0  1935\n",
       "1  11/18/1935  PRESIDIO VALLEY BANK      73.0     49.0  1935\n",
       "2   4/30/1937   ST. ONGE STATE BANK      81.0     61.0  1937\n",
       "3   5/31/1985        BANK OF TAYLOR   14542.0  13360.0  1985\n",
       "4   5/31/1985  FAIRFIELD STATE BANK    6795.0   6034.0  1985"
      ]
     },
     "execution_count": 79,
     "metadata": {},
     "output_type": "execute_result"
    }
   ],
   "source": [
    "bank_fail[\"Date\"] = bank_fail.Date.dt.strftime('%Y')\n",
    "bank_fail.head()"
   ]
  },
  {
   "cell_type": "code",
   "execution_count": 80,
   "id": "e5c3ec00-ed99-4a0d-8976-753c96d38c4d",
   "metadata": {
    "tags": []
   },
   "outputs": [
    {
     "data": {
      "text/html": [
       "<div>\n",
       "<style scoped>\n",
       "    .dataframe tbody tr th:only-of-type {\n",
       "        vertical-align: middle;\n",
       "    }\n",
       "\n",
       "    .dataframe tbody tr th {\n",
       "        vertical-align: top;\n",
       "    }\n",
       "\n",
       "    .dataframe thead th {\n",
       "        text-align: right;\n",
       "    }\n",
       "</style>\n",
       "<table border=\"1\" class=\"dataframe\">\n",
       "  <thead>\n",
       "    <tr style=\"text-align: right;\">\n",
       "      <th></th>\n",
       "      <th>FAILDATE</th>\n",
       "      <th>NAME</th>\n",
       "      <th>QBFASSET</th>\n",
       "      <th>QBFDEP</th>\n",
       "      <th>Date</th>\n",
       "    </tr>\n",
       "  </thead>\n",
       "  <tbody>\n",
       "    <tr>\n",
       "      <th>0</th>\n",
       "      <td>11/16/1934</td>\n",
       "      <td>THE STATE BANK</td>\n",
       "      <td>195.0</td>\n",
       "      <td>170.0</td>\n",
       "      <td>1934</td>\n",
       "    </tr>\n",
       "    <tr>\n",
       "      <th>1</th>\n",
       "      <td>10/13/1934</td>\n",
       "      <td>PICKENS COUNTY BANK</td>\n",
       "      <td>243.0</td>\n",
       "      <td>210.0</td>\n",
       "      <td>1934</td>\n",
       "    </tr>\n",
       "    <tr>\n",
       "      <th>2</th>\n",
       "      <td>10/11/1934</td>\n",
       "      <td>FARMERS &amp; TRADERS BANK</td>\n",
       "      <td>46.0</td>\n",
       "      <td>32.0</td>\n",
       "      <td>1934</td>\n",
       "    </tr>\n",
       "    <tr>\n",
       "      <th>3</th>\n",
       "      <td>9/13/1934</td>\n",
       "      <td>FARMERS STATE BANK OF BONGARDS</td>\n",
       "      <td>91.0</td>\n",
       "      <td>73.0</td>\n",
       "      <td>1934</td>\n",
       "    </tr>\n",
       "    <tr>\n",
       "      <th>4</th>\n",
       "      <td>08/06/1934</td>\n",
       "      <td>BANK OF LEWISPORT</td>\n",
       "      <td>81.0</td>\n",
       "      <td>68.0</td>\n",
       "      <td>1934</td>\n",
       "    </tr>\n",
       "  </tbody>\n",
       "</table>\n",
       "</div>"
      ],
      "text/plain": [
       "     FAILDATE                            NAME  QBFASSET  QBFDEP  Date\n",
       "0  11/16/1934                  THE STATE BANK     195.0   170.0  1934\n",
       "1  10/13/1934             PICKENS COUNTY BANK     243.0   210.0  1934\n",
       "2  10/11/1934          FARMERS & TRADERS BANK      46.0    32.0  1934\n",
       "3   9/13/1934  FARMERS STATE BANK OF BONGARDS      91.0    73.0  1934\n",
       "4  08/06/1934               BANK OF LEWISPORT      81.0    68.0  1934"
      ]
     },
     "execution_count": 80,
     "metadata": {},
     "output_type": "execute_result"
    }
   ],
   "source": [
    "bank_fail = bank_fail.sort_values(['Date'])\n",
    "bank_fail = bank_fail.reset_index(drop=True)\n",
    "bank_fail.head()"
   ]
  },
  {
   "cell_type": "code",
   "execution_count": 81,
   "id": "915ca53d-a7e4-4115-b6e0-57f64d84f2bc",
   "metadata": {
    "tags": []
   },
   "outputs": [
    {
     "name": "stdout",
     "output_type": "stream",
     "text": [
      "<class 'pandas.core.frame.DataFrame'>\n",
      "RangeIndex: 4104 entries, 0 to 4103\n",
      "Data columns (total 5 columns):\n",
      " #   Column    Non-Null Count  Dtype  \n",
      "---  ------    --------------  -----  \n",
      " 0   FAILDATE  4104 non-null   object \n",
      " 1   NAME      4104 non-null   object \n",
      " 2   QBFASSET  3950 non-null   float64\n",
      " 3   QBFDEP    4102 non-null   float64\n",
      " 4   Date      4104 non-null   object \n",
      "dtypes: float64(2), object(3)\n",
      "memory usage: 160.4+ KB\n"
     ]
    }
   ],
   "source": [
    "bank_fail.info()"
   ]
  },
  {
   "cell_type": "code",
   "execution_count": 82,
   "id": "65a1cfcd-406f-442e-9883-dc1fc7826787",
   "metadata": {
    "tags": []
   },
   "outputs": [],
   "source": [
    "bank_fail = bank_fail.replace(to_replace = np.nan, value = 0)"
   ]
  },
  {
   "cell_type": "code",
   "execution_count": 83,
   "id": "5d9d87f2-71a1-4181-99e6-51d8d09d79ca",
   "metadata": {
    "tags": []
   },
   "outputs": [
    {
     "name": "stdout",
     "output_type": "stream",
     "text": [
      "<class 'pandas.core.frame.DataFrame'>\n",
      "RangeIndex: 4104 entries, 0 to 4103\n",
      "Data columns (total 5 columns):\n",
      " #   Column    Non-Null Count  Dtype  \n",
      "---  ------    --------------  -----  \n",
      " 0   FAILDATE  4104 non-null   object \n",
      " 1   NAME      4104 non-null   object \n",
      " 2   QBFASSET  4104 non-null   float64\n",
      " 3   QBFDEP    4104 non-null   float64\n",
      " 4   Date      4104 non-null   object \n",
      "dtypes: float64(2), object(3)\n",
      "memory usage: 160.4+ KB\n"
     ]
    }
   ],
   "source": [
    "bank_fail.info()"
   ]
  },
  {
   "cell_type": "code",
   "execution_count": 84,
   "id": "e4c863ce-c13c-4ad7-81ee-260722f62272",
   "metadata": {
    "tags": []
   },
   "outputs": [
    {
     "data": {
      "text/html": [
       "<div>\n",
       "<style scoped>\n",
       "    .dataframe tbody tr th:only-of-type {\n",
       "        vertical-align: middle;\n",
       "    }\n",
       "\n",
       "    .dataframe tbody tr th {\n",
       "        vertical-align: top;\n",
       "    }\n",
       "\n",
       "    .dataframe thead th {\n",
       "        text-align: right;\n",
       "    }\n",
       "</style>\n",
       "<table border=\"1\" class=\"dataframe\">\n",
       "  <thead>\n",
       "    <tr style=\"text-align: right;\">\n",
       "      <th></th>\n",
       "      <th>FAILDATE</th>\n",
       "      <th>NAME</th>\n",
       "      <th>QBFASSET</th>\n",
       "      <th>QBFDEP</th>\n",
       "      <th>Date</th>\n",
       "    </tr>\n",
       "  </thead>\n",
       "  <tbody>\n",
       "    <tr>\n",
       "      <th>4099</th>\n",
       "      <td>5/31/2019</td>\n",
       "      <td>ENLOE STATE BANK</td>\n",
       "      <td>36738.0</td>\n",
       "      <td>31254.0</td>\n",
       "      <td>2019</td>\n",
       "    </tr>\n",
       "    <tr>\n",
       "      <th>4100</th>\n",
       "      <td>2/14/2020</td>\n",
       "      <td>ERICSON STATE BANK</td>\n",
       "      <td>100879.0</td>\n",
       "      <td>95159.0</td>\n",
       "      <td>2020</td>\n",
       "    </tr>\n",
       "    <tr>\n",
       "      <th>4101</th>\n",
       "      <td>04/03/2020</td>\n",
       "      <td>THE FIRST STATE BANK</td>\n",
       "      <td>151808.0</td>\n",
       "      <td>143102.0</td>\n",
       "      <td>2020</td>\n",
       "    </tr>\n",
       "    <tr>\n",
       "      <th>4102</th>\n",
       "      <td>10/16/2020</td>\n",
       "      <td>FIRST CITY BANK OF FLORIDA</td>\n",
       "      <td>136566.0</td>\n",
       "      <td>133936.0</td>\n",
       "      <td>2020</td>\n",
       "    </tr>\n",
       "    <tr>\n",
       "      <th>4103</th>\n",
       "      <td>10/23/2020</td>\n",
       "      <td>ALMENA STATE BANK</td>\n",
       "      <td>65733.0</td>\n",
       "      <td>64941.0</td>\n",
       "      <td>2020</td>\n",
       "    </tr>\n",
       "  </tbody>\n",
       "</table>\n",
       "</div>"
      ],
      "text/plain": [
       "        FAILDATE                        NAME  QBFASSET    QBFDEP  Date\n",
       "4099   5/31/2019            ENLOE STATE BANK   36738.0   31254.0  2019\n",
       "4100   2/14/2020          ERICSON STATE BANK  100879.0   95159.0  2020\n",
       "4101  04/03/2020        THE FIRST STATE BANK  151808.0  143102.0  2020\n",
       "4102  10/16/2020  FIRST CITY BANK OF FLORIDA  136566.0  133936.0  2020\n",
       "4103  10/23/2020           ALMENA STATE BANK   65733.0   64941.0  2020"
      ]
     },
     "execution_count": 84,
     "metadata": {},
     "output_type": "execute_result"
    }
   ],
   "source": [
    "bank_fail.tail()"
   ]
  },
  {
   "cell_type": "code",
   "execution_count": 85,
   "id": "2d25df1c-20a5-4131-8046-9148d99b0155",
   "metadata": {
    "tags": []
   },
   "outputs": [
    {
     "data": {
      "text/html": [
       "<div>\n",
       "<style scoped>\n",
       "    .dataframe tbody tr th:only-of-type {\n",
       "        vertical-align: middle;\n",
       "    }\n",
       "\n",
       "    .dataframe tbody tr th {\n",
       "        vertical-align: top;\n",
       "    }\n",
       "\n",
       "    .dataframe thead th {\n",
       "        text-align: right;\n",
       "    }\n",
       "</style>\n",
       "<table border=\"1\" class=\"dataframe\">\n",
       "  <thead>\n",
       "    <tr style=\"text-align: right;\">\n",
       "      <th></th>\n",
       "      <th>Year</th>\n",
       "      <th>Number</th>\n",
       "      <th>Assets</th>\n",
       "      <th>Deposits</th>\n",
       "    </tr>\n",
       "  </thead>\n",
       "  <tbody>\n",
       "    <tr>\n",
       "      <th>0</th>\n",
       "      <td>1934</td>\n",
       "      <td>1</td>\n",
       "      <td>195.0</td>\n",
       "      <td>170.0</td>\n",
       "    </tr>\n",
       "  </tbody>\n",
       "</table>\n",
       "</div>"
      ],
      "text/plain": [
       "   Year  Number  Assets  Deposits\n",
       "0  1934       1   195.0     170.0"
      ]
     },
     "execution_count": 85,
     "metadata": {},
     "output_type": "execute_result"
    }
   ],
   "source": [
    "bank_per_year = pd.DataFrame({'Year': [bank_fail[\"Date\"][0]], 'Number': [1], 'Assets': [bank_fail[\"QBFASSET\"][0]], 'Deposits': [bank_fail[\"QBFDEP\"][0]]})\n",
    "bank_per_year"
   ]
  },
  {
   "cell_type": "code",
   "execution_count": 86,
   "id": "c5dcf78c-c1af-4799-b89f-fefc790da52f",
   "metadata": {
    "tags": []
   },
   "outputs": [
    {
     "data": {
      "text/html": [
       "<div>\n",
       "<style scoped>\n",
       "    .dataframe tbody tr th:only-of-type {\n",
       "        vertical-align: middle;\n",
       "    }\n",
       "\n",
       "    .dataframe tbody tr th {\n",
       "        vertical-align: top;\n",
       "    }\n",
       "\n",
       "    .dataframe thead th {\n",
       "        text-align: right;\n",
       "    }\n",
       "</style>\n",
       "<table border=\"1\" class=\"dataframe\">\n",
       "  <thead>\n",
       "    <tr style=\"text-align: right;\">\n",
       "      <th></th>\n",
       "      <th>Year</th>\n",
       "      <th>Number</th>\n",
       "      <th>Assets</th>\n",
       "      <th>Deposits</th>\n",
       "    </tr>\n",
       "  </thead>\n",
       "  <tbody>\n",
       "    <tr>\n",
       "      <th>0</th>\n",
       "      <td>1934</td>\n",
       "      <td>9</td>\n",
       "      <td>2661.0</td>\n",
       "      <td>1966.0</td>\n",
       "    </tr>\n",
       "    <tr>\n",
       "      <th>1</th>\n",
       "      <td>1935</td>\n",
       "      <td>25</td>\n",
       "      <td>12324.0</td>\n",
       "      <td>13377.0</td>\n",
       "    </tr>\n",
       "    <tr>\n",
       "      <th>2</th>\n",
       "      <td>1936</td>\n",
       "      <td>69</td>\n",
       "      <td>12927.0</td>\n",
       "      <td>27762.0</td>\n",
       "    </tr>\n",
       "    <tr>\n",
       "      <th>3</th>\n",
       "      <td>1937</td>\n",
       "      <td>75</td>\n",
       "      <td>19284.0</td>\n",
       "      <td>32804.0</td>\n",
       "    </tr>\n",
       "    <tr>\n",
       "      <th>4</th>\n",
       "      <td>1938</td>\n",
       "      <td>74</td>\n",
       "      <td>13919.0</td>\n",
       "      <td>62064.0</td>\n",
       "    </tr>\n",
       "  </tbody>\n",
       "</table>\n",
       "</div>"
      ],
      "text/plain": [
       "   Year  Number   Assets  Deposits\n",
       "0  1934       9   2661.0    1966.0\n",
       "1  1935      25  12324.0   13377.0\n",
       "2  1936      69  12927.0   27762.0\n",
       "3  1937      75  19284.0   32804.0\n",
       "4  1938      74  13919.0   62064.0"
      ]
     },
     "execution_count": 86,
     "metadata": {},
     "output_type": "execute_result"
    }
   ],
   "source": [
    "count_unique = 1\n",
    "\n",
    "for j in range(1, 4104):\n",
    "    if bank_fail.Date[j] == bank_fail.Date[j-1]:\n",
    "        bank_per_year.Number[count_unique-1] += 1\n",
    "        bank_per_year.Assets[count_unique-1] += bank_fail[\"QBFASSET\"][j]\n",
    "        bank_per_year.Deposits[count_unique-1] += bank_fail[\"QBFDEP\"][j]\n",
    "    else:\n",
    "        bank_per_year.loc[count_unique] = [bank_fail.Date[j], 1, bank_fail[\"QBFASSET\"][j], bank_fail[\"QBFDEP\"][j]]\n",
    "        count_unique += 1\n",
    "\n",
    "#bank_per_year[''] = pd.to_datetime(bank_per_month['Month'], format='%m/%y') # convert 'date' to actual date\n",
    "#bank_per_month = bank_per_month.sort_values(['Month'])\n",
    "# bank_per_month['Month'] = pd.DatetimeIndex(bank_per_month['Month']).normalize()\n",
    "bank_per_year.head()"
   ]
  },
  {
   "cell_type": "code",
   "execution_count": 89,
   "id": "9ca49bad-c0a0-4f74-b472-7159e2fd4be2",
   "metadata": {
    "tags": []
   },
   "outputs": [
    {
     "data": {
      "text/plain": [
       "1677.987474"
      ]
     },
     "execution_count": 89,
     "metadata": {},
     "output_type": "execute_result"
    }
   ],
   "source": [
    "bank_per_year.Assets[72]/1000000"
   ]
  },
  {
   "cell_type": "code",
   "execution_count": 49,
   "id": "8a380086-5766-4977-998f-29a9d090dd53",
   "metadata": {
    "tags": []
   },
   "outputs": [],
   "source": [
    "bank_per_year.Assets = bank_per_year.Assets/1000000\n",
    "bank_per_year.Deposits = bank_per_year.Deposits/1000000 # millions"
   ]
  },
  {
   "cell_type": "code",
   "execution_count": 50,
   "id": "a7e8dc3c-af88-4ad3-93fd-8aa221f25ad2",
   "metadata": {
    "tags": []
   },
   "outputs": [
    {
     "name": "stdout",
     "output_type": "stream",
     "text": [
      "<class 'pandas.core.frame.DataFrame'>\n",
      "Index: 84 entries, 0 to 83\n",
      "Data columns (total 4 columns):\n",
      " #   Column    Non-Null Count  Dtype  \n",
      "---  ------    --------------  -----  \n",
      " 0   Year      84 non-null     object \n",
      " 1   Number    84 non-null     int64  \n",
      " 2   Assets    84 non-null     float64\n",
      " 3   Deposits  84 non-null     float64\n",
      "dtypes: float64(2), int64(1), object(1)\n",
      "memory usage: 5.3+ KB\n"
     ]
    }
   ],
   "source": [
    "bank_per_year.info()"
   ]
  },
  {
   "cell_type": "markdown",
   "id": "e3649028-db8d-4665-bda2-9b112863be74",
   "metadata": {},
   "source": [
    "- I realised that some entries are missing. In particular, the years 2005, 2006, 2018, 2021 and 2022 are the only five years when NO bank failures were recorded! Meanwhile, the dataset did not include the 3 failed banks from early 2023, so we add them manually."
   ]
  },
  {
   "cell_type": "code",
   "execution_count": 51,
   "id": "8c5014e4-6eb9-4082-bd32-2732499a953a",
   "metadata": {
    "tags": []
   },
   "outputs": [],
   "source": [
    "ls = [[2005, 0, 0, 0], [2006, 0, 0, 0], [2018, 0, 0, 0], [2021, 0, 0, 0], [2022, 0, 0, 0], [2023, 3, 548500, 367900]]\n",
    "\n",
    "for j in range(84, 84+6):\n",
    "    bank_per_year.loc[j] = ls[j-84]"
   ]
  },
  {
   "cell_type": "code",
   "execution_count": 52,
   "id": "6cffadce-5db3-459d-a9cf-fefbeff232ed",
   "metadata": {
    "tags": []
   },
   "outputs": [],
   "source": [
    "for j in range(84):\n",
    "    bank_per_year.Year[j] = int(bank_per_year.Year[j])"
   ]
  },
  {
   "cell_type": "code",
   "execution_count": 53,
   "id": "326832c8-02dd-47b1-b884-c7aa6e59d3e4",
   "metadata": {
    "tags": []
   },
   "outputs": [
    {
     "data": {
      "text/html": [
       "<div>\n",
       "<style scoped>\n",
       "    .dataframe tbody tr th:only-of-type {\n",
       "        vertical-align: middle;\n",
       "    }\n",
       "\n",
       "    .dataframe tbody tr th {\n",
       "        vertical-align: top;\n",
       "    }\n",
       "\n",
       "    .dataframe thead th {\n",
       "        text-align: right;\n",
       "    }\n",
       "</style>\n",
       "<table border=\"1\" class=\"dataframe\">\n",
       "  <thead>\n",
       "    <tr style=\"text-align: right;\">\n",
       "      <th></th>\n",
       "      <th>Year</th>\n",
       "      <th>Number</th>\n",
       "      <th>Assets</th>\n",
       "      <th>Deposits</th>\n",
       "    </tr>\n",
       "  </thead>\n",
       "  <tbody>\n",
       "    <tr>\n",
       "      <th>0</th>\n",
       "      <td>1934</td>\n",
       "      <td>9</td>\n",
       "      <td>0.002661</td>\n",
       "      <td>0.001966</td>\n",
       "    </tr>\n",
       "    <tr>\n",
       "      <th>1</th>\n",
       "      <td>1935</td>\n",
       "      <td>25</td>\n",
       "      <td>0.012324</td>\n",
       "      <td>0.013377</td>\n",
       "    </tr>\n",
       "    <tr>\n",
       "      <th>2</th>\n",
       "      <td>1936</td>\n",
       "      <td>69</td>\n",
       "      <td>0.012927</td>\n",
       "      <td>0.027762</td>\n",
       "    </tr>\n",
       "    <tr>\n",
       "      <th>3</th>\n",
       "      <td>1937</td>\n",
       "      <td>75</td>\n",
       "      <td>0.019284</td>\n",
       "      <td>0.032804</td>\n",
       "    </tr>\n",
       "    <tr>\n",
       "      <th>4</th>\n",
       "      <td>1938</td>\n",
       "      <td>74</td>\n",
       "      <td>0.013919</td>\n",
       "      <td>0.062064</td>\n",
       "    </tr>\n",
       "  </tbody>\n",
       "</table>\n",
       "</div>"
      ],
      "text/plain": [
       "   Year  Number    Assets  Deposits\n",
       "0  1934       9  0.002661  0.001966\n",
       "1  1935      25  0.012324  0.013377\n",
       "2  1936      69  0.012927  0.027762\n",
       "3  1937      75  0.019284  0.032804\n",
       "4  1938      74  0.013919  0.062064"
      ]
     },
     "execution_count": 53,
     "metadata": {},
     "output_type": "execute_result"
    }
   ],
   "source": [
    "bank_per_year = bank_per_year.sort_values(['Year'])\n",
    "bank_per_year = bank_per_year.reset_index(drop=True)\n",
    "bank_per_year.head()"
   ]
  },
  {
   "cell_type": "code",
   "execution_count": 54,
   "id": "70da7332-9ff1-4d74-bc3d-958313632467",
   "metadata": {
    "tags": []
   },
   "outputs": [
    {
     "data": {
      "image/png": "[encoded data removed]",
      "text/plain": [
       "<Figure size 2000x700 with 1 Axes>"
      ]
     },
     "metadata": {},
     "output_type": "display_data"
    }
   ],
   "source": [
    "import matplotlib.dates as mdates\n",
    "from matplotlib.dates import DateFormatter\n",
    "\n",
    "from pandas.plotting import register_matplotlib_converters\n",
    "register_matplotlib_converters()\n",
    "\n",
    "fig, ax = plt.subplots(figsize=(20, 7))\n",
    "\n",
    "ax.xaxis.set_major_formatter(DateFormatter(\"%Y\"))\n",
    "bank_per_year.plot(ax = ax, x = 'Year', y = 'Number', kind='bar', width=0.8)\n",
    "#plt.gca().invert_xaxis()\n",
    "#ax.xaxis.set_major_locator(mdates.MonthLocator(interval=1))\n",
    "#ax.set_xticks(np.arange(1934, 2023, 3))\n",
    "\n",
    "#fig.autofmt_xdate()\n",
    "ax.set_ylabel(\"Number of failed banks\")\n",
    "ax.set_title('Number of FDIC insured failed US banks per year', fontsize=15)\n",
    "ax.get_legend().remove()\n",
    "plt.show()"
   ]
  },
  {
   "cell_type": "code",
   "execution_count": 55,
   "id": "7c45ff57-8f40-4b13-a96d-dd50036a9ad8",
   "metadata": {
    "tags": []
   },
   "outputs": [
    {
     "data": {
      "text/html": [
       "<div>\n",
       "<style scoped>\n",
       "    .dataframe tbody tr th:only-of-type {\n",
       "        vertical-align: middle;\n",
       "    }\n",
       "\n",
       "    .dataframe tbody tr th {\n",
       "        vertical-align: top;\n",
       "    }\n",
       "\n",
       "    .dataframe thead th {\n",
       "        text-align: right;\n",
       "    }\n",
       "</style>\n",
       "<table border=\"1\" class=\"dataframe\">\n",
       "  <thead>\n",
       "    <tr style=\"text-align: right;\">\n",
       "      <th></th>\n",
       "      <th>Year</th>\n",
       "      <th>Number</th>\n",
       "      <th>Assets</th>\n",
       "      <th>Deposits</th>\n",
       "    </tr>\n",
       "  </thead>\n",
       "  <tbody>\n",
       "    <tr>\n",
       "      <th>85</th>\n",
       "      <td>2019</td>\n",
       "      <td>4</td>\n",
       "      <td>0.208767</td>\n",
       "      <td>0.190547</td>\n",
       "    </tr>\n",
       "    <tr>\n",
       "      <th>86</th>\n",
       "      <td>2020</td>\n",
       "      <td>4</td>\n",
       "      <td>0.454986</td>\n",
       "      <td>0.437138</td>\n",
       "    </tr>\n",
       "    <tr>\n",
       "      <th>87</th>\n",
       "      <td>2021</td>\n",
       "      <td>0</td>\n",
       "      <td>0.000000</td>\n",
       "      <td>0.000000</td>\n",
       "    </tr>\n",
       "    <tr>\n",
       "      <th>88</th>\n",
       "      <td>2022</td>\n",
       "      <td>0</td>\n",
       "      <td>0.000000</td>\n",
       "      <td>0.000000</td>\n",
       "    </tr>\n",
       "    <tr>\n",
       "      <th>89</th>\n",
       "      <td>2023</td>\n",
       "      <td>3</td>\n",
       "      <td>548500.000000</td>\n",
       "      <td>367900.000000</td>\n",
       "    </tr>\n",
       "  </tbody>\n",
       "</table>\n",
       "</div>"
      ],
      "text/plain": [
       "    Year  Number         Assets       Deposits\n",
       "85  2019       4       0.208767       0.190547\n",
       "86  2020       4       0.454986       0.437138\n",
       "87  2021       0       0.000000       0.000000\n",
       "88  2022       0       0.000000       0.000000\n",
       "89  2023       3  548500.000000  367900.000000"
      ]
     },
     "execution_count": 55,
     "metadata": {},
     "output_type": "execute_result"
    }
   ],
   "source": [
    "bank_per_year.tail()"
   ]
  }
 ],
 "metadata": {
  "kernelspec": {
   "display_name": "Python 3 (ipykernel)",
   "language": "python",
   "name": "python3"
  },
  "language_info": {
   "codemirror_mode": {
    "name": "ipython",
    "version": 3
   },
   "file_extension": ".py",
   "mimetype": "text/x-python",
   "name": "python",
   "nbconvert_exporter": "python",
   "pygments_lexer": "ipython3",
   "version": "3.11.3"
  }
 },
 "nbformat": 4,
 "nbformat_minor": 5
}
